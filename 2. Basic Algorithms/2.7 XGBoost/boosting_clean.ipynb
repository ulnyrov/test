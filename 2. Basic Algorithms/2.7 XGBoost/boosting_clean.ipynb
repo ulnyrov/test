{
 "cells": [
  {
   "cell_type": "markdown",
   "metadata": {},
   "source": [
    "# ЗАНЯТИЕ 2.7. БУСТИНГ. ОБЗОР БИБЛИОТЕКИ XGBOOST"
   ]
  },
  {
   "cell_type": "markdown",
   "metadata": {},
   "source": [
    "Загружаем библиотеки"
   ]
  },
  {
   "cell_type": "code",
   "execution_count": null,
   "metadata": {
    "ExecuteTime": {
     "end_time": "2018-04-26T08:08:29.935174Z",
     "start_time": "2018-04-26T08:08:29.915148Z"
    },
    "collapsed": true
   },
   "outputs": [],
   "source": [
    "import matplotlib.pyplot as plt\n",
    "import pandas as pd\n",
    "import numpy as np\n",
    "import tqdm\n",
    "\n",
    "%matplotlib inline\n",
    "%config InlineBackend.figure_format = 'retina'\n",
    "\n",
    "#устраним ошибки со шрифтами\n",
    "from matplotlib import rcParams\n",
    "rcParams['font.family'] = 'sans-serif'\n",
    "rcParams['font.sans-serif'] = ['DejaVu Sans']"
   ]
  },
  {
   "cell_type": "markdown",
   "metadata": {},
   "source": [
    "## Описание задачи\n",
    "\n",
    "Используем данные страхового подразделения BNP Paribas из соревнования\n",
    "\n",
    "https://www.kaggle.com/c/bnp-paribas-cardif-claims-management\n",
    "\n",
    "Решается задача классификации страховых случаев:\n",
    "    1. Случаи, требующие дополнительных документов для подтвердения (0)\n",
    "    2. Случаи, которые можно подтверждать автоматически на основе имеющейся информации (1)"
   ]
  },
  {
   "cell_type": "markdown",
   "metadata": {},
   "source": [
    "## Загрузка данных"
   ]
  },
  {
   "cell_type": "code",
   "execution_count": null,
   "metadata": {
    "ExecuteTime": {
     "end_time": "2018-04-26T08:08:34.447495Z",
     "start_time": "2018-04-26T08:08:32.039845Z"
    },
    "collapsed": true
   },
   "outputs": [],
   "source": [
    "data = pd.read_csv('train.csv')"
   ]
  },
  {
   "cell_type": "markdown",
   "metadata": {},
   "source": [
    "Уменьшим размер данных для ускорения обучения, возмем случайную подвыборку 20% данных со стратификацией"
   ]
  },
  {
   "cell_type": "code",
   "execution_count": null,
   "metadata": {
    "ExecuteTime": {
     "end_time": "2018-04-26T08:08:45.030900Z",
     "start_time": "2018-04-26T08:08:38.167336Z"
    },
    "collapsed": true
   },
   "outputs": [],
   "source": [
    "from sklearn.model_selection import StratifiedShuffleSplit\n",
    "\n",
    "random_splitter = StratifiedShuffleSplit(n_splits=1, test_size=0.2, random_state=777)\n",
    "\n",
    "for train_index, test_index in random_splitter.split(data, data.target):\n",
    "    data = data.iloc[test_index]"
   ]
  },
  {
   "cell_type": "code",
   "execution_count": null,
   "metadata": {
    "ExecuteTime": {
     "end_time": "2018-04-26T08:08:53.733715Z",
     "start_time": "2018-04-26T08:08:53.721699Z"
    }
   },
   "outputs": [],
   "source": [
    "data.shape"
   ]
  },
  {
   "cell_type": "markdown",
   "metadata": {},
   "source": [
    "Разбиение на обучение и hold-out тест 70/30. Данных достаточно много, поэтому можно принебречь честной кросс-валидацией и оценивать модель на тесте"
   ]
  },
  {
   "cell_type": "code",
   "execution_count": null,
   "metadata": {
    "ExecuteTime": {
     "end_time": "2018-04-26T08:08:54.923617Z",
     "start_time": "2018-04-26T08:08:54.879560Z"
    },
    "collapsed": true
   },
   "outputs": [],
   "source": [
    "splitter = StratifiedShuffleSplit(n_splits=1, test_size=0.3, random_state=777)\n",
    "\n",
    "for train_index, test_index in splitter.split(data, data.target):\n",
    "    d_train = data.iloc[train_index]\n",
    "    d_test = data.iloc[test_index]\n",
    "    \n",
    "    y_train = data['target'].iloc[train_index]\n",
    "    y_test = data['target'].iloc[test_index]"
   ]
  },
  {
   "cell_type": "markdown",
   "metadata": {},
   "source": [
    "## Первичный анализ"
   ]
  },
  {
   "cell_type": "markdown",
   "metadata": {},
   "source": [
    "Размер датасета"
   ]
  },
  {
   "cell_type": "code",
   "execution_count": null,
   "metadata": {
    "ExecuteTime": {
     "end_time": "2018-04-26T08:08:57.764304Z",
     "start_time": "2018-04-26T08:08:57.756291Z"
    }
   },
   "outputs": [],
   "source": [
    "data.shape"
   ]
  },
  {
   "cell_type": "markdown",
   "metadata": {},
   "source": [
    "Распределение значений таргета (event rate)"
   ]
  },
  {
   "cell_type": "code",
   "execution_count": null,
   "metadata": {
    "ExecuteTime": {
     "end_time": "2018-04-26T08:08:58.993749Z",
     "start_time": "2018-04-26T08:08:58.981735Z"
    }
   },
   "outputs": [],
   "source": [
    "data.target.value_counts() / len(data)"
   ]
  },
  {
   "cell_type": "markdown",
   "metadata": {},
   "source": [
    "## Предобработка данных"
   ]
  },
  {
   "cell_type": "markdown",
   "metadata": {},
   "source": [
    "Находим категориальные признаки\n",
    "\n",
    "Чтобы в разы не увеличивать число признаков при построении dummy, будем использовать категориальные признаки с < 30 уникальных значений"
   ]
  },
  {
   "cell_type": "code",
   "execution_count": null,
   "metadata": {
    "ExecuteTime": {
     "end_time": "2018-04-26T08:09:02.430067Z",
     "start_time": "2018-04-26T08:09:02.282122Z"
    }
   },
   "outputs": [],
   "source": [
    "cat_feat = list(data.dtypes[data.dtypes == object].index)\n",
    "\n",
    "#закодируем пропущенные значений строкой, факт пропущенного значения тоже может нести в себе информацию\n",
    "data[cat_feat] = data[cat_feat].fillna('nan')\n",
    "\n",
    "#отфильтруем непрерывные признаки\n",
    "num_feat = [f for f in data if f not in (cat_feat + ['ID', 'target'])]\n",
    "\n",
    "cat_nunique = d_train[cat_feat].nunique()\n",
    "print(cat_nunique)\n",
    "cat_feat = list(cat_nunique[cat_nunique < 30].index)"
   ]
  },
  {
   "cell_type": "code",
   "execution_count": null,
   "metadata": {
    "ExecuteTime": {
     "end_time": "2018-04-26T08:09:04.250622Z",
     "start_time": "2018-04-26T08:09:04.242607Z"
    },
    "collapsed": true
   },
   "outputs": [],
   "source": [
    "from sklearn.metrics import auc, roc_curve"
   ]
  },
  {
   "cell_type": "markdown",
   "metadata": {},
   "source": [
    "**Создаем признаки для \"деревянных\" моделей**\n",
    "\n",
    "1. Заменяем пропуски на специальное значение -999, чтобы деревья могли их отличить\n",
    "3. Создаем дамми-переменные для категорий"
   ]
  },
  {
   "cell_type": "code",
   "execution_count": null,
   "metadata": {
    "ExecuteTime": {
     "end_time": "2018-04-26T08:09:05.738668Z",
     "start_time": "2018-04-26T08:09:05.603523Z"
    },
    "collapsed": true
   },
   "outputs": [],
   "source": [
    "dummy_train = pd.get_dummies(d_train[cat_feat], columns=cat_feat)\n",
    "dummy_test = pd.get_dummies(d_test[cat_feat], columns=cat_feat)\n",
    "\n",
    "dummy_cols = list(set(dummy_train) & set(dummy_test))\n",
    "\n",
    "dummy_train = dummy_train[dummy_cols]\n",
    "dummy_test = dummy_test[dummy_cols]\n",
    "\n",
    "\n",
    "X_train = pd.concat([d_train[num_feat].fillna(-999),\n",
    "                     dummy_train], axis=1)\n",
    "\n",
    "X_test = pd.concat([d_test[num_feat].fillna(-999),\n",
    "                     dummy_test], axis=1)"
   ]
  },
  {
   "cell_type": "markdown",
   "metadata": {
    "ExecuteTime": {
     "end_time": "2018-04-25T23:33:03.321847Z",
     "start_time": "2018-04-25T23:33:03.316834Z"
    }
   },
   "source": [
    "**Добавляем средние значения таргета внутри всех категориальных признаков по фолдам, через стекинг**"
   ]
  },
  {
   "cell_type": "code",
   "execution_count": null,
   "metadata": {
    "ExecuteTime": {
     "end_time": "2018-04-26T08:09:12.648809Z",
     "start_time": "2018-04-26T08:09:08.108417Z"
    }
   },
   "outputs": [],
   "source": [
    "class MeanClassifier():\n",
    "    def __init__(self, col):\n",
    "        self._col = col\n",
    "        \n",
    "    def fit(self, X, y):\n",
    "        self._y_mean = y.mean()\n",
    "        self._means = y.groupby(X[self._col].astype(str)).mean()\n",
    "\n",
    "    def predict_proba(self, X):\n",
    "        new_feature = X[self._col].astype(str)\\\n",
    "            .map(self._means.to_dict())\\\n",
    "            .fillna(self._y_mean)\n",
    "        return np.stack([1-new_feature, new_feature], axis=1)\n",
    "    \n",
    "    \n",
    "def get_meta_features(clf, X_train, y_train, X_test, stack_cv):\n",
    "    meta_train = np.zeros_like(y_train, dtype=float)\n",
    "    meta_test = np.zeros_like(y_test, dtype=float)\n",
    "    \n",
    "    for i, (train_ind, test_ind) in enumerate(stack_cv.split(X_train, y_train)):\n",
    "        \n",
    "        clf.fit(X_train.iloc[train_ind], y_train.iloc[train_ind])\n",
    "        meta_train[test_ind] = clf.predict_proba(X_train.iloc[test_ind])[:, 1]\n",
    "        meta_test += clf.predict_proba(X_test)[:, 1]\n",
    "    \n",
    "    return meta_train, meta_test / stack_cv.n_splits\n",
    "\n",
    "\n",
    "from sklearn.model_selection import StratifiedKFold\n",
    "\n",
    "stack_cv = StratifiedKFold(n_splits=10, random_state=555)\n",
    "\n",
    "meta_train = []\n",
    "meta_test = []\n",
    "col_names = []\n",
    "\n",
    "for c in tqdm.tqdm(cat_nunique.index.tolist()):\n",
    "    clf = MeanClassifier(c)\n",
    "    \n",
    "    meta_tr, meta_te = get_meta_features(clf, d_train, y_train, d_test, stack_cv)\n",
    "\n",
    "    meta_train.append(meta_tr)\n",
    "    meta_test.append(meta_te)\n",
    "    col_names.append('mean_pred_{}'.format(c))\n",
    "\n",
    "X_mean_train = pd.DataFrame(np.stack(meta_train, axis=1), columns=col_names, index=d_train.index)\n",
    "X_mean_test = pd.DataFrame(np.stack(meta_test, axis=1), columns=col_names, index=d_test.index)\n",
    "\n",
    "X_train = pd.concat([X_train, X_mean_train], axis=1)\n",
    "X_test = pd.concat([X_test, X_mean_test], axis=1)"
   ]
  },
  {
   "cell_type": "markdown",
   "metadata": {},
   "source": [
    "#### Считаем ROC AUC"
   ]
  },
  {
   "cell_type": "code",
   "execution_count": null,
   "metadata": {
    "ExecuteTime": {
     "end_time": "2018-04-26T08:09:13.930260Z",
     "start_time": "2018-04-26T08:09:13.914237Z"
    },
    "collapsed": true
   },
   "outputs": [],
   "source": [
    "def calc_auc(y, y_pred, plot_label='', prin=True):\n",
    "    fpr, tpr, _ = roc_curve(y, y_pred)\n",
    "    auc_val = auc(fpr, tpr)\n",
    "    if prin:\n",
    "        print('ROC AUC: {0:.4f}'.format(auc_val))\n",
    "    if plot_label:\n",
    "        plt.plot(fpr, tpr, label=plot_label)\n",
    "        plt.xlabel('FPR')\n",
    "        plt.ylabel('TPR')\n",
    "    return auc_val"
   ]
  },
  {
   "cell_type": "markdown",
   "metadata": {},
   "source": [
    "## Обучение моделей"
   ]
  },
  {
   "cell_type": "markdown",
   "metadata": {},
   "source": [
    "### Случайный лес"
   ]
  },
  {
   "cell_type": "markdown",
   "metadata": {},
   "source": [
    "Предсказываем вероятность класса 1 и считаем ROC AUC"
   ]
  },
  {
   "cell_type": "code",
   "execution_count": null,
   "metadata": {
    "ExecuteTime": {
     "end_time": "2018-04-26T08:15:47.255701Z",
     "start_time": "2018-04-26T08:15:33.106506Z"
    }
   },
   "outputs": [],
   "source": [
    "from sklearn.ensemble import RandomForestClassifier\n",
    "\n",
    "clf_rf = RandomForestClassifier(n_estimators=50, max_depth=15, min_samples_leaf=20, max_features=0.8, n_jobs=-1)\n",
    "\n",
    "clf_rf.fit(X_train, y_train)"
   ]
  },
  {
   "cell_type": "code",
   "execution_count": null,
   "metadata": {
    "ExecuteTime": {
     "end_time": "2018-04-26T08:15:50.500044Z",
     "start_time": "2018-04-26T08:15:49.938494Z"
    }
   },
   "outputs": [],
   "source": [
    "y_pred_rf_test = clf_rf.predict_proba(X_test)[:, 1]\n",
    "y_pred_rf_train = clf_rf.predict_proba(X_train)[:, 1]\n",
    "\n",
    "print('Train:')\n",
    "calc_auc(y_train, y_pred_rf_train, 'train')\n",
    "print('Test:')\n",
    "calc_auc(y_test, y_pred_rf_test, 'test')\n",
    "plt.legend();"
   ]
  },
  {
   "cell_type": "markdown",
   "metadata": {},
   "source": [
    "### Бустинг в sklearn"
   ]
  },
  {
   "cell_type": "code",
   "execution_count": null,
   "metadata": {
    "ExecuteTime": {
     "end_time": "2018-04-26T10:08:47.440200Z",
     "start_time": "2018-04-26T10:08:47.432190Z"
    },
    "collapsed": true
   },
   "outputs": [],
   "source": [
    "from sklearn.ensemble import AdaBoostClassifier, GradientBoostingClassifier\n",
    "from sklearn.tree import DecisionTreeClassifier"
   ]
  },
  {
   "cell_type": "markdown",
   "metadata": {},
   "source": [
    "Adaboost"
   ]
  },
  {
   "cell_type": "code",
   "execution_count": null,
   "metadata": {
    "ExecuteTime": {
     "end_time": "2018-04-26T10:38:08.023105Z",
     "start_time": "2018-04-26T10:37:55.943611Z"
    }
   },
   "outputs": [],
   "source": [
    "clf_ada = AdaBoostClassifier(DecisionTreeClassifier(max_depth=5, min_samples_leaf=20, max_features=0.8),\n",
    "                             n_estimators=20, learning_rate=0.1)\n",
    "\n",
    "clf_ada.fit(X_train, y_train)\n",
    "y_pred_ada_test = clf_ada.predict_proba(X_test)[:, 1]\n",
    "y_pred_ada_train = clf_ada.predict_proba(X_train)[:, 1]\n",
    "\n",
    "print('Train:')\n",
    "calc_auc(y_train, y_pred_ada_train, 'train')\n",
    "print('Test:')\n",
    "calc_auc(y_test, y_pred_ada_test, 'test')\n",
    "plt.legend();"
   ]
  },
  {
   "cell_type": "markdown",
   "metadata": {},
   "source": [
    "GradientBoosting"
   ]
  },
  {
   "cell_type": "code",
   "execution_count": null,
   "metadata": {
    "ExecuteTime": {
     "end_time": "2018-04-26T10:37:50.103771Z",
     "start_time": "2018-04-26T10:37:43.457709Z"
    }
   },
   "outputs": [],
   "source": [
    "clf_gbm = GradientBoostingClassifier(max_depth=5, min_samples_leaf=20, n_estimators=20, learning_rate=0.1, \n",
    "                                     subsample=0.8, max_features=0.8, verbose=2)\n",
    "\n",
    "clf_gbm.fit(X_train, y_train)\n",
    "y_pred_gbm_test = clf_gbm.predict_proba(X_test)[:, 1]\n",
    "y_pred_gbm_train = clf_gbm.predict_proba(X_train)[:, 1]\n",
    "\n",
    "print('Train:')\n",
    "calc_auc(y_train, y_pred_gbm_train, 'train')\n",
    "print('Test:')\n",
    "calc_auc(y_test, y_pred_gbm_test, 'test')\n",
    "plt.legend();"
   ]
  },
  {
   "cell_type": "markdown",
   "metadata": {},
   "source": [
    "### XGBOOST"
   ]
  },
  {
   "cell_type": "code",
   "execution_count": null,
   "metadata": {
    "ExecuteTime": {
     "end_time": "2018-04-26T08:17:33.628311Z",
     "start_time": "2018-04-26T08:17:33.194379Z"
    },
    "collapsed": true
   },
   "outputs": [],
   "source": [
    "import xgboost as xgb"
   ]
  },
  {
   "cell_type": "markdown",
   "metadata": {
    "ExecuteTime": {
     "end_time": "2018-04-26T08:18:07.469330Z",
     "start_time": "2018-04-26T08:18:07.449305Z"
    }
   },
   "source": [
    "**Важные гиперпараметры алгоритма**\n",
    "\n",
    "a. Параметры деревьев\n",
    "    1. max_depth - максимальная глубина дерева (обычно 3-10, больше глубина -> больше риск переобучения)\n",
    "    2. min_child_weight - минимальное число объектов в листе (обычно до 20, больше объектов -> меньше риск переобучения, но должен быть согласован с глубиной дерева)\n",
    "    3. gamma - минимально необходимый прирост качества для разбиения листа (редко используется)\n",
    "\n",
    "b. Параметры бустинга\n",
    "    0. objective - оптимизируемый функционал (встроен для классификации и регрессии, можно написать свой дифференцируемый)\n",
    "    1. n_estimators - кол-во базовых алгоритмов (чем меньше learning_rate, тем больше деревьев)\n",
    "    2. learning_rate - шаг создания ансамбля (зависит от n_estimators, но обычно 0.01 - 0.1)\n",
    "    2. colsample_bytree - доля признаков, случайно выбирающихся для построения дерева\n",
    "    3. subsample - доля объектов, случайно выбирающихся для построения дерева\n",
    "    4. n_jobs - кол-во потоков для одновременного построения деревьев (большая прибавка к скорости на многоядерных процах)\n",
    "    5. reg_alpha - вес L1 регуляризации (редко используется)\n",
    "    6. reg_lambda - вес L2 регуляризации (редко используется)"
   ]
  },
  {
   "cell_type": "markdown",
   "metadata": {},
   "source": [
    "Параметры по умолчанию"
   ]
  },
  {
   "cell_type": "code",
   "execution_count": null,
   "metadata": {
    "ExecuteTime": {
     "end_time": "2018-04-26T10:20:26.421747Z",
     "start_time": "2018-04-26T10:20:19.963783Z"
    }
   },
   "outputs": [],
   "source": [
    "params = {'n_estimators': 100,\n",
    "          'learning_rate': 0.1,\n",
    "          'max_depth': 3,\n",
    "          'min_child_weight': 1,\n",
    "          'subsample': 1,\n",
    "          'colsample_bytree': 1,\n",
    "          'n_jobs': 4}\n",
    "\n",
    "clf_xgb = xgb.XGBClassifier(**params)\n",
    "clf_xgb.fit(X_train, y_train)"
   ]
  },
  {
   "cell_type": "code",
   "execution_count": null,
   "metadata": {
    "ExecuteTime": {
     "end_time": "2018-04-26T08:34:44.455117Z",
     "start_time": "2018-04-26T08:34:43.946222Z"
    }
   },
   "outputs": [],
   "source": [
    "y_pred_xgb_test = clf_xgb.predict_proba(X_test)[:, 1]\n",
    "y_pred_xgb_train = clf_xgb.predict_proba(X_train)[:, 1]\n",
    "\n",
    "print('Train:')\n",
    "calc_auc(y_train, y_pred_xgb_train, 'train')\n",
    "print('Test:')\n",
    "calc_auc(y_test, y_pred_xgb_test, 'test')\n",
    "plt.legend();"
   ]
  },
  {
   "cell_type": "markdown",
   "metadata": {},
   "source": [
    "#### Онлайн оценка качества "
   ]
  },
  {
   "cell_type": "markdown",
   "metadata": {},
   "source": [
    "Во время обучения можно следить за качеством во время каждой итерации\n",
    "\n",
    "Для этого используются параметры:\n",
    "    1. eval_metric - метрика 'auc', 'rmse', 'logloss', ...\n",
    "    2. eval_set - список выборок вида [(X, y), ...] на которых тестировать алгоритм"
   ]
  },
  {
   "cell_type": "code",
   "execution_count": null,
   "metadata": {
    "ExecuteTime": {
     "end_time": "2018-04-26T08:35:19.128072Z",
     "start_time": "2018-04-26T08:35:00.603304Z"
    },
    "scrolled": true
   },
   "outputs": [],
   "source": [
    "params = {'n_estimators': 100,\n",
    "          'learning_rate': 0.1,\n",
    "          'max_depth': 3,\n",
    "          'min_child_weight': 1,\n",
    "          'subsample': 1,\n",
    "          'colsample_bytree': 1,\n",
    "          'n_jobs': 4}\n",
    "clf_xgb = xgb.XGBClassifier(**params)\n",
    "\n",
    "clf_xgb.fit(X_train, y_train, eval_metric='auc', eval_set=[[X_train, y_train], [X_test, y_test]])"
   ]
  },
  {
   "cell_type": "markdown",
   "metadata": {},
   "source": [
    "### Самостоятельное задание"
   ]
  },
  {
   "cell_type": "markdown",
   "metadata": {
    "ExecuteTime": {
     "end_time": "2018-04-26T10:33:28.304675Z",
     "start_time": "2018-04-26T10:33:28.296665Z"
    }
   },
   "source": [
    "Сравнить алгоритмы AdaBoost, GradientBoostingClassifier и Xgboost с похожим набором параметров"
   ]
  },
  {
   "cell_type": "code",
   "execution_count": null,
   "metadata": {
    "ExecuteTime": {
     "end_time": "2018-04-26T10:34:11.793304Z",
     "start_time": "2018-04-26T10:34:11.785326Z"
    },
    "collapsed": true
   },
   "outputs": [],
   "source": [
    "### TODO\n",
    "\n",
    "\n",
    "\n",
    "\n",
    "\n",
    "\n",
    "\n",
    "\n",
    "\n",
    "\n",
    "\n",
    "\n",
    "\n",
    "### TODO"
   ]
  },
  {
   "cell_type": "markdown",
   "metadata": {},
   "source": [
    "Возмем параметры, с которых лучше всего начать"
   ]
  },
  {
   "cell_type": "code",
   "execution_count": null,
   "metadata": {
    "ExecuteTime": {
     "end_time": "2018-04-26T08:37:25.888518Z",
     "start_time": "2018-04-26T08:37:02.874039Z"
    },
    "scrolled": true
   },
   "outputs": [],
   "source": [
    "params = {'n_estimators': 100,\n",
    "          'learning_rate': 0.1,\n",
    "          'max_depth': 5,\n",
    "          'min_child_weight': 1,\n",
    "          'subsample': 0.8,\n",
    "          'colsample_bytree': 0.8,\n",
    "          'n_jobs': 4}\n",
    "clf_xgb = xgb.XGBClassifier(**params)\n",
    "\n",
    "clf_xgb.fit(X_train, y_train, eval_metric='auc', eval_set=[[X_train, y_train], [X_test, y_test]])"
   ]
  },
  {
   "cell_type": "markdown",
   "metadata": {},
   "source": [
    "Достанем из объекта clf_xgb списки результатов метрик по итерациям, построим графики"
   ]
  },
  {
   "cell_type": "code",
   "execution_count": null,
   "metadata": {
    "ExecuteTime": {
     "end_time": "2018-04-26T08:37:27.215704Z",
     "start_time": "2018-04-26T08:37:26.815687Z"
    }
   },
   "outputs": [],
   "source": [
    "def save_online_metric(clf):\n",
    "    return pd.DataFrame({'train': clf.evals_result()['validation_0']['auc'],\n",
    "                         'test': clf.evals_result()['validation_1']['auc']})\n",
    "res = save_online_metric(clf_xgb)\n",
    "res.plot(title='ROC AUC')\n",
    "plt.xlabel('iteration number')\n",
    "plt.figure()\n",
    "res.test.plot(ylim=(0.73, 0.74), title='ROC AUC TEST')\n",
    "plt.xlabel('iteration number')"
   ]
  },
  {
   "cell_type": "markdown",
   "metadata": {},
   "source": [
    "Нужно побороть переобучение, уменьшим learning_rate. Также уменьшим кол-во деревьев для ускорения обучения"
   ]
  },
  {
   "cell_type": "code",
   "execution_count": null,
   "metadata": {
    "ExecuteTime": {
     "end_time": "2018-04-26T08:37:46.351543Z",
     "start_time": "2018-04-26T08:37:34.786692Z"
    },
    "scrolled": true
   },
   "outputs": [],
   "source": [
    "params = {'n_estimators': 50,\n",
    "          'learning_rate': 0.03,\n",
    "          'max_depth': 5,\n",
    "          'min_child_weight': 1,\n",
    "          'subsample': 0.8,\n",
    "          'colsample_bytree': 0.8,\n",
    "          'n_jobs': 4}\n",
    "clf_xgb = xgb.XGBClassifier(**params)\n",
    "\n",
    "clf_xgb.fit(X_train, y_train, eval_metric='auc', eval_set=[[X_train, y_train], [X_test, y_test]])\n",
    "\n",
    "best_params = params"
   ]
  },
  {
   "cell_type": "markdown",
   "metadata": {
    "ExecuteTime": {
     "end_time": "2018-04-26T00:59:24.922624Z",
     "start_time": "2018-04-26T00:59:24.917104Z"
    }
   },
   "source": [
    "### Перебор параметров по сетке"
   ]
  },
  {
   "cell_type": "markdown",
   "metadata": {},
   "source": [
    "Опишем функцию, похожую на GridSearchCV, только для одной отложенной выборки X_test. Она перебирает параметки по заданной сетке и возврашает лучшие по ROC AUC"
   ]
  },
  {
   "cell_type": "code",
   "execution_count": null,
   "metadata": {
    "ExecuteTime": {
     "end_time": "2018-04-26T08:37:59.691341Z",
     "start_time": "2018-04-26T08:37:59.675349Z"
    },
    "collapsed": true
   },
   "outputs": [],
   "source": [
    "def find_params(clf, param_grid):\n",
    "    clf = GridSearchCV(clf, param_grid, scoring='roc_auc', cv=[(np.arange(len(X_train)),\n",
    "                                                               np.arange(len(X_test)) + len(X_train))],\n",
    "                  verbose=3)\n",
    "\n",
    "    clf.fit(pd.concat([X_train, X_test]).values, pd.concat([y_train, y_test]).values)\n",
    "    best_params = clf.best_estimator_.get_params()\n",
    "    print('Best test ROC AUC: ', clf.best_score_)\n",
    "    print('Best params: ', best_params)\n",
    "    return best_params"
   ]
  },
  {
   "cell_type": "markdown",
   "metadata": {},
   "source": [
    "**Процесс подбора параметров**:\n",
    "\n",
    "1. Зафиксируем learning_rate и n_estimators, чтобы модель не переобучалась во время итераций\n",
    "2. Настраиваем параметры деревьев: max_depth и min_child_weight\n",
    "3. Настраиваем gamma (опционально)\n",
    "4. Настраиваем subsample и colsample_bytree\n",
    "5. Настраиваем регуляризацию reg_lambda и reg_alpha\n",
    "6. Уменьшаем learning_rate, увеличиваем кол-во деревьев и обучаем заново на лучших параметрах"
   ]
  },
  {
   "cell_type": "markdown",
   "metadata": {
    "ExecuteTime": {
     "end_time": "2018-04-26T01:11:38.717718Z",
     "start_time": "2018-04-26T01:11:38.712703Z"
    }
   },
   "source": [
    "#### Подбираем max_depth и min_child_weight"
   ]
  },
  {
   "cell_type": "code",
   "execution_count": null,
   "metadata": {
    "ExecuteTime": {
     "end_time": "2018-04-26T05:52:53.749323Z",
     "start_time": "2018-04-26T05:50:39.822382Z"
    },
    "scrolled": true
   },
   "outputs": [],
   "source": [
    "from sklearn.model_selection import GridSearchCV\n",
    "\n",
    "clf_xgb = xgb.XGBClassifier(**best_params)\n",
    "\n",
    "param_grid = {\n",
    "    'max_depth': [3, 5, 10],\n",
    "    'min_child_weight': [10, 20, 100]#[1, 5, 10]\n",
    "}\n",
    "\n",
    "best_params = find_params(clf_xgb, param_grid)"
   ]
  },
  {
   "cell_type": "markdown",
   "metadata": {
    "ExecuteTime": {
     "end_time": "2018-04-26T01:11:38.717718Z",
     "start_time": "2018-04-26T01:11:38.712703Z"
    }
   },
   "source": [
    "#### Подбираем gamma"
   ]
  },
  {
   "cell_type": "code",
   "execution_count": null,
   "metadata": {
    "ExecuteTime": {
     "end_time": "2018-04-26T01:14:34.611791Z",
     "start_time": "2018-04-26T01:13:25.176553Z"
    }
   },
   "outputs": [],
   "source": [
    "clf_xgb = xgb.XGBClassifier(**best_params)\n",
    "\n",
    "param_grid = {\n",
    "    'gamma': np.linspace(0, 0.5, 5)\n",
    "}\n",
    "\n",
    "best_params = find_params(clf_xgb, param_grid)"
   ]
  },
  {
   "cell_type": "markdown",
   "metadata": {
    "ExecuteTime": {
     "end_time": "2018-04-26T04:31:16.807992Z",
     "start_time": "2018-04-26T04:31:16.799971Z"
    }
   },
   "source": [
    "#### Подбираем subsample и colsample_bytree"
   ]
  },
  {
   "cell_type": "code",
   "execution_count": null,
   "metadata": {
    "ExecuteTime": {
     "end_time": "2018-04-26T04:40:00.461798Z",
     "start_time": "2018-04-26T04:33:42.004822Z"
    }
   },
   "outputs": [],
   "source": [
    "clf_xgb = xgb.XGBClassifier(**best_params)\n",
    "\n",
    "param_grid = {\n",
    "    'subsample': np.linspace(0.5, 1, 6),\n",
    "    'colsample_bytree': np.linspace(0.5, 1, 6)\n",
    "}\n",
    "\n",
    "best_params = find_params(clf_xgb, param_grid)"
   ]
  },
  {
   "cell_type": "markdown",
   "metadata": {
    "ExecuteTime": {
     "end_time": "2018-04-26T04:31:16.807992Z",
     "start_time": "2018-04-26T04:31:16.799971Z"
    }
   },
   "source": [
    "#### Подбираем регуляризацию: reg_lambda и reg_alpha"
   ]
  },
  {
   "cell_type": "code",
   "execution_count": null,
   "metadata": {
    "ExecuteTime": {
     "end_time": "2018-04-26T04:57:44.713647Z",
     "start_time": "2018-04-26T04:50:45.517400Z"
    },
    "scrolled": true
   },
   "outputs": [],
   "source": [
    "clf_xgb = xgb.XGBClassifier(**best_params)\n",
    "\n",
    "param_grid = {\n",
    "    'reg_alpha': [0, 0.0001, 0.001, 0.1, 1],\n",
    "    'reg_lambda': [0, 0.0001, 0.001, 0.1, 1]\n",
    "}\n",
    "\n",
    "best_params = find_params(clf_xgb, param_grid)"
   ]
  },
  {
   "cell_type": "markdown",
   "metadata": {
    "ExecuteTime": {
     "end_time": "2018-04-26T04:31:16.807992Z",
     "start_time": "2018-04-26T04:31:16.799971Z"
    }
   },
   "source": [
    "#### Уменьшим learning_rate"
   ]
  },
  {
   "cell_type": "code",
   "execution_count": null,
   "metadata": {
    "ExecuteTime": {
     "end_time": "2018-04-26T08:39:19.973738Z",
     "start_time": "2018-04-26T08:39:11.774381Z"
    }
   },
   "outputs": [],
   "source": [
    "best_params['learning_rate'] = 0.01\n",
    "best_params['n_estimators'] = 500\n",
    "\n",
    "clf_xgb = xgb.XGBClassifier(**best_params)\n",
    "\n",
    "clf_xgb.fit(X_train, y_train, eval_metric='auc', eval_set=[[X_train, y_train], [X_test, y_test]])"
   ]
  },
  {
   "cell_type": "markdown",
   "metadata": {},
   "source": [
    "Визуализируем метрику в зависимости от итерации"
   ]
  },
  {
   "cell_type": "code",
   "execution_count": null,
   "metadata": {
    "ExecuteTime": {
     "end_time": "2018-04-26T05:09:50.404695Z",
     "start_time": "2018-04-26T05:09:49.733905Z"
    }
   },
   "outputs": [],
   "source": [
    "res = save_online_metric(clf_xgb)\n",
    "res.plot(ylim=(0.72, 0.8), title='ROC AUC')\n",
    "plt.xlabel('iteration number')\n",
    "plt.figure()\n",
    "res.test.plot(ylim=(0.72, 0.74), title='ROC AUC TEST')\n",
    "plt.xlabel('iteration number')"
   ]
  },
  {
   "cell_type": "markdown",
   "metadata": {},
   "source": [
    "### HyperOpt"
   ]
  },
  {
   "cell_type": "markdown",
   "metadata": {},
   "source": [
    "http://hyperopt.github.io/hyperopt/\n",
    "\n",
    "Инструмент для автоматической \"умной\" оптимизации большого числа гиперпараметров. Использует алгоритм Tree of Parzen Estimators"
   ]
  },
  {
   "cell_type": "code",
   "execution_count": null,
   "metadata": {
    "ExecuteTime": {
     "end_time": "2018-04-26T09:46:03.275271Z",
     "start_time": "2018-04-26T09:41:50.359976Z"
    }
   },
   "outputs": [],
   "source": [
    "from hyperopt import hp, fmin, tpe, STATUS_OK, Trials\n",
    "\n",
    "#функция, которую будем МИНИМИЗИРОВАТЬ\n",
    "def score(params):\n",
    "    params['max_depth'] = int(params['max_depth'])\n",
    "    params['n_jobs'] = -1\n",
    "    print(\"Training with params : \", params)\n",
    "    clf = xgb.XGBClassifier(**params)\n",
    "    clf.fit(X_train, y_train)\n",
    "    y_pred_xgb_test = clf.predict_proba(X_test)[:, 1]\n",
    "    auc = calc_auc(y_test, y_pred_xgb_test, prin=False)\n",
    "    result = {'loss': 1-auc, 'status': STATUS_OK}\n",
    "    print('TEST ROC AUC: {0:.4f}'.format(auc))\n",
    "    return result\n",
    "\n",
    "\n",
    "\n",
    "space = {'max_depth' : hp.quniform('max_depth', 1, 10, 1),\n",
    "         'min_child_weight' : hp.quniform('min_child_weight', 1, 10, 1),\n",
    "         'subsample' : hp.quniform('subsample', 0.5, 1, 0.05),\n",
    "         'gamma' : hp.quniform('gamma', 0.5, 1, 0.05),\n",
    "         'colsample_bytree' : hp.quniform('colsample_bytree', 0.5, 1, 0.05),\n",
    "         'silent' : 1,\n",
    "         'n_estimators': 50,\n",
    "         'learning_rate': 0.03\n",
    "         }\n",
    "trials = Trials()\n",
    "\n",
    "best = fmin(score, space, algo=tpe.suggest, trials=trials, max_evals=20)"
   ]
  },
  {
   "cell_type": "code",
   "execution_count": null,
   "metadata": {
    "ExecuteTime": {
     "end_time": "2018-04-26T09:52:41.188763Z",
     "start_time": "2018-04-26T09:52:41.183776Z"
    }
   },
   "outputs": [],
   "source": [
    "best"
   ]
  },
  {
   "cell_type": "code",
   "execution_count": null,
   "metadata": {
    "ExecuteTime": {
     "end_time": "2018-04-26T09:52:42.562330Z",
     "start_time": "2018-04-26T09:52:42.556313Z"
    }
   },
   "outputs": [],
   "source": [
    "trials.best_trial"
   ]
  },
  {
   "cell_type": "markdown",
   "metadata": {},
   "source": [
    "### Важность признаков"
   ]
  },
  {
   "cell_type": "markdown",
   "metadata": {},
   "source": [
    "#### Встроенные методы\n",
    "\n",
    "Нужно вытащить из sklearn обертки оригинальный объект класса xgboost.core.Booster\n",
    "\n",
    "Есть 3 типа важности в get_score():\n",
    "\n",
    "    weight - суммарное кол-во раз, когда признак использовался для разбиения вершины\n",
    "    gain - средний прирост качества, когда признак использовался для разбиения вершины\n",
    "    cover - среднее кол-во объектов, которые попадали в разбиение по признаку, когда он использовался для разбиения вершины"
   ]
  },
  {
   "cell_type": "code",
   "execution_count": null,
   "metadata": {
    "ExecuteTime": {
     "end_time": "2018-04-26T08:46:21.086165Z",
     "start_time": "2018-04-26T08:46:20.369208Z"
    }
   },
   "outputs": [],
   "source": [
    "bst = clf_xgb.get_booster()\n",
    "\n",
    "for kind in ['weight', 'gain', 'cover']:\n",
    "    imp = pd.Series(bst.get_score(importance_type=kind))\n",
    "    plt.figure()\n",
    "    imp.sort_values(ascending=False).iloc[:10].plot(kind='barh', title=kind)"
   ]
  },
  {
   "cell_type": "markdown",
   "metadata": {},
   "source": [
    "#### XGBFI\n",
    "\n",
    "Позволяет оценивать важности взаимодействия признаков\n",
    "\n",
    "https://github.com/limexp/xgbfir"
   ]
  },
  {
   "cell_type": "code",
   "execution_count": null,
   "metadata": {
    "ExecuteTime": {
     "end_time": "2018-04-26T08:52:02.819360Z",
     "start_time": "2018-04-26T08:52:02.807345Z"
    },
    "collapsed": true
   },
   "outputs": [],
   "source": [
    "import xgbfir\n",
    "xgbfir.saveXgbFI(clf_xgb, OutputXlsxFile='xgbfi_report.xlsx')"
   ]
  },
  {
   "cell_type": "code",
   "execution_count": null,
   "metadata": {
    "ExecuteTime": {
     "end_time": "2018-04-26T09:11:16.336379Z",
     "start_time": "2018-04-26T09:11:16.203202Z"
    }
   },
   "outputs": [],
   "source": [
    "pd.read_excel('xgbfi_report.xlsx', sheetname=0)"
   ]
  },
  {
   "cell_type": "markdown",
   "metadata": {},
   "source": [
    "# Домашняя работа\n",
    "\n",
    "#### Простая\n",
    "1. Решаем ту же задачу регрессии - предскажем цены на недвижимость. Использовать датасет https://www.kaggle.com/c/house-prices-advanced-regression-techniques/data (train.csv)\n",
    "2. Используем **objective = \"reg:linear\"** в xgboost\n",
    "5. Провести настройку гиперпараметров, используя либо hyperopt либо ручную настройку, как вам больше нравится\n",
    "6. Использовать отложенную выборку (как на занятии), чтобы следить за процессом обучения xgboost'а, но, как и в предыдущем домашнем задании, финальную оценку качества давать используя 10-fold кросс-валидацию.\n",
    "4. Проанализировать, насколько согласованы оценка на отложенной выборке и на кросс-валидации (одновременно уменьшаются/увеличиваются при изменении гиперпараметров или ведут себя по-разному)\n",
    "5. Проанализировать признаки, используя XGBFI, сделать выводы об интересных взаимодействиях\n",
    "7. В качестве решения:\n",
    "    Jupyter notebook с кодом и комментариями"
   ]
  }
 ],
 "metadata": {
  "kernelspec": {
   "display_name": "Python 3",
   "language": "python",
   "name": "python3"
  },
  "language_info": {
   "codemirror_mode": {
    "name": "ipython",
    "version": 3
   },
   "file_extension": ".py",
   "mimetype": "text/x-python",
   "name": "python",
   "nbconvert_exporter": "python",
   "pygments_lexer": "ipython3",
   "version": "3.5.4"
  },
  "toc": {
   "nav_menu": {},
   "number_sections": false,
   "sideBar": true,
   "skip_h1_title": false,
   "toc_cell": false,
   "toc_position": {
    "height": "calc(100% - 180px)",
    "left": "10px",
    "top": "150px",
    "width": "170px"
   },
   "toc_section_display": "block",
   "toc_window_display": true
  }
 },
 "nbformat": 4,
 "nbformat_minor": 2
}
