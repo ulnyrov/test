{
 "cells": [
  {
   "cell_type": "markdown",
   "metadata": {},
   "source": [
    "# Backward selection"
   ]
  },
  {
   "cell_type": "code",
   "execution_count": 1,
   "metadata": {},
   "outputs": [],
   "source": [
    "HOUSING_PATH = \"data/housing.csv\""
   ]
  },
  {
   "cell_type": "code",
   "execution_count": 2,
   "metadata": {},
   "outputs": [],
   "source": [
    "import pandas as pd\n",
    "import numpy as np\n",
    "%matplotlib inline"
   ]
  },
  {
   "cell_type": "code",
   "execution_count": 3,
   "metadata": {},
   "outputs": [
    {
     "data": {
      "text/html": [
       "<div>\n",
       "<style scoped>\n",
       "    .dataframe tbody tr th:only-of-type {\n",
       "        vertical-align: middle;\n",
       "    }\n",
       "\n",
       "    .dataframe tbody tr th {\n",
       "        vertical-align: top;\n",
       "    }\n",
       "\n",
       "    .dataframe thead th {\n",
       "        text-align: right;\n",
       "    }\n",
       "</style>\n",
       "<table border=\"1\" class=\"dataframe\">\n",
       "  <thead>\n",
       "    <tr style=\"text-align: right;\">\n",
       "      <th></th>\n",
       "      <th>longitude</th>\n",
       "      <th>latitude</th>\n",
       "      <th>housing_median_age</th>\n",
       "      <th>total_rooms</th>\n",
       "      <th>total_bedrooms</th>\n",
       "      <th>population</th>\n",
       "      <th>households</th>\n",
       "      <th>median_income</th>\n",
       "      <th>median_house_value</th>\n",
       "      <th>ocean_proximity</th>\n",
       "    </tr>\n",
       "  </thead>\n",
       "  <tbody>\n",
       "    <tr>\n",
       "      <th>0</th>\n",
       "      <td>-122.23</td>\n",
       "      <td>37.88</td>\n",
       "      <td>41.0</td>\n",
       "      <td>880.0</td>\n",
       "      <td>129.0</td>\n",
       "      <td>322.0</td>\n",
       "      <td>126.0</td>\n",
       "      <td>8.3252</td>\n",
       "      <td>452600.0</td>\n",
       "      <td>NEAR BAY</td>\n",
       "    </tr>\n",
       "    <tr>\n",
       "      <th>1</th>\n",
       "      <td>-122.22</td>\n",
       "      <td>37.86</td>\n",
       "      <td>21.0</td>\n",
       "      <td>7099.0</td>\n",
       "      <td>1106.0</td>\n",
       "      <td>2401.0</td>\n",
       "      <td>1138.0</td>\n",
       "      <td>8.3014</td>\n",
       "      <td>358500.0</td>\n",
       "      <td>NEAR BAY</td>\n",
       "    </tr>\n",
       "    <tr>\n",
       "      <th>2</th>\n",
       "      <td>-122.24</td>\n",
       "      <td>37.85</td>\n",
       "      <td>52.0</td>\n",
       "      <td>1467.0</td>\n",
       "      <td>190.0</td>\n",
       "      <td>496.0</td>\n",
       "      <td>177.0</td>\n",
       "      <td>7.2574</td>\n",
       "      <td>352100.0</td>\n",
       "      <td>NEAR BAY</td>\n",
       "    </tr>\n",
       "    <tr>\n",
       "      <th>3</th>\n",
       "      <td>-122.25</td>\n",
       "      <td>37.85</td>\n",
       "      <td>52.0</td>\n",
       "      <td>1274.0</td>\n",
       "      <td>235.0</td>\n",
       "      <td>558.0</td>\n",
       "      <td>219.0</td>\n",
       "      <td>5.6431</td>\n",
       "      <td>341300.0</td>\n",
       "      <td>NEAR BAY</td>\n",
       "    </tr>\n",
       "    <tr>\n",
       "      <th>4</th>\n",
       "      <td>-122.25</td>\n",
       "      <td>37.85</td>\n",
       "      <td>52.0</td>\n",
       "      <td>1627.0</td>\n",
       "      <td>280.0</td>\n",
       "      <td>565.0</td>\n",
       "      <td>259.0</td>\n",
       "      <td>3.8462</td>\n",
       "      <td>342200.0</td>\n",
       "      <td>NEAR BAY</td>\n",
       "    </tr>\n",
       "  </tbody>\n",
       "</table>\n",
       "</div>"
      ],
      "text/plain": [
       "   longitude  latitude  housing_median_age  total_rooms  total_bedrooms  \\\n",
       "0    -122.23     37.88                41.0        880.0           129.0   \n",
       "1    -122.22     37.86                21.0       7099.0          1106.0   \n",
       "2    -122.24     37.85                52.0       1467.0           190.0   \n",
       "3    -122.25     37.85                52.0       1274.0           235.0   \n",
       "4    -122.25     37.85                52.0       1627.0           280.0   \n",
       "\n",
       "   population  households  median_income  median_house_value ocean_proximity  \n",
       "0       322.0       126.0         8.3252            452600.0        NEAR BAY  \n",
       "1      2401.0      1138.0         8.3014            358500.0        NEAR BAY  \n",
       "2       496.0       177.0         7.2574            352100.0        NEAR BAY  \n",
       "3       558.0       219.0         5.6431            341300.0        NEAR BAY  \n",
       "4       565.0       259.0         3.8462            342200.0        NEAR BAY  "
      ]
     },
     "execution_count": 3,
     "metadata": {},
     "output_type": "execute_result"
    }
   ],
   "source": [
    "housing = pd.read_csv(HOUSING_PATH)\n",
    "housing.head()"
   ]
  },
  {
   "cell_type": "code",
   "execution_count": 4,
   "metadata": {},
   "outputs": [],
   "source": [
    "# Divide by 1.5 to limit the number of income categories\n",
    "housing[\"income_cat\"] = np.ceil(housing[\"median_income\"] / 1.5)\n",
    "# Label those above 5 as 5\n",
    "housing[\"income_cat\"].where(housing[\"income_cat\"] < 5, 5.0, inplace=True)"
   ]
  },
  {
   "cell_type": "code",
   "execution_count": 5,
   "metadata": {},
   "outputs": [],
   "source": [
    "from sklearn.model_selection import StratifiedShuffleSplit\n",
    "\n",
    "split = StratifiedShuffleSplit(n_splits=1, test_size=0.2, random_state=42)\n",
    "for train_index, test_index in split.split(housing, housing[\"income_cat\"]):\n",
    "    strat_train_set = housing.loc[train_index]\n",
    "    strat_test_set = housing.loc[test_index]\n",
    "\n",
    "for set_ in (strat_train_set, strat_test_set):\n",
    "    set_.drop(\"income_cat\", axis=1, inplace=True)"
   ]
  },
  {
   "cell_type": "code",
   "execution_count": 6,
   "metadata": {},
   "outputs": [],
   "source": [
    "from sklearn.base import BaseEstimator, TransformerMixin\n",
    "\n",
    "rooms_ix, bedrooms_ix, population_ix, household_ix = 3, 4, 5, 6\n",
    "\n",
    "class CombinedAttributesAdder(BaseEstimator, TransformerMixin):\n",
    "    def __init__(self, add_bedrooms_per_room = True): # no *args or **kargs\n",
    "        self.add_bedrooms_per_room = add_bedrooms_per_room\n",
    "    def fit(self, X, y=None):\n",
    "        return self  # nothing else to do\n",
    "    def transform(self, X, y=None):\n",
    "        rooms_per_household = X[:, rooms_ix] / X[:, household_ix]\n",
    "        population_per_household = X[:, population_ix] / X[:, household_ix]\n",
    "        if self.add_bedrooms_per_room:\n",
    "            bedrooms_per_room = X[:, bedrooms_ix] / X[:, rooms_ix]\n",
    "            return np.c_[X, rooms_per_household, population_per_household, bedrooms_per_room]\n",
    "        else:\n",
    "            return np.c_[X, rooms_per_household, population_per_household]\n",
    "\n",
    "class DataFrameSelector(BaseEstimator, TransformerMixin):\n",
    "    def __init__(self, attribute_names):\n",
    "        self.attribute_names = attribute_names\n",
    "    def fit(self, X, y=None):\n",
    "        return self\n",
    "    def transform(self, X):\n",
    "        return X[self.attribute_names].values\n",
    "    \n",
    "class PipelineFriendlyLabelBinarizer(BaseEstimator, TransformerMixin):\n",
    "    def fit(self, X, y=None,**fit_params):\n",
    "        return self\n",
    "    def transform(self, X):\n",
    "        return LabelBinarizer().fit(X).transform(X)"
   ]
  },
  {
   "cell_type": "code",
   "execution_count": 7,
   "metadata": {},
   "outputs": [],
   "source": [
    "from sklearn.pipeline import FeatureUnion\n",
    "from sklearn.pipeline import Pipeline\n",
    "from sklearn.preprocessing import StandardScaler, Imputer, LabelBinarizer\n",
    "\n",
    "num_attribs = strat_train_set.columns.drop([\"ocean_proximity\", \"median_house_value\"])\n",
    "cat_attribs = [\"ocean_proximity\"]\n",
    "\n",
    "num_pipeline = Pipeline([\n",
    "    ('selector', DataFrameSelector(num_attribs)),\n",
    "    ('imputer', Imputer(strategy=\"median\")),\n",
    "    ('attribs_adder', CombinedAttributesAdder()),\n",
    "    ('std_scaler', StandardScaler()),\n",
    "])\n",
    "\n",
    "cat_pipeline = Pipeline([\n",
    "    ('selector', DataFrameSelector(cat_attribs)),\n",
    "    ('label_binarizer', PipelineFriendlyLabelBinarizer()),\n",
    "])\n",
    "\n",
    "full_pipeline = FeatureUnion(transformer_list=[\n",
    "    (\"num_pipeline\", num_pipeline),\n",
    "    (\"cat_pipeline\", cat_pipeline),\n",
    "])"
   ]
  },
  {
   "cell_type": "code",
   "execution_count": 8,
   "metadata": {},
   "outputs": [],
   "source": [
    "X_train = strat_train_set.drop(\"median_house_value\", axis=1)\n",
    "y_train = strat_train_set[\"median_house_value\"].copy()\n",
    "\n",
    "X_test = strat_test_set.drop(\"median_house_value\", axis=1)\n",
    "y_test = strat_test_set[\"median_house_value\"].copy()"
   ]
  },
  {
   "cell_type": "code",
   "execution_count": 9,
   "metadata": {},
   "outputs": [],
   "source": [
    "X_train_prepared = full_pipeline.fit_transform(X_train)\n",
    "X_test_prepared = full_pipeline.transform(X_test)"
   ]
  },
  {
   "cell_type": "code",
   "execution_count": 10,
   "metadata": {},
   "outputs": [
    {
     "name": "stderr",
     "output_type": "stream",
     "text": [
      "/Users/esachko/miniconda3/lib/python3.6/site-packages/sklearn/linear_model/base.py:509: RuntimeWarning: internal gelsd driver lwork query error, required iwork dimension not returned. This is likely the result of LAPACK bug 0038, fixed in LAPACK 3.2.2 (released July 21, 2010). Falling back to 'gelss' driver.\n",
      "  linalg.lstsq(X, y)\n"
     ]
    },
    {
     "data": {
      "text/plain": [
       "66911.98070857546"
      ]
     },
     "execution_count": 10,
     "metadata": {},
     "output_type": "execute_result"
    }
   ],
   "source": [
    "from sklearn.metrics import mean_squared_error\n",
    "from sklearn.linear_model import LinearRegression\n",
    "\n",
    "lin_reg = LinearRegression().fit(X_train_prepared, y_train)\n",
    "y_pred = lin_reg.predict(X_test_prepared)\n",
    "mse = mean_squared_error(y_test, y_pred)\n",
    "rmse = np.sqrt(mse)\n",
    "rmse"
   ]
  },
  {
   "cell_type": "markdown",
   "metadata": {},
   "source": [
    "## Выбор фич"
   ]
  },
  {
   "cell_type": "code",
   "execution_count": 11,
   "metadata": {},
   "outputs": [],
   "source": [
    "columns = [\n",
    "    'longitude', 'latitude', 'housing_median_age', 'total_rooms', \n",
    "    'total_bedrooms', 'population', 'households', 'median_income',\n",
    "    'rooms_per_household', 'population_per_household', 'bedrooms_per_room',\n",
    "    'lt_1H_OCEAN', 'INLAND', 'ISLAND', 'NEAR_BAY', 'NEAR_OCEAN', 'median_house_value'\n",
    "]\n",
    "\n",
    "train_df = pd.DataFrame(np.c_[X_train_prepared, y_train], columns=columns)\n",
    "test_df = pd.DataFrame(np.c_[X_test_prepared, y_test], columns=columns)"
   ]
  },
  {
   "cell_type": "code",
   "execution_count": 12,
   "metadata": {},
   "outputs": [
    {
     "data": {
      "text/html": [
       "<div>\n",
       "<style scoped>\n",
       "    .dataframe tbody tr th:only-of-type {\n",
       "        vertical-align: middle;\n",
       "    }\n",
       "\n",
       "    .dataframe tbody tr th {\n",
       "        vertical-align: top;\n",
       "    }\n",
       "\n",
       "    .dataframe thead th {\n",
       "        text-align: right;\n",
       "    }\n",
       "</style>\n",
       "<table border=\"1\" class=\"dataframe\">\n",
       "  <thead>\n",
       "    <tr style=\"text-align: right;\">\n",
       "      <th></th>\n",
       "      <th>longitude</th>\n",
       "      <th>latitude</th>\n",
       "      <th>housing_median_age</th>\n",
       "      <th>total_rooms</th>\n",
       "      <th>total_bedrooms</th>\n",
       "      <th>population</th>\n",
       "      <th>households</th>\n",
       "      <th>median_income</th>\n",
       "      <th>rooms_per_household</th>\n",
       "      <th>population_per_household</th>\n",
       "      <th>bedrooms_per_room</th>\n",
       "      <th>lt_1H_OCEAN</th>\n",
       "      <th>INLAND</th>\n",
       "      <th>ISLAND</th>\n",
       "      <th>NEAR_BAY</th>\n",
       "      <th>NEAR_OCEAN</th>\n",
       "      <th>median_house_value</th>\n",
       "    </tr>\n",
       "  </thead>\n",
       "  <tbody>\n",
       "    <tr>\n",
       "      <th>0</th>\n",
       "      <td>-1.156043</td>\n",
       "      <td>0.771950</td>\n",
       "      <td>0.743331</td>\n",
       "      <td>-0.493234</td>\n",
       "      <td>-0.445438</td>\n",
       "      <td>-0.636211</td>\n",
       "      <td>-0.420698</td>\n",
       "      <td>-0.614937</td>\n",
       "      <td>-0.312055</td>\n",
       "      <td>-0.086499</td>\n",
       "      <td>0.155318</td>\n",
       "      <td>1.0</td>\n",
       "      <td>0.0</td>\n",
       "      <td>0.0</td>\n",
       "      <td>0.0</td>\n",
       "      <td>0.0</td>\n",
       "      <td>286600.0</td>\n",
       "    </tr>\n",
       "    <tr>\n",
       "      <th>1</th>\n",
       "      <td>-1.176025</td>\n",
       "      <td>0.659695</td>\n",
       "      <td>-1.165317</td>\n",
       "      <td>-0.908967</td>\n",
       "      <td>-1.036928</td>\n",
       "      <td>-0.998331</td>\n",
       "      <td>-1.022227</td>\n",
       "      <td>1.336459</td>\n",
       "      <td>0.217683</td>\n",
       "      <td>-0.033534</td>\n",
       "      <td>-0.836289</td>\n",
       "      <td>1.0</td>\n",
       "      <td>0.0</td>\n",
       "      <td>0.0</td>\n",
       "      <td>0.0</td>\n",
       "      <td>0.0</td>\n",
       "      <td>340600.0</td>\n",
       "    </tr>\n",
       "    <tr>\n",
       "      <th>2</th>\n",
       "      <td>1.186849</td>\n",
       "      <td>-1.342183</td>\n",
       "      <td>0.186642</td>\n",
       "      <td>-0.313660</td>\n",
       "      <td>-0.153345</td>\n",
       "      <td>-0.433639</td>\n",
       "      <td>-0.093318</td>\n",
       "      <td>-0.532046</td>\n",
       "      <td>-0.465315</td>\n",
       "      <td>-0.092405</td>\n",
       "      <td>0.422200</td>\n",
       "      <td>0.0</td>\n",
       "      <td>0.0</td>\n",
       "      <td>0.0</td>\n",
       "      <td>0.0</td>\n",
       "      <td>1.0</td>\n",
       "      <td>196900.0</td>\n",
       "    </tr>\n",
       "    <tr>\n",
       "      <th>3</th>\n",
       "      <td>-0.017068</td>\n",
       "      <td>0.313576</td>\n",
       "      <td>-0.290520</td>\n",
       "      <td>-0.362762</td>\n",
       "      <td>-0.396756</td>\n",
       "      <td>0.036041</td>\n",
       "      <td>-0.383436</td>\n",
       "      <td>-1.045566</td>\n",
       "      <td>-0.079661</td>\n",
       "      <td>0.089736</td>\n",
       "      <td>-0.196453</td>\n",
       "      <td>0.0</td>\n",
       "      <td>1.0</td>\n",
       "      <td>0.0</td>\n",
       "      <td>0.0</td>\n",
       "      <td>0.0</td>\n",
       "      <td>46300.0</td>\n",
       "    </tr>\n",
       "    <tr>\n",
       "      <th>4</th>\n",
       "      <td>0.492474</td>\n",
       "      <td>-0.659299</td>\n",
       "      <td>-0.926736</td>\n",
       "      <td>1.856193</td>\n",
       "      <td>2.412211</td>\n",
       "      <td>2.724154</td>\n",
       "      <td>2.570975</td>\n",
       "      <td>-0.441437</td>\n",
       "      <td>-0.357834</td>\n",
       "      <td>-0.004194</td>\n",
       "      <td>0.269928</td>\n",
       "      <td>1.0</td>\n",
       "      <td>0.0</td>\n",
       "      <td>0.0</td>\n",
       "      <td>0.0</td>\n",
       "      <td>0.0</td>\n",
       "      <td>254500.0</td>\n",
       "    </tr>\n",
       "  </tbody>\n",
       "</table>\n",
       "</div>"
      ],
      "text/plain": [
       "   longitude  latitude  housing_median_age  total_rooms  total_bedrooms  \\\n",
       "0  -1.156043  0.771950            0.743331    -0.493234       -0.445438   \n",
       "1  -1.176025  0.659695           -1.165317    -0.908967       -1.036928   \n",
       "2   1.186849 -1.342183            0.186642    -0.313660       -0.153345   \n",
       "3  -0.017068  0.313576           -0.290520    -0.362762       -0.396756   \n",
       "4   0.492474 -0.659299           -0.926736     1.856193        2.412211   \n",
       "\n",
       "   population  households  median_income  rooms_per_household  \\\n",
       "0   -0.636211   -0.420698      -0.614937            -0.312055   \n",
       "1   -0.998331   -1.022227       1.336459             0.217683   \n",
       "2   -0.433639   -0.093318      -0.532046            -0.465315   \n",
       "3    0.036041   -0.383436      -1.045566            -0.079661   \n",
       "4    2.724154    2.570975      -0.441437            -0.357834   \n",
       "\n",
       "   population_per_household  bedrooms_per_room  lt_1H_OCEAN  INLAND  ISLAND  \\\n",
       "0                 -0.086499           0.155318          1.0     0.0     0.0   \n",
       "1                 -0.033534          -0.836289          1.0     0.0     0.0   \n",
       "2                 -0.092405           0.422200          0.0     0.0     0.0   \n",
       "3                  0.089736          -0.196453          0.0     1.0     0.0   \n",
       "4                 -0.004194           0.269928          1.0     0.0     0.0   \n",
       "\n",
       "   NEAR_BAY  NEAR_OCEAN  median_house_value  \n",
       "0       0.0         0.0            286600.0  \n",
       "1       0.0         0.0            340600.0  \n",
       "2       0.0         1.0            196900.0  \n",
       "3       0.0         0.0             46300.0  \n",
       "4       0.0         0.0            254500.0  "
      ]
     },
     "execution_count": 12,
     "metadata": {},
     "output_type": "execute_result"
    }
   ],
   "source": [
    "train_df.head()"
   ]
  },
  {
   "cell_type": "code",
   "execution_count": 13,
   "metadata": {},
   "outputs": [
    {
     "name": "stderr",
     "output_type": "stream",
     "text": [
      "/Users/esachko/miniconda3/lib/python3.6/site-packages/statsmodels/compat/pandas.py:56: FutureWarning: The pandas.core.datetools module is deprecated and will be removed in a future version. Please use the pandas.tseries module instead.\n",
      "  from pandas.core import datetools\n"
     ]
    }
   ],
   "source": [
    "import statsmodels.api as sm\n",
    "import statsmodels.formula.api as smf"
   ]
  },
  {
   "cell_type": "markdown",
   "metadata": {},
   "source": [
    "### Итерация 0"
   ]
  },
  {
   "cell_type": "code",
   "execution_count": 14,
   "metadata": {},
   "outputs": [],
   "source": [
    "_iteration_cols = train_df.columns.drop('median_house_value')"
   ]
  },
  {
   "cell_type": "code",
   "execution_count": 15,
   "metadata": {},
   "outputs": [],
   "source": [
    "def get_formula(_cols):\n",
    "    return 'median_house_value ~ ' + \" + \".join(_cols)"
   ]
  },
  {
   "cell_type": "code",
   "execution_count": 16,
   "metadata": {},
   "outputs": [
    {
     "data": {
      "text/plain": [
       "'median_house_value ~ longitude + latitude + housing_median_age + total_rooms + total_bedrooms + population + households + median_income + rooms_per_household + population_per_household + bedrooms_per_room + lt_1H_OCEAN + INLAND + ISLAND + NEAR_BAY + NEAR_OCEAN'"
      ]
     },
     "execution_count": 16,
     "metadata": {},
     "output_type": "execute_result"
    }
   ],
   "source": [
    "get_formula(_iteration_cols)"
   ]
  },
  {
   "cell_type": "code",
   "execution_count": 17,
   "metadata": {},
   "outputs": [
    {
     "name": "stdout",
     "output_type": "stream",
     "text": [
      "RMSE: 68634.54004878228\n",
      "R^2: 0.6480974555019907\n"
     ]
    }
   ],
   "source": [
    "lm = smf.ols(get_formula(_iteration_cols), train_df).fit()\n",
    "rss = np.sum(lm.resid ** 2)\n",
    "rmse = np.sqrt(rss / len(lm.resid))\n",
    "print(\"RMSE:\", rmse)\n",
    "print(\"R^2:\", lm.rsquared)"
   ]
  },
  {
   "cell_type": "code",
   "execution_count": 18,
   "metadata": {},
   "outputs": [
    {
     "data": {
      "text/html": [
       "<table class=\"simpletable\">\n",
       "<tr>\n",
       "              <td></td>                <th>coef</th>     <th>std err</th>      <th>t</th>      <th>P>|t|</th>  <th>[0.025</th>    <th>0.975]</th>  \n",
       "</tr>\n",
       "<tr>\n",
       "  <th>Intercept</th>                <td> 2.985e+16</td> <td> 2.78e+16</td> <td>    1.076</td> <td> 0.282</td> <td>-2.46e+16</td> <td> 8.43e+16</td>\n",
       "</tr>\n",
       "<tr>\n",
       "  <th>longitude</th>                <td>-5.555e+04</td> <td> 2295.187</td> <td>  -24.202</td> <td> 0.000</td> <td>   -6e+04</td> <td> -5.1e+04</td>\n",
       "</tr>\n",
       "<tr>\n",
       "  <th>latitude</th>                 <td> -5.66e+04</td> <td> 2417.955</td> <td>  -23.410</td> <td> 0.000</td> <td>-6.13e+04</td> <td>-5.19e+04</td>\n",
       "</tr>\n",
       "<tr>\n",
       "  <th>housing_median_age</th>       <td> 1.372e+04</td> <td>  616.660</td> <td>   22.250</td> <td> 0.000</td> <td> 1.25e+04</td> <td> 1.49e+04</td>\n",
       "</tr>\n",
       "<tr>\n",
       "  <th>total_rooms</th>              <td>-1937.9780</td> <td> 2190.851</td> <td>   -0.885</td> <td> 0.376</td> <td>-6232.282</td> <td> 2356.326</td>\n",
       "</tr>\n",
       "<tr>\n",
       "  <th>total_bedrooms</th>           <td> 7334.2437</td> <td> 3199.489</td> <td>    2.292</td> <td> 0.022</td> <td> 1062.900</td> <td> 1.36e+04</td>\n",
       "</tr>\n",
       "<tr>\n",
       "  <th>population</th>               <td> -4.57e+04</td> <td> 1374.831</td> <td>  -33.242</td> <td> 0.000</td> <td>-4.84e+04</td> <td> -4.3e+04</td>\n",
       "</tr>\n",
       "<tr>\n",
       "  <th>households</th>               <td> 4.546e+04</td> <td> 3145.483</td> <td>   14.453</td> <td> 0.000</td> <td> 3.93e+04</td> <td> 5.16e+04</td>\n",
       "</tr>\n",
       "<tr>\n",
       "  <th>median_income</th>            <td> 7.472e+04</td> <td>  755.430</td> <td>   98.905</td> <td> 0.000</td> <td> 7.32e+04</td> <td> 7.62e+04</td>\n",
       "</tr>\n",
       "<tr>\n",
       "  <th>rooms_per_household</th>      <td> 6601.8937</td> <td>  675.865</td> <td>    9.768</td> <td> 0.000</td> <td> 5277.125</td> <td> 7926.662</td>\n",
       "</tr>\n",
       "<tr>\n",
       "  <th>population_per_household</th> <td> 1042.3167</td> <td>  553.193</td> <td>    1.884</td> <td> 0.060</td> <td>  -42.001</td> <td> 2126.634</td>\n",
       "</tr>\n",
       "<tr>\n",
       "  <th>bedrooms_per_room</th>        <td> 9248.7492</td> <td>  791.514</td> <td>   11.685</td> <td> 0.000</td> <td> 7697.297</td> <td> 1.08e+04</td>\n",
       "</tr>\n",
       "<tr>\n",
       "  <th>lt_1H_OCEAN</th>              <td>-2.985e+16</td> <td> 2.78e+16</td> <td>   -1.076</td> <td> 0.282</td> <td>-8.43e+16</td> <td> 2.46e+16</td>\n",
       "</tr>\n",
       "<tr>\n",
       "  <th>INLAND</th>                   <td>-2.985e+16</td> <td> 2.78e+16</td> <td>   -1.076</td> <td> 0.282</td> <td>-8.43e+16</td> <td> 2.46e+16</td>\n",
       "</tr>\n",
       "<tr>\n",
       "  <th>ISLAND</th>                   <td>-2.985e+16</td> <td> 2.78e+16</td> <td>   -1.076</td> <td> 0.282</td> <td>-8.43e+16</td> <td> 2.46e+16</td>\n",
       "</tr>\n",
       "<tr>\n",
       "  <th>NEAR_BAY</th>                 <td>-2.985e+16</td> <td> 2.78e+16</td> <td>   -1.076</td> <td> 0.282</td> <td>-8.43e+16</td> <td> 2.46e+16</td>\n",
       "</tr>\n",
       "<tr>\n",
       "  <th>NEAR_OCEAN</th>               <td>-2.985e+16</td> <td> 2.78e+16</td> <td>   -1.076</td> <td> 0.282</td> <td>-8.43e+16</td> <td> 2.46e+16</td>\n",
       "</tr>\n",
       "</table>"
      ],
      "text/plain": [
       "<class 'statsmodels.iolib.table.SimpleTable'>"
      ]
     },
     "execution_count": 18,
     "metadata": {},
     "output_type": "execute_result"
    }
   ],
   "source": [
    "lm_res = lm.summary()\n",
    "lm_res.tables[1]"
   ]
  },
  {
   "cell_type": "markdown",
   "metadata": {},
   "source": [
    "### Итерация 2"
   ]
  },
  {
   "cell_type": "code",
   "execution_count": 19,
   "metadata": {},
   "outputs": [],
   "source": [
    "# выкинем total_rooms так как у него наибольшоее p-value\n",
    "_iteration_cols = _iteration_cols.drop('total_rooms')"
   ]
  },
  {
   "cell_type": "code",
   "execution_count": 20,
   "metadata": {},
   "outputs": [
    {
     "name": "stdout",
     "output_type": "stream",
     "text": [
      "RMSE: 68631.92397971591\n",
      "R^2: 0.6481242811736017\n"
     ]
    }
   ],
   "source": [
    "lm = smf.ols(get_formula(_iteration_cols), train_df).fit()\n",
    "rss = np.sum(lm.resid ** 2)\n",
    "rmse = np.sqrt(rss / len(lm.resid))\n",
    "print(\"RMSE:\", rmse)\n",
    "print(\"R^2:\", lm.rsquared)"
   ]
  },
  {
   "cell_type": "code",
   "execution_count": 21,
   "metadata": {
    "scrolled": true
   },
   "outputs": [
    {
     "data": {
      "text/html": [
       "<table class=\"simpletable\">\n",
       "<tr>\n",
       "              <td></td>                <th>coef</th>     <th>std err</th>      <th>t</th>      <th>P>|t|</th>  <th>[0.025</th>    <th>0.975]</th>  \n",
       "</tr>\n",
       "<tr>\n",
       "  <th>Intercept</th>                <td> 3.801e+16</td> <td> 3.55e+16</td> <td>    1.072</td> <td> 0.284</td> <td>-3.15e+16</td> <td> 1.08e+17</td>\n",
       "</tr>\n",
       "<tr>\n",
       "  <th>longitude</th>                <td>-5.561e+04</td> <td> 2293.723</td> <td>  -24.246</td> <td> 0.000</td> <td>-6.01e+04</td> <td>-5.11e+04</td>\n",
       "</tr>\n",
       "<tr>\n",
       "  <th>latitude</th>                 <td>-5.672e+04</td> <td> 2414.664</td> <td>  -23.491</td> <td> 0.000</td> <td>-6.15e+04</td> <td> -5.2e+04</td>\n",
       "</tr>\n",
       "<tr>\n",
       "  <th>housing_median_age</th>       <td> 1.376e+04</td> <td>  616.120</td> <td>   22.328</td> <td> 0.000</td> <td> 1.25e+04</td> <td>  1.5e+04</td>\n",
       "</tr>\n",
       "<tr>\n",
       "  <th>total_bedrooms</th>           <td> 5930.2787</td> <td> 2784.972</td> <td>    2.129</td> <td> 0.033</td> <td>  471.433</td> <td> 1.14e+04</td>\n",
       "</tr>\n",
       "<tr>\n",
       "  <th>population</th>               <td>-4.603e+04</td> <td> 1323.141</td> <td>  -34.791</td> <td> 0.000</td> <td>-4.86e+04</td> <td>-4.34e+04</td>\n",
       "</tr>\n",
       "<tr>\n",
       "  <th>households</th>               <td> 4.532e+04</td> <td> 3141.269</td> <td>   14.427</td> <td> 0.000</td> <td> 3.92e+04</td> <td> 5.15e+04</td>\n",
       "</tr>\n",
       "<tr>\n",
       "  <th>median_income</th>            <td> 7.451e+04</td> <td>  714.343</td> <td>  104.299</td> <td> 0.000</td> <td> 7.31e+04</td> <td> 7.59e+04</td>\n",
       "</tr>\n",
       "<tr>\n",
       "  <th>rooms_per_household</th>      <td> 6519.3589</td> <td>  668.806</td> <td>    9.748</td> <td> 0.000</td> <td> 5208.426</td> <td> 7830.292</td>\n",
       "</tr>\n",
       "<tr>\n",
       "  <th>population_per_household</th> <td> 1076.1516</td> <td>  551.820</td> <td>    1.950</td> <td> 0.051</td> <td>   -5.475</td> <td> 2157.778</td>\n",
       "</tr>\n",
       "<tr>\n",
       "  <th>bedrooms_per_room</th>        <td> 9573.2730</td> <td>  704.886</td> <td>   13.581</td> <td> 0.000</td> <td> 8191.620</td> <td>  1.1e+04</td>\n",
       "</tr>\n",
       "<tr>\n",
       "  <th>lt_1H_OCEAN</th>              <td>-3.801e+16</td> <td> 3.55e+16</td> <td>   -1.072</td> <td> 0.284</td> <td>-1.08e+17</td> <td> 3.15e+16</td>\n",
       "</tr>\n",
       "<tr>\n",
       "  <th>INLAND</th>                   <td>-3.801e+16</td> <td> 3.55e+16</td> <td>   -1.072</td> <td> 0.284</td> <td>-1.08e+17</td> <td> 3.15e+16</td>\n",
       "</tr>\n",
       "<tr>\n",
       "  <th>ISLAND</th>                   <td>-3.801e+16</td> <td> 3.55e+16</td> <td>   -1.072</td> <td> 0.284</td> <td>-1.08e+17</td> <td> 3.15e+16</td>\n",
       "</tr>\n",
       "<tr>\n",
       "  <th>NEAR_BAY</th>                 <td>-3.801e+16</td> <td> 3.55e+16</td> <td>   -1.072</td> <td> 0.284</td> <td>-1.08e+17</td> <td> 3.15e+16</td>\n",
       "</tr>\n",
       "<tr>\n",
       "  <th>NEAR_OCEAN</th>               <td>-3.801e+16</td> <td> 3.55e+16</td> <td>   -1.072</td> <td> 0.284</td> <td>-1.08e+17</td> <td> 3.15e+16</td>\n",
       "</tr>\n",
       "</table>"
      ],
      "text/plain": [
       "<class 'statsmodels.iolib.table.SimpleTable'>"
      ]
     },
     "execution_count": 21,
     "metadata": {},
     "output_type": "execute_result"
    }
   ],
   "source": [
    "lm_res = lm.summary()\n",
    "lm_res.tables[1]"
   ]
  },
  {
   "cell_type": "markdown",
   "metadata": {},
   "source": [
    "### Итерация 3"
   ]
  },
  {
   "cell_type": "code",
   "execution_count": 22,
   "metadata": {},
   "outputs": [],
   "source": [
    "# выкиним NEAR_OCEAN так как у него наибольшоее p-value\n",
    "_iteration_cols = _iteration_cols.drop('NEAR_OCEAN')"
   ]
  },
  {
   "cell_type": "code",
   "execution_count": 23,
   "metadata": {},
   "outputs": [
    {
     "name": "stdout",
     "output_type": "stream",
     "text": [
      "RMSE: 68629.8181151\n",
      "R^2: 0.648145874369\n"
     ]
    }
   ],
   "source": [
    "lm = smf.ols(get_formula(_iteration_cols), train_df).fit()\n",
    "rss = np.sum(lm.resid ** 2)\n",
    "rmse = np.sqrt(rss / len(lm.resid))\n",
    "print(\"RMSE:\", rmse)\n",
    "print(\"R^2:\", lm.rsquared)"
   ]
  },
  {
   "cell_type": "code",
   "execution_count": 24,
   "metadata": {
    "scrolled": true
   },
   "outputs": [
    {
     "data": {
      "text/html": [
       "<table class=\"simpletable\">\n",
       "<tr>\n",
       "              <td></td>                <th>coef</th>     <th>std err</th>      <th>t</th>      <th>P>|t|</th>  <th>[0.025</th>    <th>0.975]</th>  \n",
       "</tr>\n",
       "<tr>\n",
       "  <th>Intercept</th>                <td> 2.223e+05</td> <td> 1667.166</td> <td>  133.313</td> <td> 0.000</td> <td> 2.19e+05</td> <td> 2.26e+05</td>\n",
       "</tr>\n",
       "<tr>\n",
       "  <th>longitude</th>                <td>-5.571e+04</td> <td> 2291.741</td> <td>  -24.311</td> <td> 0.000</td> <td>-6.02e+04</td> <td>-5.12e+04</td>\n",
       "</tr>\n",
       "<tr>\n",
       "  <th>latitude</th>                 <td> -5.68e+04</td> <td> 2413.529</td> <td>  -23.534</td> <td> 0.000</td> <td>-6.15e+04</td> <td>-5.21e+04</td>\n",
       "</tr>\n",
       "<tr>\n",
       "  <th>housing_median_age</th>       <td> 1.375e+04</td> <td>  616.086</td> <td>   22.322</td> <td> 0.000</td> <td> 1.25e+04</td> <td>  1.5e+04</td>\n",
       "</tr>\n",
       "<tr>\n",
       "  <th>total_bedrooms</th>           <td> 5940.7106</td> <td> 2784.869</td> <td>    2.133</td> <td> 0.033</td> <td>  482.066</td> <td> 1.14e+04</td>\n",
       "</tr>\n",
       "<tr>\n",
       "  <th>population</th>               <td>-4.604e+04</td> <td> 1323.095</td> <td>  -34.795</td> <td> 0.000</td> <td>-4.86e+04</td> <td>-4.34e+04</td>\n",
       "</tr>\n",
       "<tr>\n",
       "  <th>households</th>               <td> 4.532e+04</td> <td> 3141.172</td> <td>   14.427</td> <td> 0.000</td> <td> 3.92e+04</td> <td> 5.15e+04</td>\n",
       "</tr>\n",
       "<tr>\n",
       "  <th>median_income</th>            <td>  7.45e+04</td> <td>  714.286</td> <td>  104.297</td> <td> 0.000</td> <td> 7.31e+04</td> <td> 7.59e+04</td>\n",
       "</tr>\n",
       "<tr>\n",
       "  <th>rooms_per_household</th>      <td> 6519.6056</td> <td>  668.786</td> <td>    9.748</td> <td> 0.000</td> <td> 5208.713</td> <td> 7830.498</td>\n",
       "</tr>\n",
       "<tr>\n",
       "  <th>population_per_household</th> <td> 1076.6370</td> <td>  551.803</td> <td>    1.951</td> <td> 0.051</td> <td>   -4.956</td> <td> 2158.230</td>\n",
       "</tr>\n",
       "<tr>\n",
       "  <th>bedrooms_per_room</th>        <td> 9567.3625</td> <td>  704.843</td> <td>   13.574</td> <td> 0.000</td> <td> 8185.794</td> <td> 1.09e+04</td>\n",
       "</tr>\n",
       "<tr>\n",
       "  <th>lt_1H_OCEAN</th>              <td>-3297.4274</td> <td> 1744.963</td> <td>   -1.890</td> <td> 0.059</td> <td>-6717.743</td> <td>  122.888</td>\n",
       "</tr>\n",
       "<tr>\n",
       "  <th>INLAND</th>                   <td>-4.063e+04</td> <td> 2507.105</td> <td>  -16.206</td> <td> 0.000</td> <td>-4.55e+04</td> <td>-3.57e+04</td>\n",
       "</tr>\n",
       "<tr>\n",
       "  <th>ISLAND</th>                   <td> 1.248e+05</td> <td> 4.86e+04</td> <td>    2.568</td> <td> 0.010</td> <td> 2.95e+04</td> <td>  2.2e+05</td>\n",
       "</tr>\n",
       "<tr>\n",
       "  <th>NEAR_BAY</th>                 <td>-7826.3858</td> <td> 2420.546</td> <td>   -3.233</td> <td> 0.001</td> <td>-1.26e+04</td> <td>-3081.854</td>\n",
       "</tr>\n",
       "</table>"
      ],
      "text/plain": [
       "<class 'statsmodels.iolib.table.SimpleTable'>"
      ]
     },
     "execution_count": 24,
     "metadata": {},
     "output_type": "execute_result"
    }
   ],
   "source": [
    "lm_res = lm.summary()\n",
    "lm_res.tables[1]"
   ]
  },
  {
   "cell_type": "markdown",
   "metadata": {},
   "source": [
    "### Итерация 4"
   ]
  },
  {
   "cell_type": "code",
   "execution_count": 25,
   "metadata": {},
   "outputs": [],
   "source": [
    "# выкиним lt_1H_OCEAN так как у него наибольшоее p-value\n",
    "_iteration_cols = _iteration_cols.drop('lt_1H_OCEAN')"
   ]
  },
  {
   "cell_type": "code",
   "execution_count": 26,
   "metadata": {},
   "outputs": [
    {
     "name": "stdout",
     "output_type": "stream",
     "text": [
      "RMSE: 68637.2454412\n",
      "R^2: 0.648069712816\n"
     ]
    }
   ],
   "source": [
    "lm = smf.ols(get_formula(_iteration_cols), train_df).fit()\n",
    "rss = np.sum(lm.resid ** 2)\n",
    "rmse = np.sqrt(rss / len(lm.resid))\n",
    "print(\"RMSE:\", rmse)\n",
    "print(\"R^2:\", lm.rsquared)"
   ]
  },
  {
   "cell_type": "code",
   "execution_count": 27,
   "metadata": {
    "scrolled": true
   },
   "outputs": [
    {
     "data": {
      "text/html": [
       "<table class=\"simpletable\">\n",
       "<tr>\n",
       "              <td></td>                <th>coef</th>     <th>std err</th>      <th>t</th>      <th>P>|t|</th>  <th>[0.025</th>    <th>0.975]</th>  \n",
       "</tr>\n",
       "<tr>\n",
       "  <th>Intercept</th>                <td> 2.196e+05</td> <td>  876.457</td> <td>  250.525</td> <td> 0.000</td> <td> 2.18e+05</td> <td> 2.21e+05</td>\n",
       "</tr>\n",
       "<tr>\n",
       "  <th>longitude</th>                <td>-5.667e+04</td> <td> 2235.502</td> <td>  -25.350</td> <td> 0.000</td> <td>-6.11e+04</td> <td>-5.23e+04</td>\n",
       "</tr>\n",
       "<tr>\n",
       "  <th>latitude</th>                 <td>-5.775e+04</td> <td> 2361.016</td> <td>  -24.459</td> <td> 0.000</td> <td>-6.24e+04</td> <td>-5.31e+04</td>\n",
       "</tr>\n",
       "<tr>\n",
       "  <th>housing_median_age</th>       <td> 1.372e+04</td> <td>  615.841</td> <td>   22.273</td> <td> 0.000</td> <td> 1.25e+04</td> <td> 1.49e+04</td>\n",
       "</tr>\n",
       "<tr>\n",
       "  <th>total_bedrooms</th>           <td> 6137.4265</td> <td> 2783.140</td> <td>    2.205</td> <td> 0.027</td> <td>  682.172</td> <td> 1.16e+04</td>\n",
       "</tr>\n",
       "<tr>\n",
       "  <th>population</th>               <td>-4.624e+04</td> <td> 1318.805</td> <td>  -35.063</td> <td> 0.000</td> <td>-4.88e+04</td> <td>-4.37e+04</td>\n",
       "</tr>\n",
       "<tr>\n",
       "  <th>households</th>               <td> 4.529e+04</td> <td> 3141.372</td> <td>   14.416</td> <td> 0.000</td> <td> 3.91e+04</td> <td> 5.14e+04</td>\n",
       "</tr>\n",
       "<tr>\n",
       "  <th>median_income</th>            <td> 7.438e+04</td> <td>  711.542</td> <td>  104.531</td> <td> 0.000</td> <td>  7.3e+04</td> <td> 7.58e+04</td>\n",
       "</tr>\n",
       "<tr>\n",
       "  <th>rooms_per_household</th>      <td> 6566.4694</td> <td>  668.378</td> <td>    9.824</td> <td> 0.000</td> <td> 5256.376</td> <td> 7876.562</td>\n",
       "</tr>\n",
       "<tr>\n",
       "  <th>population_per_household</th> <td> 1099.9052</td> <td>  551.708</td> <td>    1.994</td> <td> 0.046</td> <td>   18.497</td> <td> 2181.313</td>\n",
       "</tr>\n",
       "<tr>\n",
       "  <th>bedrooms_per_room</th>        <td> 9519.9534</td> <td>  704.451</td> <td>   13.514</td> <td> 0.000</td> <td> 8139.153</td> <td> 1.09e+04</td>\n",
       "</tr>\n",
       "<tr>\n",
       "  <th>INLAND</th>                   <td>-3.762e+04</td> <td> 1935.087</td> <td>  -19.440</td> <td> 0.000</td> <td>-4.14e+04</td> <td>-3.38e+04</td>\n",
       "</tr>\n",
       "<tr>\n",
       "  <th>ISLAND</th>                   <td>  1.27e+05</td> <td> 4.86e+04</td> <td>    2.614</td> <td> 0.009</td> <td> 3.17e+04</td> <td> 2.22e+05</td>\n",
       "</tr>\n",
       "<tr>\n",
       "  <th>NEAR_BAY</th>                 <td>-5443.8532</td> <td> 2066.414</td> <td>   -2.634</td> <td> 0.008</td> <td>-9494.248</td> <td>-1393.459</td>\n",
       "</tr>\n",
       "</table>"
      ],
      "text/plain": [
       "<class 'statsmodels.iolib.table.SimpleTable'>"
      ]
     },
     "execution_count": 27,
     "metadata": {},
     "output_type": "execute_result"
    }
   ],
   "source": [
    "lm_res = lm.summary()\n",
    "lm_res.tables[1]"
   ]
  },
  {
   "cell_type": "markdown",
   "metadata": {},
   "source": [
    "### Итерация 5"
   ]
  },
  {
   "cell_type": "code",
   "execution_count": 28,
   "metadata": {},
   "outputs": [],
   "source": [
    "# выкиним population_per_household так как у него наибольшоее p-value\n",
    "_iteration_cols = _iteration_cols.drop('population_per_household')"
   ]
  },
  {
   "cell_type": "code",
   "execution_count": 29,
   "metadata": {},
   "outputs": [
    {
     "name": "stdout",
     "output_type": "stream",
     "text": [
      "RMSE: 68645.5127449\n",
      "R^2: 0.647984928243\n"
     ]
    }
   ],
   "source": [
    "lm = smf.ols(get_formula(_iteration_cols), train_df).fit()\n",
    "rss = np.sum(lm.resid ** 2)\n",
    "rmse = np.sqrt(rss / len(lm.resid))\n",
    "print(\"RMSE:\", rmse)\n",
    "print(\"R^2:\", lm.rsquared)"
   ]
  },
  {
   "cell_type": "code",
   "execution_count": 30,
   "metadata": {
    "scrolled": false
   },
   "outputs": [
    {
     "data": {
      "text/html": [
       "<table class=\"simpletable\">\n",
       "<tr>\n",
       "           <td></td>              <th>coef</th>     <th>std err</th>      <th>t</th>      <th>P>|t|</th>  <th>[0.025</th>    <th>0.975]</th>  \n",
       "</tr>\n",
       "<tr>\n",
       "  <th>Intercept</th>           <td> 2.196e+05</td> <td>  876.534</td> <td>  250.498</td> <td> 0.000</td> <td> 2.18e+05</td> <td> 2.21e+05</td>\n",
       "</tr>\n",
       "<tr>\n",
       "  <th>longitude</th>           <td>-5.662e+04</td> <td> 2235.564</td> <td>  -25.327</td> <td> 0.000</td> <td> -6.1e+04</td> <td>-5.22e+04</td>\n",
       "</tr>\n",
       "<tr>\n",
       "  <th>latitude</th>            <td>-5.766e+04</td> <td> 2360.793</td> <td>  -24.423</td> <td> 0.000</td> <td>-6.23e+04</td> <td> -5.3e+04</td>\n",
       "</tr>\n",
       "<tr>\n",
       "  <th>housing_median_age</th>  <td> 1.375e+04</td> <td>  615.684</td> <td>   22.331</td> <td> 0.000</td> <td> 1.25e+04</td> <td>  1.5e+04</td>\n",
       "</tr>\n",
       "<tr>\n",
       "  <th>total_bedrooms</th>      <td> 6261.4385</td> <td> 2782.696</td> <td>    2.250</td> <td> 0.024</td> <td>  807.055</td> <td> 1.17e+04</td>\n",
       "</tr>\n",
       "<tr>\n",
       "  <th>population</th>          <td> -4.56e+04</td> <td> 1279.507</td> <td>  -35.641</td> <td> 0.000</td> <td>-4.81e+04</td> <td>-4.31e+04</td>\n",
       "</tr>\n",
       "<tr>\n",
       "  <th>households</th>          <td> 4.457e+04</td> <td> 3120.870</td> <td>   14.280</td> <td> 0.000</td> <td> 3.84e+04</td> <td> 5.07e+04</td>\n",
       "</tr>\n",
       "<tr>\n",
       "  <th>median_income</th>       <td> 7.446e+04</td> <td>  710.465</td> <td>  104.803</td> <td> 0.000</td> <td> 7.31e+04</td> <td> 7.59e+04</td>\n",
       "</tr>\n",
       "<tr>\n",
       "  <th>rooms_per_household</th> <td> 6535.1012</td> <td>  668.253</td> <td>    9.779</td> <td> 0.000</td> <td> 5225.253</td> <td> 7844.949</td>\n",
       "</tr>\n",
       "<tr>\n",
       "  <th>bedrooms_per_room</th>   <td> 9567.1946</td> <td>  704.116</td> <td>   13.588</td> <td> 0.000</td> <td> 8187.051</td> <td> 1.09e+04</td>\n",
       "</tr>\n",
       "<tr>\n",
       "  <th>INLAND</th>              <td> -3.76e+04</td> <td> 1935.242</td> <td>  -19.430</td> <td> 0.000</td> <td>-4.14e+04</td> <td>-3.38e+04</td>\n",
       "</tr>\n",
       "<tr>\n",
       "  <th>ISLAND</th>              <td>  1.27e+05</td> <td> 4.86e+04</td> <td>    2.614</td> <td> 0.009</td> <td> 3.18e+04</td> <td> 2.22e+05</td>\n",
       "</tr>\n",
       "<tr>\n",
       "  <th>NEAR_BAY</th>            <td>-5452.0482</td> <td> 2066.596</td> <td>   -2.638</td> <td> 0.008</td> <td>-9502.800</td> <td>-1401.297</td>\n",
       "</tr>\n",
       "</table>"
      ],
      "text/plain": [
       "<class 'statsmodels.iolib.table.SimpleTable'>"
      ]
     },
     "execution_count": 30,
     "metadata": {},
     "output_type": "execute_result"
    }
   ],
   "source": [
    "lm_res = lm.summary()\n",
    "lm_res.tables[1]"
   ]
  },
  {
   "cell_type": "markdown",
   "metadata": {},
   "source": [
    "### Итерация 6"
   ]
  },
  {
   "cell_type": "code",
   "execution_count": 31,
   "metadata": {},
   "outputs": [],
   "source": [
    "# выкиним total_bedrooms так как у него наибольшоее p-value\n",
    "_iteration_cols = _iteration_cols.drop('total_bedrooms')"
   ]
  },
  {
   "cell_type": "code",
   "execution_count": 32,
   "metadata": {},
   "outputs": [
    {
     "name": "stdout",
     "output_type": "stream",
     "text": [
      "RMSE: 68656.0446777\n",
      "R^2: 0.647876904183\n"
     ]
    }
   ],
   "source": [
    "lm = smf.ols(get_formula(_iteration_cols), train_df).fit()\n",
    "rss = np.sum(lm.resid ** 2)\n",
    "rmse = np.sqrt(rss / len(lm.resid))\n",
    "print(\"RMSE:\", rmse)\n",
    "print(\"R^2:\", lm.rsquared)"
   ]
  },
  {
   "cell_type": "code",
   "execution_count": 33,
   "metadata": {},
   "outputs": [
    {
     "data": {
      "text/html": [
       "<table class=\"simpletable\">\n",
       "<tr>\n",
       "           <td></td>              <th>coef</th>     <th>std err</th>      <th>t</th>      <th>P>|t|</th>  <th>[0.025</th>    <th>0.975]</th>  \n",
       "</tr>\n",
       "<tr>\n",
       "  <th>Intercept</th>           <td> 2.195e+05</td> <td>  876.371</td> <td>  250.489</td> <td> 0.000</td> <td> 2.18e+05</td> <td> 2.21e+05</td>\n",
       "</tr>\n",
       "<tr>\n",
       "  <th>longitude</th>           <td>-5.624e+04</td> <td> 2229.567</td> <td>  -25.226</td> <td> 0.000</td> <td>-6.06e+04</td> <td>-5.19e+04</td>\n",
       "</tr>\n",
       "<tr>\n",
       "  <th>latitude</th>            <td>-5.736e+04</td> <td> 2357.482</td> <td>  -24.333</td> <td> 0.000</td> <td> -6.2e+04</td> <td>-5.27e+04</td>\n",
       "</tr>\n",
       "<tr>\n",
       "  <th>housing_median_age</th>  <td> 1.365e+04</td> <td>  614.294</td> <td>   22.226</td> <td> 0.000</td> <td> 1.24e+04</td> <td> 1.49e+04</td>\n",
       "</tr>\n",
       "<tr>\n",
       "  <th>population</th>          <td>-4.593e+04</td> <td> 1271.527</td> <td>  -36.120</td> <td> 0.000</td> <td>-4.84e+04</td> <td>-4.34e+04</td>\n",
       "</tr>\n",
       "<tr>\n",
       "  <th>households</th>          <td> 5.097e+04</td> <td> 1278.335</td> <td>   39.874</td> <td> 0.000</td> <td> 4.85e+04</td> <td> 5.35e+04</td>\n",
       "</tr>\n",
       "<tr>\n",
       "  <th>median_income</th>       <td>  7.44e+04</td> <td>  710.020</td> <td>  104.781</td> <td> 0.000</td> <td>  7.3e+04</td> <td> 7.58e+04</td>\n",
       "</tr>\n",
       "<tr>\n",
       "  <th>rooms_per_household</th> <td> 7179.5128</td> <td>  603.849</td> <td>   11.890</td> <td> 0.000</td> <td> 5995.904</td> <td> 8363.122</td>\n",
       "</tr>\n",
       "<tr>\n",
       "  <th>bedrooms_per_room</th>   <td> 1.001e+04</td> <td>  676.430</td> <td>   14.795</td> <td> 0.000</td> <td> 8681.879</td> <td> 1.13e+04</td>\n",
       "</tr>\n",
       "<tr>\n",
       "  <th>INLAND</th>              <td> -3.75e+04</td> <td> 1934.988</td> <td>  -19.381</td> <td> 0.000</td> <td>-4.13e+04</td> <td>-3.37e+04</td>\n",
       "</tr>\n",
       "<tr>\n",
       "  <th>ISLAND</th>              <td>  1.28e+05</td> <td> 4.86e+04</td> <td>    2.636</td> <td> 0.008</td> <td> 3.28e+04</td> <td> 2.23e+05</td>\n",
       "</tr>\n",
       "<tr>\n",
       "  <th>NEAR_BAY</th>            <td>-5295.4521</td> <td> 2065.679</td> <td>   -2.564</td> <td> 0.010</td> <td>-9344.405</td> <td>-1246.500</td>\n",
       "</tr>\n",
       "</table>"
      ],
      "text/plain": [
       "<class 'statsmodels.iolib.table.SimpleTable'>"
      ]
     },
     "execution_count": 33,
     "metadata": {},
     "output_type": "execute_result"
    }
   ],
   "source": [
    "lm_res = lm.summary()\n",
    "lm_res.tables[1]"
   ]
  },
  {
   "cell_type": "markdown",
   "metadata": {},
   "source": [
    "### Итерация 7"
   ]
  },
  {
   "cell_type": "code",
   "execution_count": 34,
   "metadata": {},
   "outputs": [],
   "source": [
    "# выкиним NEAR_BAY так как у него наибольшоее p-value\n",
    "_iteration_cols = _iteration_cols.drop('NEAR_BAY')"
   ]
  },
  {
   "cell_type": "code",
   "execution_count": 35,
   "metadata": {},
   "outputs": [
    {
     "name": "stdout",
     "output_type": "stream",
     "text": [
      "RMSE: 68669.7157389\n",
      "R^2: 0.647736657954\n"
     ]
    }
   ],
   "source": [
    "lm = smf.ols(get_formula(_iteration_cols), train_df).fit()\n",
    "rss = np.sum(lm.resid ** 2)\n",
    "rmse = np.sqrt(rss / len(lm.resid))\n",
    "print(\"RMSE:\", rmse)\n",
    "print(\"R^2:\", lm.rsquared)"
   ]
  },
  {
   "cell_type": "code",
   "execution_count": 36,
   "metadata": {},
   "outputs": [
    {
     "data": {
      "text/html": [
       "<table class=\"simpletable\">\n",
       "<tr>\n",
       "           <td></td>              <th>coef</th>     <th>std err</th>      <th>t</th>      <th>P>|t|</th>  <th>[0.025</th>    <th>0.975]</th>  \n",
       "</tr>\n",
       "<tr>\n",
       "  <th>Intercept</th>           <td> 2.187e+05</td> <td>  809.450</td> <td>  270.133</td> <td> 0.000</td> <td> 2.17e+05</td> <td>  2.2e+05</td>\n",
       "</tr>\n",
       "<tr>\n",
       "  <th>longitude</th>           <td>-5.553e+04</td> <td> 2212.506</td> <td>  -25.098</td> <td> 0.000</td> <td>-5.99e+04</td> <td>-5.12e+04</td>\n",
       "</tr>\n",
       "<tr>\n",
       "  <th>latitude</th>            <td>-5.744e+04</td> <td> 2357.711</td> <td>  -24.361</td> <td> 0.000</td> <td>-6.21e+04</td> <td>-5.28e+04</td>\n",
       "</tr>\n",
       "<tr>\n",
       "  <th>housing_median_age</th>  <td> 1.336e+04</td> <td>  603.727</td> <td>   22.131</td> <td> 0.000</td> <td> 1.22e+04</td> <td> 1.45e+04</td>\n",
       "</tr>\n",
       "<tr>\n",
       "  <th>population</th>          <td>-4.574e+04</td> <td> 1269.687</td> <td>  -36.026</td> <td> 0.000</td> <td>-4.82e+04</td> <td>-4.33e+04</td>\n",
       "</tr>\n",
       "<tr>\n",
       "  <th>households</th>          <td> 5.071e+04</td> <td> 1274.310</td> <td>   39.791</td> <td> 0.000</td> <td> 4.82e+04</td> <td> 5.32e+04</td>\n",
       "</tr>\n",
       "<tr>\n",
       "  <th>median_income</th>       <td> 7.439e+04</td> <td>  710.130</td> <td>  104.751</td> <td> 0.000</td> <td>  7.3e+04</td> <td> 7.58e+04</td>\n",
       "</tr>\n",
       "<tr>\n",
       "  <th>rooms_per_household</th> <td> 7150.3119</td> <td>  603.844</td> <td>   11.841</td> <td> 0.000</td> <td> 5966.713</td> <td> 8333.910</td>\n",
       "</tr>\n",
       "<tr>\n",
       "  <th>bedrooms_per_room</th>   <td> 1.001e+04</td> <td>  676.542</td> <td>   14.799</td> <td> 0.000</td> <td> 8685.847</td> <td> 1.13e+04</td>\n",
       "</tr>\n",
       "<tr>\n",
       "  <th>INLAND</th>              <td>-3.666e+04</td> <td> 1906.996</td> <td>  -19.223</td> <td> 0.000</td> <td>-4.04e+04</td> <td>-3.29e+04</td>\n",
       "</tr>\n",
       "<tr>\n",
       "  <th>ISLAND</th>              <td> 1.286e+05</td> <td> 4.86e+04</td> <td>    2.648</td> <td> 0.008</td> <td> 3.34e+04</td> <td> 2.24e+05</td>\n",
       "</tr>\n",
       "</table>"
      ],
      "text/plain": [
       "<class 'statsmodels.iolib.table.SimpleTable'>"
      ]
     },
     "execution_count": 36,
     "metadata": {},
     "output_type": "execute_result"
    }
   ],
   "source": [
    "lm_res = lm.summary()\n",
    "lm_res.tables[1]"
   ]
  },
  {
   "cell_type": "markdown",
   "metadata": {},
   "source": [
    "## Посмотрим на результат"
   ]
  },
  {
   "cell_type": "code",
   "execution_count": 37,
   "metadata": {},
   "outputs": [],
   "source": [
    "sub_X_train_prepared = train_df[_iteration_cols].values\n",
    "sub_X_test_prepared = test_df[_iteration_cols].values"
   ]
  },
  {
   "cell_type": "code",
   "execution_count": 38,
   "metadata": {},
   "outputs": [],
   "source": [
    "# было 66911.980708575458"
   ]
  },
  {
   "cell_type": "code",
   "execution_count": 39,
   "metadata": {},
   "outputs": [
    {
     "data": {
      "text/plain": [
       "66961.151959308263"
      ]
     },
     "execution_count": 39,
     "metadata": {},
     "output_type": "execute_result"
    }
   ],
   "source": [
    "lin_reg = LinearRegression().fit(sub_X_train_prepared, y_train)\n",
    "y_pred = lin_reg.predict(sub_X_test_prepared)\n",
    "mse = mean_squared_error(y_test, y_pred)\n",
    "rmse = np.sqrt(mse)\n",
    "rmse"
   ]
  },
  {
   "cell_type": "code",
   "execution_count": null,
   "metadata": {},
   "outputs": [],
   "source": []
  }
 ],
 "metadata": {
  "kernelspec": {
   "display_name": "Python 3",
   "language": "python",
   "name": "python3"
  },
  "language_info": {
   "codemirror_mode": {
    "name": "ipython",
    "version": 3
   },
   "file_extension": ".py",
   "mimetype": "text/x-python",
   "name": "python",
   "nbconvert_exporter": "python",
   "pygments_lexer": "ipython3",
   "version": "3.6.4"
  }
 },
 "nbformat": 4,
 "nbformat_minor": 2
}
