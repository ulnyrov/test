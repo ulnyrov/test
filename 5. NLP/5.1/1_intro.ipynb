{
 "cells": [
  {
   "cell_type": "markdown",
   "metadata": {
    "slideshow": {
     "slide_type": "slide"
    }
   },
   "source": [
    "# Автоматическая обработка текстов\n",
    "\n",
    "## Екатерина Черняк\n",
    "\n",
    "###  ФКН НИУ ВШЭ\n",
    "\n",
    "### echernyak@hse.ru"
   ]
  },
  {
   "cell_type": "markdown",
   "metadata": {
    "slideshow": {
     "slide_type": "slide"
    }
   },
   "source": [
    "# Введение"
   ]
  },
  {
   "cell_type": "markdown",
   "metadata": {
    "slideshow": {
     "slide_type": "subslide"
    }
   },
   "source": [
    "## Краткая история \n",
    "\n",
    "теоретическая лингвистика – корпусная лингвистика – ML & DL эра"
   ]
  },
  {
   "cell_type": "markdown",
   "metadata": {
    "slideshow": {
     "slide_type": "subslide"
    }
   },
   "source": [
    "## Основные задачи\n",
    "* Машинный перевод\n",
    "* Классификация текстов\n",
    "    * Фильтрация спама\n",
    "    * По тональности\n",
    "    * По теме или жанру\n",
    "* Кластеризация текстов\n",
    "* Извлечение информации\n",
    "    * Фактов и событий\n",
    "    * Именованных сущностей\n",
    "* Вопросно-ответные системы\n",
    "* Суммаризация текстов\n",
    "* Генерация текстов\n",
    "* Распознавание речи\n",
    "* Проверка правописания\n",
    "* Оптическое распознавание символов\n",
    "* Пользовательские эксперименты и оценка точности и качества методов"
   ]
  },
  {
   "cell_type": "markdown",
   "metadata": {
    "slideshow": {
     "slide_type": "subslide"
    }
   },
   "source": [
    "## Основные техники \n",
    "* Уровень символов:\n",
    "    * Токенизация: разбиение текста на слова\n",
    "    * Разбиение текста на предложения\n",
    "* Уровень слов – морфология:\n",
    "    * Разметка частей речи\n",
    "    * Снятие морфологической неоднозначности\n",
    "* Уровень предложений – синтаксис:\n",
    "    * Выделенние именных или глагольных групп (chunking)\n",
    "    * Выделенние семантических ролей\n",
    "    * Деревья составляющих и зависимостей\n",
    "* Уровень смысла – семантика и дискурс:\n",
    "    * Разрешение кореферентных связей\n",
    "    * Выделение синонимов\n",
    "    * Анализ аргументативных связей"
   ]
  },
  {
   "cell_type": "markdown",
   "metadata": {
    "slideshow": {
     "slide_type": "subslide"
    }
   },
   "source": [
    "## Основные проблемы\n",
    "* Неоднозначность\n",
    "    * Лексическая неоднозначность: *орган, парить, рожки, атлас*\n",
    "    * Морфологическая неоднозначность: *Хранение денег в банке. Что делают белки в клетке?*\n",
    "    * Синтаксическая неоднозначность: *Мужу изменять нельзя. Его удивил простой солдат.*\n",
    "* Неологизмы: *печеньки, заинстаграммить, репостнуть, расшарить, затащить, килорубли*\n",
    "* Разные варианты написания: *Россия, Российская Федерация, РФ*\n",
    "* Нестандартное написание: *каг дила?*"
   ]
  },
  {
   "cell_type": "markdown",
   "metadata": {},
   "source": [
    "![pipeline](nlp_pipeline.jpg)"
   ]
  },
  {
   "cell_type": "markdown",
   "metadata": {
    "slideshow": {
     "slide_type": "subslide"
    }
   },
   "source": [
    "### Синтаксическая неоднозначность \n",
    "![синтаксическая неоднозначность](http://78.media.tumblr.com/d6552ff51881937371c94dc18865d711/tumblr_mo1nl6Nt9n1rwewyjo1_400.jpg)\n",
    "\n",
    "\n",
    "* I saw the man. The man was on the hill. I was using a telescope.\n",
    "* I saw the man. I was on the hill. I was using a telescope.\n",
    "* I saw the man. The man was on the hill. The hill had a telescope.\n",
    "* I saw the man. I was on the hill. The hill had a telescope.\n",
    "* I saw the man. The man was on the hill. I saw him using a telescope."
   ]
  },
  {
   "cell_type": "markdown",
   "metadata": {
    "slideshow": {
     "slide_type": "slide"
    }
   },
   "source": [
    "# План\n",
    "1. Предварительная обработка текстов: регулярные выражения и POS тэггинг\n",
    "2. Извлечение ключевых слов и синтаксический анализ \n",
    "3. Векторная модель, модели скрытых тем\n",
    "4. Векторная модель, дистрибутивная семантика\n",
    "5. Классификация текстов\n",
    "6. Языковые модели \n",
    "7. Извлечение информации\n",
    "8. Сбор и разметка данных"
   ]
  },
  {
   "cell_type": "markdown",
   "metadata": {
    "slideshow": {
     "slide_type": "subslide"
    }
   },
   "source": [
    "## План на сегодня\n",
    "1. Как разбить текст на слова? \n",
    "2. Как посчитать количество слов?\n",
    "3. Все ли слова нужны? Удаление стоп-слов.\n",
    "4. Как определить часть речи слова. \n",
    "\n",
    "Инструменты: регулярные выражения, nltk, pymorphy2, pymystem3 "
   ]
  },
  {
   "cell_type": "markdown",
   "metadata": {
    "slideshow": {
     "slide_type": "slide"
    }
   },
   "source": [
    "# Токенизация и подсчет количества слов\n"
   ]
  },
  {
   "cell_type": "markdown",
   "metadata": {
    "slideshow": {
     "slide_type": "fragment"
    }
   },
   "source": [
    "## Сколько слов в этом предложении?\n",
    "* На дворе трава, на траве дрова, не руби дрова на траве двора.*"
   ]
  },
  {
   "cell_type": "markdown",
   "metadata": {
    "slideshow": {
     "slide_type": "fragment"
    }
   },
   "source": [
    "** 12 токенов** : На, дворе, трава, на, траве, дрова, не, руби, дрова, на, траве, двора\n",
    "\n",
    "** 8 - 9 типов** : Н/на, дворе, трава, траве, дрова, не, руби, двора. \n",
    "\n",
    "** 6  лексем** : на, не, двор, трава, дрова, рубить"
   ]
  },
  {
   "cell_type": "markdown",
   "metadata": {
    "slideshow": {
     "slide_type": "fragment"
    }
   },
   "source": [
    "\n",
    "### Токен и тип\n",
    "\n",
    "**  Тип **  – уникальное слово из текста\n",
    "\n",
    "** Токен **  – тип и его позиция в тексте\n",
    "\n"
   ]
  },
  {
   "cell_type": "markdown",
   "metadata": {
    "slideshow": {
     "slide_type": "subslide"
    }
   },
   "source": [
    "\n",
    "### Обозначения \n",
    "$N$ = число токенов\n",
    "\n",
    "$V$ – словарь (все типы)\n",
    "\n",
    "$|V|$ = количество типов в словаре\n",
    "\n",
    "** Как связаны $N$ и $|V|$?**\n"
   ]
  },
  {
   "cell_type": "markdown",
   "metadata": {
    "slideshow": {
     "slide_type": "subslide"
    }
   },
   "source": [
    "### Закон Ципфа\n",
    "\n",
    "\n",
    "В любом достаточно большом тексте ранг типа обратно пропорционален его частоте: $f = \\frac{a}{r}$\n",
    "\n",
    "$f$ – частота типа, $r$  – ранг типа, $a$  – параметр, для славянских языков – около 0.07\n"
   ]
  },
  {
   "cell_type": "markdown",
   "metadata": {
    "slideshow": {
     "slide_type": "subslide"
    }
   },
   "source": [
    "### Закон Хипса\n",
    "\n",
    "С увеличением длины текста (количества токенов), количество типов увеличивается в соответствии с законом: $|V| = K*N^b$\n",
    "\n",
    "\n",
    "$N$  –  число токенов, $|V|$  – количество типов в словаре, $K, b$  –  параметры, обычно $K \\in [10,100], b \\in [0.4, 0.6]$"
   ]
  },
  {
   "cell_type": "markdown",
   "metadata": {
    "slideshow": {
     "slide_type": "slide"
    }
   },
   "source": [
    "# Анализ  сообщений vk.com"
   ]
  },
  {
   "cell_type": "code",
   "execution_count": 1,
   "metadata": {},
   "outputs": [],
   "source": [
    "import warnings\n",
    "warnings.filterwarnings('ignore')"
   ]
  },
  {
   "cell_type": "code",
   "execution_count": 2,
   "metadata": {
    "slideshow": {
     "slide_type": "subslide"
    }
   },
   "outputs": [
    {
     "data": {
      "text/html": [
       "<div>\n",
       "<table border=\"1\" class=\"dataframe\">\n",
       "  <thead>\n",
       "    <tr style=\"text-align: right;\">\n",
       "      <th></th>\n",
       "      <th>text</th>\n",
       "      <th>source</th>\n",
       "    </tr>\n",
       "  </thead>\n",
       "  <tbody>\n",
       "    <tr>\n",
       "      <th>0</th>\n",
       "      <td>Начальник Главного оперативного управления Ген...</td>\n",
       "      <td>mil</td>\n",
       "    </tr>\n",
       "    <tr>\n",
       "      <th>1</th>\n",
       "      <td>Артиллерийские подразделения общевойскового об...</td>\n",
       "      <td>mil</td>\n",
       "    </tr>\n",
       "    <tr>\n",
       "      <th>2</th>\n",
       "      <td>Подразделения морской пехоты Каспийской флотил...</td>\n",
       "      <td>mil</td>\n",
       "    </tr>\n",
       "    <tr>\n",
       "      <th>3</th>\n",
       "      <td>Команды на всеармейских этапах конкурсов АрМИ-...</td>\n",
       "      <td>mil</td>\n",
       "    </tr>\n",
       "    <tr>\n",
       "      <th>4</th>\n",
       "      <td>На большом учебно-методическом командирском сб...</td>\n",
       "      <td>mil</td>\n",
       "    </tr>\n",
       "  </tbody>\n",
       "</table>\n",
       "</div>"
      ],
      "text/plain": [
       "                                                text source\n",
       "0  Начальник Главного оперативного управления Ген...    mil\n",
       "1  Артиллерийские подразделения общевойскового об...    mil\n",
       "2  Подразделения морской пехоты Каспийской флотил...    mil\n",
       "3  Команды на всеармейских этапах конкурсов АрМИ-...    mil\n",
       "4  На большом учебно-методическом командирском сб...    mil"
      ]
     },
     "execution_count": 2,
     "metadata": {},
     "output_type": "execute_result"
    }
   ],
   "source": [
    "import pandas as pd\n",
    "\n",
    "df = pd.read_csv('../data/vk_texts_with_sources.csv', usecols = ['text', 'source'])\n",
    "\n",
    "df.text.dropna(inplace = True)\n",
    "df.head()\n",
    "\n"
   ]
  },
  {
   "cell_type": "markdown",
   "metadata": {
    "slideshow": {
     "slide_type": "subslide"
    }
   },
   "source": [
    "## Предварительный анализ коллекции"
   ]
  },
  {
   "cell_type": "markdown",
   "metadata": {
    "slideshow": {
     "slide_type": "fragment"
    }
   },
   "source": [
    "### Средняя длина текстов"
   ]
  },
  {
   "cell_type": "code",
   "execution_count": 3,
   "metadata": {
    "slideshow": {
     "slide_type": "fragment"
    }
   },
   "outputs": [
    {
     "data": {
      "text/plain": [
       "count    11526.000000\n",
       "mean       690.763057\n",
       "std        749.943222\n",
       "min          8.000000\n",
       "25%        186.000000\n",
       "50%        508.500000\n",
       "75%        944.000000\n",
       "max      13306.000000\n",
       "Name: text, dtype: float64"
      ]
     },
     "execution_count": 3,
     "metadata": {},
     "output_type": "execute_result"
    }
   ],
   "source": [
    "len_data = df.text.apply(len)\n",
    "len_data.describe()"
   ]
  },
  {
   "cell_type": "markdown",
   "metadata": {
    "slideshow": {
     "slide_type": "subslide"
    }
   },
   "source": [
    "### Количество текстов из разных пабликов"
   ]
  },
  {
   "cell_type": "code",
   "execution_count": 4,
   "metadata": {
    "slideshow": {
     "slide_type": "fragment"
    }
   },
   "outputs": [
    {
     "data": {
      "text/plain": [
       "<matplotlib.figure.Figure at 0x111fb6be0>"
      ]
     },
     "metadata": {},
     "output_type": "display_data"
    }
   ],
   "source": [
    "import matplotlib.pyplot as plt\n",
    "import numpy as np \n",
    "counts = df.source.value_counts()\n",
    "values = counts.tolist()\n",
    "labels = counts.index.tolist()\n",
    "\n",
    "\n",
    "y_pos = np.arange(len(labels))\n",
    "\n",
    " \n",
    "plt.bar(y_pos, values, align='center', alpha=0.5)\n",
    "plt.xticks(y_pos, range(len(labels)))\n",
    "\n",
    " \n",
    "plt.show()"
   ]
  },
  {
   "cell_type": "markdown",
   "metadata": {
    "slideshow": {
     "slide_type": "subslide"
    }
   },
   "source": [
    "### Длины текстов (в символах)"
   ]
  },
  {
   "cell_type": "code",
   "execution_count": 5,
   "metadata": {
    "slideshow": {
     "slide_type": "fragment"
    }
   },
   "outputs": [
    {
     "data": {
      "image/png": "[encoded data removed]",
      "text/plain": [
       "<matplotlib.figure.Figure at 0x111ae1860>"
      ]
     },
     "metadata": {},
     "output_type": "display_data"
    }
   ],
   "source": [
    "fig, ax = plt.subplots()\n",
    "\n",
    "length = len_data[len_data < 10000].tolist()\n",
    "\n",
    "n, bins, patches = ax.hist(length)\n",
    "\n",
    "fig.show()"
   ]
  },
  {
   "cell_type": "markdown",
   "metadata": {
    "slideshow": {
     "slide_type": "subslide"
    }
   },
   "source": [
    "## Токенизация\n",
    "\n",
    "Используем регулярные выражения, чтобы разбить тексты на слова"
   ]
  },
  {
   "cell_type": "code",
   "execution_count": null,
   "metadata": {},
   "outputs": [],
   "source": []
  },
  {
   "cell_type": "code",
   "execution_count": 6,
   "metadata": {
    "slideshow": {
     "slide_type": "fragment"
    }
   },
   "outputs": [
    {
     "data": {
      "text/plain": [
       "'начальник главного оперативного управления генерального штаба вооруженных сил рф генерал полковник сергей рудской провел брифинг для сми по ситуации в сирии с начала этого года сирийскими правительственными войсками при поддержке вкс россии достигнуты значительные успехи по освобождению ключевых районов сирии от остатков террористических группировок это восточная часть провинции идлиб пригороды дамаска восточная гута восточный каламун ярмук северные районы провинции хомс которые в настоящее время находятся полностью под контролем правительственных войск в январе феврале в восточной части провинции идлиб была окружена и уничтожена крупная группировка джабхат ан нусра численностью более боевиков а также разрозненные бандгруппы игиловцев в результате под контроль правительственных войск перешла территория от кафер аккара до саббура с севера на юг и от синджара до эль хаммам с запада на восток площадью более четырех тысяч квадратных километров в настоящее время возобновлено движение по дороге соединяющей хаму и алеппо в освобожденных районах интенсивно налаживается мирная жизнь что способствует возвращению беженцев так через гуманитарный коридор в районе населенных пунктов абу духур и тель султан из западной части провинции идлиб в провинцию алеппо вернулось тысяч мирных жителя постепенно нормализуется ситуация в зоне деэскалации идлиб завершено выставление наблюдательных постов вдоль линии разграничения на которых несут службу военнослужащие стран гарантов астанинских соглашений ирана россии и турции всего российской стороной выставлено постов турцией ираном они обеспечивают контроль соблюдения режима прекращения боевых действий правительственными войсками и вооруженной оппозицией между постами установлена устойчивая связь организован постоянный обмен информацией об обстановке и нарушениях режима прекращения боевых действий принимаются меры по их пресечению и урегулированию конфликтных ситуаций завершена операция правительственных войск по освобождению всех пригородов дамаска в ходе нее под руководством российского центра по примирению враждующих сторон была проведена беспрецедентная по своему масштабу гуманитарная операция в восточной гуте восточном каламуне и ярмуке во избежание напрасных потерь и жертв среди мирного населения по специально созданным гуманитарным коридорам из пригородов дамаска выведено тысяч человека среди которых тысяч боевиков по их желанию они были выведены в северные районы страны большая часть мирных граждан уже вернулась в свои дома последним оплотом террористов в сирийской столице являлся бывший лагерь палестинских беженцев ярмук который был превращен в убежище для игиловцев разгромленных ранее сирийской армией в различных районах сирии на сегодняшний день вооруженные формирования игил действовавшие в западной части ярмука полностью уничтожены территория перешла под контроль правительственных войск кроме того благодаря работе проведенной российским центром по примирению враждующих сторон члены отрядов вооруженной оппозиции из восточной части ярмука смогли по своему желанию либо воспользоваться действующей амнистией и вернуться к мирной жизни либо выехать с семьями в провинцию идлиб всего из ярмука было вывезено тысячи боевика в результате проведенной операции впервые за шесть лет жители сирийской столицы почувствовали себя в безопасности прекратились ежедневные обстрелы жилых кварталов города террористические акты и похищения людей свободу получили заложники удерживаемые боевиками в районах ранее контролируемых бандформированиями на порядок снизились цены на продукты питания и медикаменты люди получили доступ к медицинскому обслуживанию сегодня обстановка в освобожденных районах полностью нормализовалась и способствует налаживанию мирной жизни по аналогичному сценарию проведена гуманитарная операция в зоне деэскалации хомс в ходе переговоров с лидерами вооруженных формирований шейхами племен и представителями религиозных общин была достигнута договоренность о переходе населенных пунктов в зоне деэскалации к мирной жизни и разблокировании движения по автомобильной дороге хомс хама члены отрядов вооруженной оппозиции получили возможность воспользоваться амнистией и остаться в своих населенных пунктах боевикам не пожелавшим перейти под юрисдикцию правительства сирии был обеспечен выезд в провинцию идлиб и на север провинции алеппо в город джераблус с мая из городов эр растан аль кантара шимали телль биса и других населенных пунктов вывезено тысяч участников незаконных вооруженных формирований вооруженными формированиями сдано правительственным войскам танков бмп пикапов с крупнокалиберными пулеметами орудия и миномета реактивных систем залпового огня комплексов птур ручных противотанковых гранатометов средств пво самодельных пусковых установок адский огонь а также крупнокалиберных пулеметов особо отмечу что освобождение зоны деэскалации хомс от боевиков достигнуто мирным путем боевые действия не велись что позволило полностью исключить жертвы среди мирных жителей и членов отрядов оппозиции данные вопросы а также текущая ситуация в сирии обсуждались представителями россии турции и ирана и на девятой международной встрече которая завершилась мая в астане представители стран гарантов подвели итоги развития ситуации на земле за год с момента подписания меморандума о создании зон деэскалации в сирийской арабской республике от мая г подчеркнули ключевую роль которую играют зоны деэскалации в поддержании режима прекращения боевых действий снижении уровня насилия и в целом стабилизации обстановки в сирии участники конференции приветствовали проведение представителями трех стран гарантов второго заседания рабочей группы по освобождению задержанных и заложников передаче тел погибших и поиску пропавших без вести при участии экспертов оон и мккк была подтверждена необходимость продолжения совместных усилий с целью укрепления доверия между конфликтующими сторонами в сирии стороны договорились приложить дополнительные усилия по направлению в сирию помощи населению содействию гуманитарному разминированию сохранению исторического наследия восстановлению объектов социальной и экономической инфраструктуры российский центр по примирению враждующих сторон продолжает работу по оказанию гуманитарной помощи населению сирии более подробно о ходе восстановления объектов инфраструктуры в районах освобожденных от вооруженных формирований и возвращении беженцев расскажет начальник центра по примирению враждующих сторон генерал майор юрий евтушенко находящийся на видеоконференцсвязи юрий евтушенко отметил что после освобождения восточной гуты от боевиков основные усилия центра по примирению враждующих сторон сосредоточены на постконфликтном урегулировании и создании условий для возращения людей к мирной жизни для расчистки завалов уборки улиц восстановления объектов жилищно коммунального хозяйства в населенные пункты дума кафер батна дахийят аль асад и арбил доставлена российская специальная техника пиломатериалы силовые и оптоволоконные кабели водопроводные трубы и другие строительные материалы это позволило ремонтным бригадам оперативно приступить к восстановлению объектов инфраструктуры в восточной гуте представители центра по примирению постоянно проводят мониторинг гуманитарной обстановки координируя с органами государственной власти сирийской арабской республики и местного управления вопросы восстановления социально значимых объектов имеющих первоочередное значение речь идет о школах больницах хлебопекарнях объектах электро и водоснабжения инженерно саперными подразделениями сирийской армии не прекращается работа по разминированию жилых строений вывозу боеприпасов и мин на сегодняшний день в населенных пунктах восточной гуты разминировано здания и сооружения километра дорог обнаружено и обезврежено взрывоопасных предметов расчищено от завалов более квадратных километров площади населенных пунктов благодаря улучшению гуманитарной ситуации из лагерей беженцев и временно перемещенных лиц в свои дома уже вернулось тысяч жителей восточной гуты для исключения провокаций и обеспечения безопасности местных жителей подразделениями российской военной полиции в восточной гуте восточном каламуне ярмуке эр растане и телль бисе ежедневно выставляются наблюдательные посты ведется патрулирование российской стороной предпринимаются усилия по улучшению гуманитарной ситуации и в других районах сирии только за текущий месяц центром по примирению проведена гуманитарная акция в ходе чего населению передано более тонн продовольствия бутилированной воды и предметов первой необходимости российскими военными врачами оказана медицинская помощь более мирных жителей сирийские власти совместно с российским центром по примирению продолжают работу по созданию условий для возвращения граждан в места прежнего проживания с ноября года в свои дома в провинции хомс вернулось тысяч человека в провинции дейр эз зор на восточный берег реки евфрат тысяч человека в населенные пункты восточного каламуна с апреля года возвратилось более тысяч человек в свою очередь генерал полковник сергей рудской заявил что несмотря на активную работу российского центра по примирению враждующих сторон для полного восстановления районов пострадавших в ходе боевых действий против террористических группировок в сирии и экономики страны в целом требуется помощь всего международного сообщества мы призываем оон и другие международные организации подключаться к данному процессу о шагах предпринимаемых российской стороной на данном направлении выступит представитель минобороны россии в женеве полковник юрий тарасов представитель минобороны россии в женеве полковник юрий тарасов подчеркнул что успешные мероприятия по замирению бывших зон деэскалации в восточной гуте провинциях хама и хомс привели к освобождению данных районов от экстремистов и их полному разблокированию это дает возможность оказания масштабной гуманитарной помощи населению которое долгое время находилось в изоляции и использовалось террористами в качестве живого щита российские представители в целевых группах оперативно информируют офис специального посланника генерального секретаря оон по сирии о ситуации в освобожденных районах в целях скорейшего подключения гуманитарных агентств к восстановлению мирной жизни и решению насущных проблем населения возвращающегося в свои дома как только были решены проблемы обеспечения безопасности в восточной гуте связанные с разминированием и расчисткой дорог сирийское правительство по согласованию с российской стороной дало разрешение на вход туда оценочных миссий оон так мая ооновские специалисты организации посетили районы кафер батна и сакба в ближайшее время планируется направление миссии в город дума по линии гуманитарной целевой группы обсуждается план проведения подобной работы в провинции хомс в контактах с ооновцами российские представители стараются ускорить переход международных организаций от этапа оценки ситуации к практическим шагам по оказанию помощи в ходе еженедельных заседаний проводим работу направленную на развитие интереса стран членов международной группы поддержки сирии к оказанию содействия населению освобожденных районов в настоящее время нами прорабатывается вопрос подключения международных организаций к гуманитарному разминированию на территории страны открытие в дамаске офиса службы оон по разминированию находится на завершающем этапе согласования российские представители в целевых группах по прекращению огня и гуманитарной помощи находятся в круглосуточной готовности к взаимодействию с международными агентствами в том числе по вопросам деконфликтации прохождения конвоев и оценочных миссий кроме того мы регулярно предоставляем структурам оон информацию по приоритетным направлениям оказания гуманитарной помощи в стране что способствует направлению ее в наиболее нуждающиеся районы надеемся что оон и другие международные организации не на словах а на деле подтвердят свою заинтересованность в скорейшем восстановлении территорий сирии наиболее пострадавших от террористов и возвращении их к мирной жизни в заключение генерал полковник сергей рудской отметил что в настоящее время созданы все условия для возрождения сирии как единого неделимого государства но для достижения этой цели необходимо приложить усилия не только россии но и другим членам мирового сообщества генеральный штаб вооруженных сил российской федерации внимательно отслеживает развитие ситуации на территории сирии мы продолжим информировать вас о ее изменениях минобороны брифинг рудской сирия'"
      ]
     },
     "execution_count": 6,
     "metadata": {},
     "output_type": "execute_result"
    }
   ],
   "source": [
    "import re\n",
    "regex = re.compile(\"[А-Яа-я]+\")\n",
    "\n",
    "def words_only(text, regex=regex):\n",
    "    try:\n",
    "        return \" \".join(regex.findall(text))\n",
    "    except:\n",
    "        return \"\"\n",
    "\n",
    "\n",
    "df.text = df.text.str.lower()\n",
    "df.text = df.text.apply(words_only)\n",
    "\n",
    "df.text.iloc[0]"
   ]
  },
  {
   "cell_type": "markdown",
   "metadata": {
    "slideshow": {
     "slide_type": "subslide"
    }
   },
   "source": [
    "### Самые частые слова"
   ]
  },
  {
   "cell_type": "code",
   "execution_count": 7,
   "metadata": {
    "slideshow": {
     "slide_type": "fragment"
    }
   },
   "outputs": [
    {
     "name": "stdout",
     "output_type": "stream",
     "text": [
      "('в', 39552)\n",
      "('и', 29656)\n",
      "('на', 17274)\n",
      "('по', 14798)\n",
      "('с', 11919)\n",
      "('россии', 9444)\n",
      "('мвд', 6215)\n",
      "('из', 4855)\n",
      "('для', 4635)\n",
      "('а', 4117)\n"
     ]
    }
   ],
   "source": [
    "from nltk import FreqDist\n",
    "n_types = []\n",
    "n_tokens = []\n",
    "tokens = []\n",
    "fd = FreqDist()\n",
    "for index, row in df.iterrows():\n",
    "    tokens = row['text'].split()\n",
    "    fd.update(tokens)\n",
    "    n_types.append(len(fd))\n",
    "    n_tokens.append(sum(fd.values()))\n",
    "for i in fd.most_common(10):\n",
    "    print(i)"
   ]
  },
  {
   "cell_type": "markdown",
   "metadata": {
    "slideshow": {
     "slide_type": "subslide"
    }
   },
   "source": [
    "### Закон Ципфа"
   ]
  },
  {
   "cell_type": "code",
   "execution_count": 8,
   "metadata": {
    "slideshow": {
     "slide_type": "fragment"
    }
   },
   "outputs": [
    {
     "data": {
      "image/png": "[encoded data removed]",
      "text/plain": [
       "<matplotlib.figure.Figure at 0x11b8005c0>"
      ]
     },
     "metadata": {},
     "output_type": "display_data"
    }
   ],
   "source": [
    "freqs = list(fd.values())\n",
    "freqs = sorted(freqs, reverse = True)\n",
    "\n",
    "fig, ax = plt.subplots()\n",
    "ax.plot(freqs[:300], range(300))\n",
    "plt.show()"
   ]
  },
  {
   "cell_type": "markdown",
   "metadata": {
    "slideshow": {
     "slide_type": "subslide"
    }
   },
   "source": [
    "### Закон Хипса"
   ]
  },
  {
   "cell_type": "code",
   "execution_count": 9,
   "metadata": {
    "slideshow": {
     "slide_type": "fragment"
    }
   },
   "outputs": [
    {
     "data": {
      "image/png": "[encoded data removed]",
      "text/plain": [
       "<matplotlib.figure.Figure at 0x11b886080>"
      ]
     },
     "metadata": {},
     "output_type": "display_data"
    }
   ],
   "source": [
    "fig, ax = plt.subplots()\n",
    "ax.plot(n_types, n_tokens)\n",
    "plt.show()\n"
   ]
  },
  {
   "cell_type": "markdown",
   "metadata": {
    "slideshow": {
     "slide_type": "slide"
    }
   },
   "source": [
    "##  Регулярные выражения подробнее\n",
    "\n",
    "\n",
    "__*Классы символов:*__\n",
    "\n",
    "__[A-Z]__ – символы верхнего регистра (латиница)\n",
    "\n",
    "__[a-z]__ – символы нижнего регистра (латиница)\n",
    "\n",
    "__[А-Я]__ – символы верхнего регистра (кириллица)\n",
    "\n",
    "__[а-я]__ – символы нижнего регистра (кириллица)\n",
    "\n",
    "__[0-9]__ или __\\d__ – цифра\n",
    "\n",
    "__[^0-9]__ или __\\D__ – любой символ, кроме цифры\n",
    "\n",
    "__.__ – любой символ\n",
    "\n"
   ]
  },
  {
   "cell_type": "markdown",
   "metadata": {
    "slideshow": {
     "slide_type": "subslide"
    }
   },
   "source": [
    "__*Служебные символы:*__\n",
    "\n",
    "__\\t__ – табуляция\n",
    "\n",
    "__\\s__ – любой пробельный символ\n",
    "\n",
    "__\\S__ – все символы, кроме пробельных\n",
    "\n",
    "__\\n__  – перенос строки\n",
    "\n",
    "__^__ – начало строки\n",
    "\n",
    "__$__ – конец строки\n",
    "\n",
    "__\\__ – экранирование"
   ]
  },
  {
   "cell_type": "markdown",
   "metadata": {
    "slideshow": {
     "slide_type": "subslide"
    }
   },
   "source": [
    "__*Операторы:*__\n",
    "\n",
    "__?__ - предыдущий символ/группа может быть, а может не быть\n",
    "\n",
    "__+__ - предыдущий символ/группа может повторяться 1 и более раз\n",
    "\n",
    "__*__ - предыдущий символ/группа может повторяться 0 и более раз\n",
    "\n",
    "__{n,m}__ - предыдущий символ/группа может повторяться от от n до m включительно\n",
    "\n",
    "__{n,}__ - предыдущий символ/группа в скобках может повторяться n и более раз\n",
    "\n",
    "__{,m}__ - предыдущий символ/группа может повторяться до m раз\n",
    "\n",
    "__{n}__ - предыдущий символ/группа повторяется n раз\n",
    "\n",
    "Внутри групп не работают операторы __.__, __+__, __*__, их необходимо экранировать с помощью обратного слеша: \\\n",
    "\n"
   ]
  },
  {
   "cell_type": "markdown",
   "metadata": {
    "slideshow": {
     "slide_type": "subslide"
    }
   },
   "source": [
    "__*Методы:*__\n",
    "\n",
    "__re.match(pattern, string)__ - найти подстроку pattern в начале строки string\n",
    "\n"
   ]
  },
  {
   "cell_type": "code",
   "execution_count": 10,
   "metadata": {
    "slideshow": {
     "slide_type": "fragment"
    }
   },
   "outputs": [
    {
     "name": "stdout",
     "output_type": "stream",
     "text": [
      "<_sre.SRE_Match object; span=(0, 5), match='рыбак'>\n",
      "рыбак\n",
      "0 5\n",
      "None\n"
     ]
    }
   ],
   "source": [
    "import re\n",
    "\n",
    "m = re.match(r'рыбак', 'рыбак рыбака видит издалека')\n",
    "\n",
    "print(m)\n",
    "print(m.group(0))\n",
    "print(m.start(), m.end())\n",
    "\n",
    "l = re.match(r'видит', 'рыбак рыбака видит издалека')\n",
    "print(l)"
   ]
  },
  {
   "cell_type": "markdown",
   "metadata": {
    "slideshow": {
     "slide_type": "subslide"
    }
   },
   "source": [
    "\n",
    "__re.search(pattern, string)__ - аналогичен методу match, но ищет не только в начале строки (но возвращает только первое вхождение!)\n",
    "\n",
    "\n"
   ]
  },
  {
   "cell_type": "code",
   "execution_count": 11,
   "metadata": {
    "slideshow": {
     "slide_type": "fragment"
    }
   },
   "outputs": [
    {
     "name": "stdout",
     "output_type": "stream",
     "text": [
      "<_sre.SRE_Match object; span=(19, 27), match='издалека'>\n",
      "издалека\n",
      "19 27\n",
      "None\n"
     ]
    }
   ],
   "source": [
    "m = re.search(r'издалека', 'рыбак рыбака видит издалека')\n",
    "\n",
    "print(m)\n",
    "print(m.group(0))\n",
    "print(m.start(), m.end())\n",
    "\n",
    "l = re.search(r'прорубь', 'рыбак рыбака видит издалека')\n",
    "print(l)"
   ]
  },
  {
   "cell_type": "markdown",
   "metadata": {
    "slideshow": {
     "slide_type": "subslide"
    }
   },
   "source": [
    "__re.findall(pattern, string)__ -  возвращает все вхождения pattern в string в виде списка"
   ]
  },
  {
   "cell_type": "code",
   "execution_count": 12,
   "metadata": {
    "slideshow": {
     "slide_type": "fragment"
    }
   },
   "outputs": [
    {
     "name": "stdout",
     "output_type": "stream",
     "text": [
      "['рыбак', 'рыбак']\n",
      "[]\n"
     ]
    }
   ],
   "source": [
    "m = re.findall(r'рыбак', 'рыбак рыбака видит издалека')\n",
    "\n",
    "print(m)\n",
    "\n",
    "l = re.findall(r'прорубь', 'рыбак рыбака видит издалека')\n",
    "print(l)"
   ]
  },
  {
   "cell_type": "markdown",
   "metadata": {
    "slideshow": {
     "slide_type": "subslide"
    }
   },
   "source": [
    "__re.split(pattern, string, [maxsplit=0])__ - разделяет строку string по шаблону pattern; параметр maxsplit отвечает за максимальное количество разбиений (если их существует несколько).\n",
    "\n",
    "\n"
   ]
  },
  {
   "cell_type": "code",
   "execution_count": 13,
   "metadata": {
    "slideshow": {
     "slide_type": "fragment"
    }
   },
   "outputs": [
    {
     "name": "stdout",
     "output_type": "stream",
     "text": [
      "['рыбак рыбака ', ' издалека']\n",
      "['', ' ', 'а видит издалека'] 3\n",
      "['', ' рыбака видит издалека'] 2\n"
     ]
    }
   ],
   "source": [
    "m = re.split(r'видит', 'рыбак рыбака видит издалека')\n",
    "\n",
    "print(m)\n",
    "\n",
    "l = re.split(r'рыбак', 'рыбак рыбака видит издалека')\n",
    "print(l, len(l))\n",
    "\n",
    "l1 = re.split(r'рыбак', 'рыбак рыбака видит издалека',maxsplit=1)\n",
    "print(l1, len(l1))"
   ]
  },
  {
   "cell_type": "markdown",
   "metadata": {
    "slideshow": {
     "slide_type": "subslide"
    }
   },
   "source": [
    "__re.sub(pattern, string2, string1)__ - заменяет все вхождения pattern в string1 на srting2\n",
    "\n",
    "\n"
   ]
  },
  {
   "cell_type": "code",
   "execution_count": 14,
   "metadata": {
    "slideshow": {
     "slide_type": "fragment"
    }
   },
   "outputs": [
    {
     "name": "stdout",
     "output_type": "stream",
     "text": [
      "Рыбак Рыбака видит издалека\n"
     ]
    }
   ],
   "source": [
    "m = re.sub(r'рыбак', 'Рыбак', 'рыбак рыбака видит издалека')\n",
    "\n",
    "print(m)"
   ]
  },
  {
   "cell_type": "markdown",
   "metadata": {
    "slideshow": {
     "slide_type": "subslide"
    }
   },
   "source": [
    "__re.compile(pattern)__ - создает объект для последующего поиска"
   ]
  },
  {
   "cell_type": "code",
   "execution_count": 15,
   "metadata": {
    "slideshow": {
     "slide_type": "fragment"
    }
   },
   "outputs": [
    {
     "name": "stdout",
     "output_type": "stream",
     "text": [
      "['рыбак', 'рыбак']\n"
     ]
    }
   ],
   "source": [
    "prog = re.compile(r'рыбак')\n",
    "\n",
    "m = prog.findall('рыбак рыбака видит издалека')\n",
    "\n",
    "print(m)"
   ]
  },
  {
   "cell_type": "code",
   "execution_count": 16,
   "metadata": {
    "slideshow": {
     "slide_type": "subslide"
    }
   },
   "outputs": [
    {
     "name": "stdout",
     "output_type": "stream",
     "text": [
      "['Р', 'В']\n"
     ]
    }
   ],
   "source": [
    "prog = re.compile('[А-Я]') # поиск всех заглавныех букв в строке\n",
    "\n",
    "m = prog.findall('Рыбак рыбака видит издалека. Всегда!')\n",
    "\n",
    "print(m)"
   ]
  },
  {
   "cell_type": "code",
   "execution_count": 17,
   "metadata": {
    "slideshow": {
     "slide_type": "subslide"
    }
   },
   "outputs": [
    {
     "name": "stdout",
     "output_type": "stream",
     "text": [
      "у456ао, ы234ег, 99авто443\n",
      "у456ао\n"
     ]
    }
   ],
   "source": [
    "prog = re.compile('[авекорсту]{1}[0-9]{3}[авекорсту]{2}') # регулярное выражение для поиска автомобильных\n",
    "                                                          # номеров (русские буквы, совпадающие с латиницей)\n",
    "\n",
    "s = 'у456ао, ы234ег, 99авто443'\n",
    "print(s)\n",
    "res = prog.findall(s)\n",
    "\n",
    "print(*res)"
   ]
  },
  {
   "cell_type": "code",
   "execution_count": 18,
   "metadata": {
    "slideshow": {
     "slide_type": "subslide"
    }
   },
   "outputs": [
    {
     "name": "stdout",
     "output_type": "stream",
     "text": [
      "['кот котик компот']\n",
      "['кот', 'кот', 'к компот']\n",
      "['кот', 'кот', 'компот']\n",
      "['кот котик ']\n"
     ]
    }
   ],
   "source": [
    "# пример \"жадных\" операторов: ищем котов\n",
    "\n",
    "s = 'кот котик компот'\n",
    "res1 = re.findall(r'к.*т', s)\n",
    "print(res1)\n",
    "\n",
    "res2 = re.findall(r'к.*?т', s)\n",
    "print(res2)\n",
    "\n",
    "res3 = re.findall(r'к[\\S]*?т', s)\n",
    "print(res3)\n",
    "\n",
    "res4 = re.findall(r'кот.*\\s', s)\n",
    "print(res4)"
   ]
  },
  {
   "cell_type": "markdown",
   "metadata": {
    "slideshow": {
     "slide_type": "slide"
    }
   },
   "source": [
    "### __Задание 1__\n",
    "\n",
    "Найдите в тексте все номера телефонов; текст лежит в файле 'task1.txt'. Обратите внимание на возможные форматы написания номеров."
   ]
  },
  {
   "cell_type": "code",
   "execution_count": 19,
   "metadata": {
    "slideshow": {
     "slide_type": "fragment"
    }
   },
   "outputs": [
    {
     "name": "stdout",
     "output_type": "stream",
     "text": [
      "Гарантируется, что в номере 11 цифр и он отделен пробелом, но форматы написания могут отличаться:\n",
      "\n",
      "\n",
      "89268659970\tАнна\n",
      "8(495)3451212\tАлексей Иванин\n",
      "Автомастерская\t+7(234)456-78-90\n",
      "8(956)234-23-23\tсоседка 125 квартира\n",
      "Офис, 5 этаж\t85679962312 \n",
      "Игорь\t\t+7-845-344-23-65\n",
      "\n"
     ]
    }
   ],
   "source": [
    "import re\n",
    "\n",
    "with open ('../data/task1.txt', encoding='utf8') as f:\n",
    "    phones = f.read()\n",
    "    \n",
    "print(phones)\n",
    "\n",
    "#здесь Ваш код"
   ]
  },
  {
   "cell_type": "markdown",
   "metadata": {
    "slideshow": {
     "slide_type": "slide"
    }
   },
   "source": [
    "### Сегментация предложений"
   ]
  },
  {
   "cell_type": "markdown",
   "metadata": {
    "slideshow": {
     "slide_type": "subslide"
    }
   },
   "source": [
    "\"?\", \"!\" как правило однозначны. Проблемы возникают с \".\".\n",
    "\n",
    "Бинарный классификатор для сегментации предложений: для каждой точки \".\" определить, является ли она концом предложения или нет.\n"
   ]
  },
  {
   "cell_type": "code",
   "execution_count": 20,
   "metadata": {
    "slideshow": {
     "slide_type": "subslide"
    }
   },
   "outputs": [
    {
     "name": "stdout",
     "output_type": "stream",
     "text": [
      "3\n",
      "Первое предложение.\n",
      "Второе предложение!\n",
      "И, наконец, третье?\n"
     ]
    }
   ],
   "source": [
    "from nltk.tokenize import sent_tokenize\n",
    "\n",
    "text = 'Первое предложение. Второе предложение! И, наконец, третье?'\n",
    "sents = sent_tokenize(text)\n",
    "\n",
    "print(len(sents))\n",
    "print(*sents, sep='\\n')"
   ]
  },
  {
   "cell_type": "code",
   "execution_count": 21,
   "metadata": {},
   "outputs": [
    {
     "name": "stdout",
     "output_type": "stream",
     "text": [
      "[nltk_data] Downloading package punkt to /Users/katya/nltk_data...\n",
      "[nltk_data]   Package punkt is already up-to-date!\n"
     ]
    },
    {
     "data": {
      "text/plain": [
       "True"
      ]
     },
     "execution_count": 21,
     "metadata": {},
     "output_type": "execute_result"
    }
   ],
   "source": [
    "import nltk\n",
    "nltk.download('punkt')"
   ]
  },
  {
   "cell_type": "markdown",
   "metadata": {
    "slideshow": {
     "slide_type": "slide"
    }
   },
   "source": [
    "### __Задание 2__\n",
    "\n",
    "Посчитайте количество предложений, токенов и типов в тексте из файла task2.txt. Сохраните список токенов в массив tokens."
   ]
  },
  {
   "cell_type": "code",
   "execution_count": 22,
   "metadata": {
    "slideshow": {
     "slide_type": "slide"
    }
   },
   "outputs": [],
   "source": [
    "import re\n",
    "regex = re.compile(\"[А-Яа-я]+\")\n",
    "\n",
    "def words_only(text, regex=regex):\n",
    "    return \" \".join(regex.findall(text))"
   ]
  },
  {
   "cell_type": "markdown",
   "metadata": {
    "slideshow": {
     "slide_type": "slide"
    }
   },
   "source": [
    "## __Частотный анализ текста__"
   ]
  },
  {
   "cell_type": "code",
   "execution_count": 23,
   "metadata": {
    "slideshow": {
     "slide_type": "fragment"
    }
   },
   "outputs": [
    {
     "data": {
      "text/plain": [
       "[]"
      ]
     },
     "execution_count": 23,
     "metadata": {},
     "output_type": "execute_result"
    }
   ],
   "source": [
    "import nltk\n",
    "\n",
    "d1 = nltk.FreqDist(tokens) # частотный словарь для текста\n",
    "d1.most_common(10) # токен и кол-во его появлений в тексте"
   ]
  },
  {
   "cell_type": "markdown",
   "metadata": {
    "slideshow": {
     "slide_type": "slide"
    }
   },
   "source": [
    "### Задание 3\n",
    "\n",
    "1. Посчитайте, сколько слов в тексте task2 встречается больше одного раза.\n",
    "2. Посчитайте количество слов, состоящих из 5 букв и более."
   ]
  },
  {
   "cell_type": "markdown",
   "metadata": {
    "slideshow": {
     "slide_type": "slide"
    }
   },
   "source": [
    "# Морфологический анализ"
   ]
  },
  {
   "cell_type": "markdown",
   "metadata": {
    "slideshow": {
     "slide_type": "subslide"
    }
   },
   "source": [
    "### Задачи морфологического анализа\n",
    "* Разбор слова — определение нормальной формы  (леммы), основы (стема) и грамматических характеристик слова\n",
    "* Синтез слова — генерация слова по заданным грамматическим характеристикам\n",
    "\n",
    "\n",
    "### Морфологический процессор – инструмент морфологического анализа\n",
    "* Морфологический словарь \n",
    "* Морфологический анализатор"
   ]
  },
  {
   "cell_type": "markdown",
   "metadata": {
    "slideshow": {
     "slide_type": "subslide"
    }
   },
   "source": [
    "### Лемматизация \n",
    "У каждого слова есть *лемма* (нормальная форма): \n",
    "\n",
    "* кошке, кошку, кошкам, кошкой $\\implies$ кошка\n",
    "* бежал, бежит, бегу $\\implies$  бежать\n",
    "* белому, белым, белыми $\\implies$ белый"
   ]
  },
  {
   "cell_type": "code",
   "execution_count": 24,
   "metadata": {
    "slideshow": {
     "slide_type": "subslide"
    }
   },
   "outputs": [],
   "source": [
    "sent1 = 'Действительно, на его лице не отражалось никаких чувств – ни проблеска сочувствия не было на нем, а ведь боль просто невыносима'\n",
    "sent2 = 'У страха глаза велики .'"
   ]
  },
  {
   "cell_type": "code",
   "execution_count": 25,
   "metadata": {
    "slideshow": {
     "slide_type": "fragment"
    }
   },
   "outputs": [
    {
     "name": "stdout",
     "output_type": "stream",
     "text": [
      "действительно, на он лицо не отражаться никакой чувство – ни проблеск сочувствие не быть на нем, а ведь боль просто невыносимый\n"
     ]
    }
   ],
   "source": [
    "from pymorphy2 import MorphAnalyzer\n",
    "\n",
    "m = MorphAnalyzer()\n",
    "lemmas1 = [m.parse(word)[0].normal_form for word in sent1.split()]\n",
    "print(' '.join(lemmas1))"
   ]
  },
  {
   "cell_type": "code",
   "execution_count": 26,
   "metadata": {
    "slideshow": {
     "slide_type": "fragment"
    }
   },
   "outputs": [
    {
     "name": "stdout",
     "output_type": "stream",
     "text": [
      "действительно, на его лицо не отражаться никакой чувство – ни проблеск сочувствие не быть на немой, а ведь боль просто невыносимый\n",
      "\n"
     ]
    }
   ],
   "source": [
    "from pymystem3 import Mystem\n",
    "\n",
    "m = Mystem()\n",
    "lemmas2 = m.lemmatize(sent1)\n",
    "print(''.join(lemmas2))"
   ]
  },
  {
   "cell_type": "markdown",
   "metadata": {
    "slideshow": {
     "slide_type": "subslide"
    }
   },
   "source": [
    "### Стемминг\n",
    "Слова состоят из морфем: $word = stem + affixes$. Стемминг позволяет отбросить аффиксы. Чаще всего используется алгоритм Портера.\n",
    "\n",
    "* 1-ый вид ошибки: белый, белка, белье $\\implies$  бел\n",
    "\n",
    "* 2-ой вид ошибки: трудность, трудный $\\implies$  трудност, труд \n",
    "\n",
    "* 3-ий вид ошибки: быстрый, быстрее $\\implies$  быст, побыстрее $\\implies$  побыст\n",
    "\n",
    "Алгоритм Портера состоит из 5 циклов команд, на каждом цикле – операция удаления / замены суффикса. Возможны вероятностные расширения алгоритма.\n"
   ]
  },
  {
   "cell_type": "code",
   "execution_count": 27,
   "metadata": {
    "slideshow": {
     "slide_type": "subslide"
    }
   },
   "outputs": [
    {
     "name": "stdout",
     "output_type": "stream",
     "text": [
      "распределен\n",
      "пристав\n",
      "сдела\n",
      "словообразован\n"
     ]
    }
   ],
   "source": [
    "from nltk.stem.snowball import RussianStemmer\n",
    "\n",
    "stemmer = RussianStemmer()\n",
    "words = ['распределение', 'приставить', 'сделала', 'словообразование']\n",
    "for w in words:\n",
    "    stem = stemmer.stem(w)\n",
    "    print(stem)"
   ]
  },
  {
   "cell_type": "markdown",
   "metadata": {
    "slideshow": {
     "slide_type": "subslide"
    }
   },
   "source": [
    "### Разбор слова "
   ]
  },
  {
   "cell_type": "code",
   "execution_count": 28,
   "metadata": {
    "slideshow": {
     "slide_type": "fragment"
    }
   },
   "outputs": [],
   "source": [
    "word1 = 'ГАИ'"
   ]
  },
  {
   "cell_type": "code",
   "execution_count": 29,
   "metadata": {
    "slideshow": {
     "slide_type": "fragment"
    }
   },
   "outputs": [
    {
     "data": {
      "text/plain": [
       "[Parse(word='гаи', tag=OpencorporaTag('NOUN,anim,masc,Name plur,nomn'), normal_form='гай', score=0.1111111111111111, methods_stack=((<DictionaryAnalyzer>, 'гаи', 41, 6),)),\n",
       " Parse(word='гаи', tag=OpencorporaTag('NOUN,inan,masc plur,nomn'), normal_form='гай', score=0.1111111111111111, methods_stack=((<DictionaryAnalyzer>, 'гаи', 495, 7),)),\n",
       " Parse(word='гаи', tag=OpencorporaTag('NOUN,inan,masc plur,accs'), normal_form='гай', score=0.1111111111111111, methods_stack=((<DictionaryAnalyzer>, 'гаи', 495, 10),)),\n",
       " Parse(word='гаи', tag=OpencorporaTag('NOUN,inan,femn,Sgtm,Fixd,Abbr,Orgn sing,nomn'), normal_form='гаи', score=0.1111111111111111, methods_stack=((<DictionaryAnalyzer>, 'гаи', 645, 0),)),\n",
       " Parse(word='гаи', tag=OpencorporaTag('NOUN,inan,femn,Sgtm,Fixd,Abbr,Orgn sing,gent'), normal_form='гаи', score=0.1111111111111111, methods_stack=((<DictionaryAnalyzer>, 'гаи', 645, 1),)),\n",
       " Parse(word='гаи', tag=OpencorporaTag('NOUN,inan,femn,Sgtm,Fixd,Abbr,Orgn sing,datv'), normal_form='гаи', score=0.1111111111111111, methods_stack=((<DictionaryAnalyzer>, 'гаи', 645, 2),)),\n",
       " Parse(word='гаи', tag=OpencorporaTag('NOUN,inan,femn,Sgtm,Fixd,Abbr,Orgn sing,accs'), normal_form='гаи', score=0.1111111111111111, methods_stack=((<DictionaryAnalyzer>, 'гаи', 645, 3),)),\n",
       " Parse(word='гаи', tag=OpencorporaTag('NOUN,inan,femn,Sgtm,Fixd,Abbr,Orgn sing,ablt'), normal_form='гаи', score=0.1111111111111111, methods_stack=((<DictionaryAnalyzer>, 'гаи', 645, 4),)),\n",
       " Parse(word='гаи', tag=OpencorporaTag('NOUN,inan,femn,Sgtm,Fixd,Abbr,Orgn sing,loct'), normal_form='гаи', score=0.1111111111111111, methods_stack=((<DictionaryAnalyzer>, 'гаи', 645, 5),))]"
      ]
     },
     "execution_count": 29,
     "metadata": {},
     "output_type": "execute_result"
    }
   ],
   "source": [
    "m = MorphAnalyzer()\n",
    "m.parse(word1)"
   ]
  },
  {
   "cell_type": "code",
   "execution_count": 30,
   "metadata": {
    "slideshow": {
     "slide_type": "fragment"
    }
   },
   "outputs": [
    {
     "data": {
      "text/plain": [
       "[{'analysis': [{'gr': 'S,сокр,ед,жен,неод=(пр|вин|дат|род|твор|им)',\n",
       "    'lex': 'гаи'}],\n",
       "  'text': 'ГАИ'},\n",
       " {'text': '\\n'}]"
      ]
     },
     "execution_count": 30,
     "metadata": {},
     "output_type": "execute_result"
    }
   ],
   "source": [
    "m = Mystem()\n",
    "m.analyze(word1)"
   ]
  },
  {
   "cell_type": "markdown",
   "metadata": {
    "slideshow": {
     "slide_type": "slide"
    }
   },
   "source": [
    "### Задание 4\n",
    "\n",
    "Найдите в списке персонажей романа \"Война и мир\"  (task3.txt) все уникальные  женские имена."
   ]
  },
  {
   "cell_type": "markdown",
   "metadata": {
    "slideshow": {
     "slide_type": "slide"
    }
   },
   "source": [
    "## Первичная обработка текстов"
   ]
  },
  {
   "cell_type": "markdown",
   "metadata": {
    "slideshow": {
     "slide_type": "subslide"
    }
   },
   "source": [
    "### Удаление стоп-слов"
   ]
  },
  {
   "cell_type": "code",
   "execution_count": 31,
   "metadata": {
    "slideshow": {
     "slide_type": "fragment"
    }
   },
   "outputs": [
    {
     "name": "stdout",
     "output_type": "stream",
     "text": [
      "['и', 'в', 'во', 'не', 'что', 'он', 'на', 'я', 'с', 'со', 'как', 'а', 'то', 'все', 'она', 'так', 'его', 'но', 'да', 'ты', 'к', 'у', 'же', 'вы', 'за', 'бы', 'по', 'только', 'ее', 'мне', 'было', 'вот', 'от', 'меня', 'еще', 'нет', 'о', 'из', 'ему', 'теперь', 'когда', 'даже', 'ну', 'вдруг', 'ли', 'если', 'уже', 'или', 'ни', 'быть', 'был', 'него', 'до', 'вас', 'нибудь', 'опять', 'уж', 'вам', 'ведь', 'там', 'потом', 'себя', 'ничего', 'ей', 'может', 'они', 'тут', 'где', 'есть', 'надо', 'ней', 'для', 'мы', 'тебя', 'их', 'чем', 'была', 'сам', 'чтоб', 'без', 'будто', 'чего', 'раз', 'тоже', 'себе', 'под', 'будет', 'ж', 'тогда', 'кто', 'этот', 'того', 'потому', 'этого', 'какой', 'совсем', 'ним', 'здесь', 'этом', 'один', 'почти', 'мой', 'тем', 'чтобы', 'нее', 'сейчас', 'были', 'куда', 'зачем', 'всех', 'никогда', 'можно', 'при', 'наконец', 'два', 'об', 'другой', 'хоть', 'после', 'над', 'больше', 'тот', 'через', 'эти', 'нас', 'про', 'всего', 'них', 'какая', 'много', 'разве', 'три', 'эту', 'моя', 'впрочем', 'хорошо', 'свою', 'этой', 'перед', 'иногда', 'лучше', 'чуть', 'том', 'нельзя', 'такой', 'им', 'более', 'всегда', 'конечно', 'всю', 'между']\n"
     ]
    }
   ],
   "source": [
    "from nltk.corpus import stopwords\n",
    "print(stopwords.words('russian'))"
   ]
  },
  {
   "cell_type": "code",
   "execution_count": 32,
   "metadata": {
    "slideshow": {
     "slide_type": "subslide"
    }
   },
   "outputs": [],
   "source": [
    "mystopwords = stopwords.words('russian') + ['это', 'наш' , 'тыс', 'млн', 'млрд', 'также',  'т', 'д']\n",
    "def  remove_stopwords(text, mystopwords = mystopwords):\n",
    "    try:\n",
    "        return \" \".join([token for token in text.split() if not token in mystopwords])\n",
    "    except:\n",
    "        return \"\"\n",
    " "
   ]
  },
  {
   "cell_type": "code",
   "execution_count": 33,
   "metadata": {
    "slideshow": {
     "slide_type": "subslide"
    }
   },
   "outputs": [],
   "source": [
    "m = Mystem()\n",
    "def lemmatize(text, mystem=m):\n",
    "    try:\n",
    "        return \"\".join(m.lemmatize(text)).strip()  \n",
    "    except:\n",
    "        return \" \""
   ]
  },
  {
   "cell_type": "code",
   "execution_count": 34,
   "metadata": {
    "slideshow": {
     "slide_type": "subslide"
    }
   },
   "outputs": [],
   "source": [
    "mystoplemmas = ['который','прошлый','сей', 'свой', 'наш', 'мочь']\n",
    "def  remove_stoplemmas(text, mystoplemmas = mystoplemmas):\n",
    "    try:\n",
    "        return \" \".join([token for token in text.split() if not token in mystoplemmas])\n",
    "    except:\n",
    "        return \"\"\n"
   ]
  },
  {
   "cell_type": "code",
   "execution_count": 35,
   "metadata": {
    "slideshow": {
     "slide_type": "subslide"
    }
   },
   "outputs": [],
   "source": [
    "df.text = df.text.apply(remove_stopwords) \n",
    "df.text = df.text.apply(lemmatize)\n",
    "df.text = df.text.apply(remove_stoplemmas) "
   ]
  },
  {
   "cell_type": "code",
   "execution_count": 36,
   "metadata": {
    "slideshow": {
     "slide_type": "subslide"
    }
   },
   "outputs": [
    {
     "name": "stdout",
     "output_type": "stream",
     "text": [
      "('россия', 9769)\n",
      "('мвд', 6215)\n",
      "('полиция', 6128)\n",
      "('год', 5826)\n",
      "('москва', 5286)\n",
      "('сотрудник', 3857)\n",
      "('мчс', 3789)\n",
      "('почтовый', 3772)\n",
      "('г', 3655)\n",
      "('почта', 3392)\n"
     ]
    }
   ],
   "source": [
    "lemmata = []\n",
    "for index, row in df.iterrows():\n",
    "    lemmata += row['text'].split()\n",
    "fd = FreqDist(lemmata)\n",
    "for i in fd.most_common(10):\n",
    "    print(i)"
   ]
  },
  {
   "cell_type": "markdown",
   "metadata": {
    "slideshow": {
     "slide_type": "slide"
    }
   },
   "source": [
    "# Синтаксический анализ\n"
   ]
  },
  {
   "cell_type": "markdown",
   "metadata": {
    "slideshow": {
     "slide_type": "subslide"
    }
   },
   "source": [
    "## Грамматика зависимостей\n",
    "\n",
    "Я купил кофе в большом магазине\n",
    "\n",
    "![дерево зависимостей](https://habrastorage.org/getpro/geektimes/post_images/67a/b10/baf/67ab10baf90e8f9e321c2e29998e5de8.png)\n",
    "\n",
    "* Все слова в предложении связаны отношением типа \"хозяин-слуга\", имеющим различные подтипы\n",
    "* Узел дерева – слово в предложении\n",
    "* Дуга дерева – отношение подчинения\n",
    "\n",
    "\n",
    "[Универсальные зависимости](http://universaldependencies.org/)\n"
   ]
  },
  {
   "cell_type": "markdown",
   "metadata": {
    "slideshow": {
     "slide_type": "subslide"
    }
   },
   "source": [
    "### SyntaxNet \n",
    "\n",
    "[SyntaxNet](https://github.com/tensorflow/models/tree/master/research/syntaxnet) – архитектура синтаксического парсера. Доступны обученные модели для более чем 40 языков, в том числе, для русского.\n",
    "\n",
    "\n",
    "D. Chen and C. D. Manning. A Fast and Accurate Dependency Parser using Neural Networks. EMNLP. 2014."
   ]
  },
  {
   "cell_type": "code",
   "execution_count": 42,
   "metadata": {
    "scrolled": true,
    "slideshow": {
     "slide_type": "subslide"
    }
   },
   "outputs": [
    {
     "name": "stdout",
     "output_type": "stream",
     "text": [
      "I syntaxnet/term_frequency_map.cc:103] Loaded 34 terms from ./syntaxnet/models/Russian-SynTagRus/label-map.\n",
      "I syntaxnet/term_frequency_map.cc:103] Loaded 34 terms from ./syntaxnet/models/Russian-SynTagRus/label-map.\n",
      "I syntaxnet/embedding_feature_extractor.cc:35] Features: input.capitalization input(1).capitalization input(2).capitalization input(3).capitalization input(-1).capitalization input(-2).capitalization input(-3).capitalization input(-4).capitalization; input.token.char-ngram input(1).token.char-ngram input(2).token.char-ngram input(3).token.char-ngram input(-1).token.char-ngram input(-2).token.char-ngram input(-3).token.char-ngram input(-4).token.char-ngram; input.digit input.hyphen input.token.punctuation-amount input.token.quote; input.token.prefix(length=2) input(1).token.prefix(length=2) input(2).token.prefix(length=2) input(3).token.prefix(length=2) input(-1).token.prefix(length=2) input(-2).token.prefix(length=2) input(-3).token.prefix(length=2) input(-4).token.prefix(length=2); input.token.prefix(length=3) input(1).token.prefix(length=3) input(2).token.prefix(length=3) input(3).token.prefix(length=3) input(-1).token.prefix(length=3) input(-2).token.prefix(length=3) input(-3).token.prefix(length=3) input(-4).token.prefix(length=3); input.token.suffix(length=2) input(1).token.suffix(length=2) input(2).token.suffix(length=2) input(3).token.suffix(length=2) input(-1).token.suffix(length=2) input(-2).token.suffix(length=2) input(-3).token.suffix(length=2) input(-4).token.suffix(length=2); input.token.suffix(length=3) input(1).token.suffix(length=3) input(2).token.suffix(length=3) input(3).token.suffix(length=3) input(-1).token.suffix(length=3) input(-2).token.suffix(length=3) input(-3).token.suffix(length=3) input(-4).token.suffix(length=3); input(-1).pred-tag input(-2).pred-tag input(-3).pred-tag input(-4).pred-tag; input.token.word input(1).token.word input(2).token.word input(3).token.word input(-1).token.word input(-2).token.word input(-3).token.word input(-4).token.word\n",
      "I syntaxnet/embedding_feature_extractor.cc:36] Embedding names: capitalization;char_ngram;other;prefix2;prefix3;suffix2;suffix3;tags;words\n",
      "I syntaxnet/embedding_feature_extractor.cc:37] Embedding dims: 2;16;8;16;16;16;16;16;64\n",
      "I syntaxnet/term_frequency_map.cc:103] Loaded 34 terms from ./syntaxnet/models/Russian-SynTagRus/label-map.\n",
      "I syntaxnet/embedding_feature_extractor.cc:35] Features: stack.child(1).label stack.child(1).sibling(-1).label stack.child(-1).label stack.child(-1).sibling(1).label stack.child(2).label stack.child(-2).label stack(1).child(1).label stack(1).child(1).sibling(-1).label stack(1).child(-1).label stack(1).child(-1).sibling(1).label stack(1).child(2).label stack(1).child(-2).label; input.token.morphology-set input(1).token.morphology-set input(2).token.morphology-set input(3).token.morphology-set stack.token.morphology-set stack.child(1).token.morphology-set stack.child(1).sibling(-1).token.morphology-set stack.child(-1).token.morphology-set stack.child(-1).sibling(1).token.morphology-set stack.child(2).token.morphology-set stack.child(-2).token.morphology-set stack(1).token.morphology-set stack(1).child(1).token.morphology-set stack(1).child(1).sibling(-1).token.morphology-set stack(1).child(-1).token.morphology-set stack(1).child(-1).sibling(1).token.morphology-set stack(1).child(2).token.morphology-set stack(1).child(-2).token.morphology-set stack(2).token.morphology-set stack(3).token.morphology-set; input.token.tag input(1).token.tag input(2).token.tag input(3).token.tag stack.token.tag stack.child(1).token.tag stack.child(1).sibling(-1).token.tag stack.child(-1).token.tag stack.child(-1).sibling(1).token.tag stack.child(2).token.tag stack.child(-2).token.tag stack(1).token.tag stack(1).child(1).token.tag stack(1).child(1).sibling(-1).token.tag stack(1).child(-1).token.tag stack(1).child(-1).sibling(1).token.tag stack(1).child(2).token.tag stack(1).child(-2).token.tag stack(2).token.tag stack(3).token.tag; input.token.word input(1).token.word input(2).token.word input(3).token.word stack.token.word stack.child(1).token.word stack.child(1).sibling(-1).token.word stack.child(-1).token.word stack.child(-1).sibling(1).token.word stack.child(2).token.word stack.child(-2).token.word stack(1).token.word stack(1).child(1).token.word stack(1).child(1).sibling(-1).token.word stack(1).child(-1).token.word stack(1).child(-1).sibling(1).token.word stack(1).child(2).token.word stack(1).child(-2).token.word stack(2).token.word stack(3).token.word \n",
      "I syntaxnet/embedding_feature_extractor.cc:36] Embedding names: labels;morphology;tags;words\n",
      "I syntaxnet/embedding_feature_extractor.cc:37] Embedding dims: 32;32;32;64\n",
      "I syntaxnet/embedding_feature_extractor.cc:35] Features: input.capitalization input(1).capitalization input(2).capitalization input(3).capitalization input(-1).capitalization input(-2).capitalization input(-3).capitalization input(-4).capitalization; input.token.char-ngram input(1).token.char-ngram input(2).token.char-ngram input(3).token.char-ngram input(-1).token.char-ngram input(-2).token.char-ngram input(-3).token.char-ngram input(-4).token.char-ngram; input.digit input.hyphen input.token.punctuation-amount input.token.quote; input.token.prefix(length=2) input(1).token.prefix(length=2) input(2).token.prefix(length=2) input(3).token.prefix(length=2) input(-1).token.prefix(length=2) input(-2).token.prefix(length=2) input(-3).token.prefix(length=2) input(-4).token.prefix(length=2); input.token.prefix(length=3) input(1).token.prefix(length=3) input(2).token.prefix(length=3) input(3).token.prefix(length=3) input(-1).token.prefix(length=3) input(-2).token.prefix(length=3) input(-3).token.prefix(length=3) input(-4).token.prefix(length=3); input.token.suffix(length=2) input(1).token.suffix(length=2) input(2).token.suffix(length=2) input(3).token.suffix(length=2) input(-1).token.suffix(length=2) input(-2).token.suffix(length=2) input(-3).token.suffix(length=2) input(-4).token.suffix(length=2); input.token.suffix(length=3) input(1).token.suffix(length=3) input(2).token.suffix(length=3) input(3).token.suffix(length=3) input(-1).token.suffix(length=3) input(-2).token.suffix(length=3) input(-3).token.suffix(length=3) input(-4).token.suffix(length=3); input(-1).pred-morph-tag input(-2).pred-morph-tag input(-3).pred-morph-tag input(-4).pred-morph-tag; input.token.word input(1).token.word input(2).token.word input(3).token.word input(-1).token.word input(-2).token.word input(-3).token.word input(-4).token.word\n",
      "I syntaxnet/embedding_feature_extractor.cc:36] Embedding names: capitalization;char_ngram;other;prefix2;prefix3;suffix2;suffix3;tags;words\n",
      "I syntaxnet/embedding_feature_extractor.cc:37] Embedding dims: 2;16;8;16;16;16;16;16;64\n",
      "I syntaxnet/term_frequency_map.cc:103] Loaded 66 terms from ./syntaxnet/models/Russian-SynTagRus/morphology-map.\n",
      "I syntaxnet/term_frequency_map.cc:103] Loaded 31 terms from ./syntaxnet/models/Russian-SynTagRus/tag-map.\n",
      "I syntaxnet/term_frequency_map.cc:103] Loaded 18749 terms from ./syntaxnet/models/Russian-SynTagRus/char-ngram-map.\n",
      "I syntaxnet/term_frequency_map.cc:103] Loaded 18749 terms from ./syntaxnet/models/Russian-SynTagRus/char-ngram-map.\n",
      "I syntaxnet/term_frequency_map.cc:103] Loaded 31 terms from ./syntaxnet/models/Russian-SynTagRus/tag-map.\n",
      "I syntaxnet/term_frequency_map.cc:103] Loaded 103473 terms from ./syntaxnet/models/Russian-SynTagRus/word-map.\n",
      "I syntaxnet/term_frequency_map.cc:103] Loaded 103473 terms from ./syntaxnet/models/Russian-SynTagRus/word-map.\n",
      "INFO:tensorflow:Building training network with parameters: feature_sizes: [12 20 20 20] domain_sizes: [    37     66     33 103475]\n",
      "INFO:tensorflow:Building training network with parameters: feature_sizes: [8 8 4 8 8 8 8 4 8] domain_sizes: [     7  18750      5   8502   8502   7249   7249     34 103475]\n",
      "I syntaxnet/term_frequency_map.cc:103] Loaded 103473 terms from ./syntaxnet/models/Russian-SynTagRus/word-map.\n",
      "INFO:tensorflow:Building training network with parameters: feature_sizes: [8 8 4 8 8 8 8 4 8] domain_sizes: [     7  18750      5   8502   8502   7249   7249    449 103475]\n",
      "I syntaxnet/term_frequency_map.cc:103] Loaded 31 terms from ./syntaxnet/models/Russian-SynTagRus/tag-map.\n",
      "I syntaxnet/term_frequency_map.cc:103] Loaded 34 terms from ./syntaxnet/models/Russian-SynTagRus/label-map.\n",
      "I syntaxnet/embedding_feature_extractor.cc:35] Features: input.capitalization input(1).capitalization input(2).capitalization input(3).capitalization input(-1).capitalization input(-2).capitalization input(-3).capitalization input(-4).capitalization; input.token.char-ngram input(1).token.char-ngram input(2).token.char-ngram input(3).token.char-ngram input(-1).token.char-ngram input(-2).token.char-ngram input(-3).token.char-ngram input(-4).token.char-ngram; input.digit input.hyphen input.token.punctuation-amount input.token.quote; input.token.prefix(length=2) input(1).token.prefix(length=2) input(2).token.prefix(length=2) input(3).token.prefix(length=2) input(-1).token.prefix(length=2) input(-2).token.prefix(length=2) input(-3).token.prefix(length=2) input(-4).token.prefix(length=2); input.token.prefix(length=3) input(1).token.prefix(length=3) input(2).token.prefix(length=3) input(3).token.prefix(length=3) input(-1).token.prefix(length=3) input(-2).token.prefix(length=3) input(-3).token.prefix(length=3) input(-4).token.prefix(length=3); input.token.suffix(length=2) input(1).token.suffix(length=2) input(2).token.suffix(length=2) input(3).token.suffix(length=2) input(-1).token.suffix(length=2) input(-2).token.suffix(length=2) input(-3).token.suffix(length=2) input(-4).token.suffix(length=2); input.token.suffix(length=3) input(1).token.suffix(length=3) input(2).token.suffix(length=3) input(3).token.suffix(length=3) input(-1).token.suffix(length=3) input(-2).token.suffix(length=3) input(-3).token.suffix(length=3) input(-4).token.suffix(length=3); input(-1).pred-tag input(-2).pred-tag input(-3).pred-tag input(-4).pred-tag; input.token.word input(1).token.word input(2).token.word input(3).token.word input(-1).token.word input(-2).token.word input(-3).token.word input(-4).token.word\n",
      "I syntaxnet/embedding_feature_extractor.cc:36] Embedding names: capitalization;char_ngram;other;prefix2;prefix3;suffix2;suffix3;tags;words\n",
      "I syntaxnet/embedding_feature_extractor.cc:37] Embedding dims: 2;16;8;16;16;16;16;16;64\n",
      "I syntaxnet/term_frequency_map.cc:103] Loaded 34 terms from ./syntaxnet/models/Russian-SynTagRus/label-map.\n",
      "I syntaxnet/embedding_feature_extractor.cc:35] Features: input.capitalization input(1).capitalization input(2).capitalization input(3).capitalization input(-1).capitalization input(-2).capitalization input(-3).capitalization input(-4).capitalization; input.token.char-ngram input(1).token.char-ngram input(2).token.char-ngram input(3).token.char-ngram input(-1).token.char-ngram input(-2).token.char-ngram input(-3).token.char-ngram input(-4).token.char-ngram; input.digit input.hyphen input.token.punctuation-amount input.token.quote; input.token.prefix(length=2) input(1).token.prefix(length=2) input(2).token.prefix(length=2) input(3).token.prefix(length=2) input(-1).token.prefix(length=2) input(-2).token.prefix(length=2) input(-3).token.prefix(length=2) input(-4).token.prefix(length=2); input.token.prefix(length=3) input(1).token.prefix(length=3) input(2).token.prefix(length=3) input(3).token.prefix(length=3) input(-1).token.prefix(length=3) input(-2).token.prefix(length=3) input(-3).token.prefix(length=3) input(-4).token.prefix(length=3); input.token.suffix(length=2) input(1).token.suffix(length=2) input(2).token.suffix(length=2) input(3).token.suffix(length=2) input(-1).token.suffix(length=2) input(-2).token.suffix(length=2) input(-3).token.suffix(length=2) input(-4).token.suffix(length=2); input.token.suffix(length=3) input(1).token.suffix(length=3) input(2).token.suffix(length=3) input(3).token.suffix(length=3) input(-1).token.suffix(length=3) input(-2).token.suffix(length=3) input(-3).token.suffix(length=3) input(-4).token.suffix(length=3); input(-1).pred-morph-tag input(-2).pred-morph-tag input(-3).pred-morph-tag input(-4).pred-morph-tag; input.token.word input(1).token.word input(2).token.word input(3).token.word input(-1).token.word input(-2).token.word input(-3).token.word input(-4).token.word\n",
      "I syntaxnet/embedding_feature_extractor.cc:36] Embedding names: capitalization;char_ngram;other;prefix2;prefix3;suffix2;suffix3;tags;words\n",
      "I syntaxnet/embedding_feature_extractor.cc:37] Embedding dims: 2;16;8;16;16;16;16;16;64\n",
      "I syntaxnet/term_frequency_map.cc:103] Loaded 18749 terms from ./syntaxnet/models/Russian-SynTagRus/char-ngram-map.\n"
     ]
    },
    {
     "name": "stdout",
     "output_type": "stream",
     "text": [
      "I syntaxnet/term_frequency_map.cc:103] Loaded 18749 terms from ./syntaxnet/models/Russian-SynTagRus/char-ngram-map.\n",
      "I syntaxnet/term_frequency_map.cc:103] Loaded 34 terms from ./syntaxnet/models/Russian-SynTagRus/label-map.\n",
      "I syntaxnet/embedding_feature_extractor.cc:35] Features: stack.child(1).label stack.child(1).sibling(-1).label stack.child(-1).label stack.child(-1).sibling(1).label stack.child(2).label stack.child(-2).label stack(1).child(1).label stack(1).child(1).sibling(-1).label stack(1).child(-1).label stack(1).child(-1).sibling(1).label stack(1).child(2).label stack(1).child(-2).label; input.token.morphology-set input(1).token.morphology-set input(2).token.morphology-set input(3).token.morphology-set stack.token.morphology-set stack.child(1).token.morphology-set stack.child(1).sibling(-1).token.morphology-set stack.child(-1).token.morphology-set stack.child(-1).sibling(1).token.morphology-set stack.child(2).token.morphology-set stack.child(-2).token.morphology-set stack(1).token.morphology-set stack(1).child(1).token.morphology-set stack(1).child(1).sibling(-1).token.morphology-set stack(1).child(-1).token.morphology-set stack(1).child(-1).sibling(1).token.morphology-set stack(1).child(2).token.morphology-set stack(1).child(-2).token.morphology-set stack(2).token.morphology-set stack(3).token.morphology-set; input.token.tag input(1).token.tag input(2).token.tag input(3).token.tag stack.token.tag stack.child(1).token.tag stack.child(1).sibling(-1).token.tag stack.child(-1).token.tag stack.child(-1).sibling(1).token.tag stack.child(2).token.tag stack.child(-2).token.tag stack(1).token.tag stack(1).child(1).token.tag stack(1).child(1).sibling(-1).token.tag stack(1).child(-1).token.tag stack(1).child(-1).sibling(1).token.tag stack(1).child(2).token.tag stack(1).child(-2).token.tag stack(2).token.tag stack(3).token.tag; input.token.word input(1).token.word input(2).token.word input(3).token.word stack.token.word stack.child(1).token.word stack.child(1).sibling(-1).token.word stack.child(-1).token.word stack.child(-1).sibling(1).token.word stack.child(2).token.word stack.child(-2).token.word stack(1).token.word stack(1).child(1).token.word stack(1).child(1).sibling(-1).token.word stack(1).child(-1).token.word stack(1).child(-1).sibling(1).token.word stack(1).child(2).token.word stack(1).child(-2).token.word stack(2).token.word stack(3).token.word \n",
      "I syntaxnet/embedding_feature_extractor.cc:36] Embedding names: labels;morphology;tags;words\n",
      "I syntaxnet/embedding_feature_extractor.cc:37] Embedding dims: 32;32;32;64\n",
      "I syntaxnet/term_frequency_map.cc:103] Loaded 66 terms from ./syntaxnet/models/Russian-SynTagRus/morphology-map.\n",
      "I syntaxnet/term_frequency_map.cc:103] Loaded 31 terms from ./syntaxnet/models/Russian-SynTagRus/tag-map.\n",
      "I syntaxnet/term_frequency_map.cc:103] Loaded 103473 terms from ./syntaxnet/models/Russian-SynTagRus/word-map.\n",
      "INFO:tensorflow:Processed 1 documents\n",
      "INFO:tensorflow:Total processed documents: 1\n",
      "INFO:tensorflow:num correct tokens: 0\n",
      "INFO:tensorflow:total tokens: 8\n",
      "INFO:tensorflow:Seconds elapsed in evaluation: 0.19, eval metric: 0.00%\n",
      "I syntaxnet/term_frequency_map.cc:103] Loaded 103473 terms from ./syntaxnet/models/Russian-SynTagRus/word-map.\n",
      "I syntaxnet/term_frequency_map.cc:103] Loaded 103473 terms from ./syntaxnet/models/Russian-SynTagRus/word-map.\n",
      "INFO:tensorflow:Processed 1 documents\n",
      "INFO:tensorflow:Total processed documents: 1\n",
      "INFO:tensorflow:num correct tokens: 0\n",
      "INFO:tensorflow:total tokens: 8\n",
      "INFO:tensorflow:Seconds elapsed in evaluation: 0.39, eval metric: 0.00%\n",
      "INFO:tensorflow:Processed 1 documents\n",
      "INFO:tensorflow:Total processed documents: 1\n",
      "INFO:tensorflow:num correct tokens: 1\n",
      "INFO:tensorflow:total tokens: 8\n",
      "INFO:tensorflow:Seconds elapsed in evaluation: 0.52, eval metric: 12.50%\n",
      "1\tНа\t_\tADP\t_\tfPOS=ADP++\t2\tcase\t_\t_\n",
      "2\tсеверо-западе\t_\tNOUN\t_\tAnimacy=Inan|Case=Loc|Gender=Masc|Number=Sing|fPOS=NOUN++\t6\tnmod\t_\t_\n",
      "3\tМосквы\t_\tNOUN\t_\tAnimacy=Inan|Case=Gen|Gender=Fem|Number=Sing|fPOS=NOUN++\t2\tdobj\t_\t_\n",
      "4\tдва\t_\tNUM\t_\tCase=Nom|Gender=Masc|fPOS=NUM++\t5\tnummod\t_\t_\n",
      "5\tподростка\t_\tNOUN\t_\tAnimacy=Anim|Case=Gen|Gender=Masc|Number=Sing|fPOS=NOUN++\t6\tnsubj\t_\t_\n",
      "6\tпровалились\t_\tVERB\t_\tAspect=Perf|Mood=Ind|Number=Plur|Tense=Past|VerbForm=Fin|Voice=Act|fPOS=VERB++\t0\tROOT\t_\t_\n",
      "7\tпод\t_\tADP\t_\tfPOS=ADP++\t8\tcase\t_\t_\n",
      "8\tлед\t_\tNOUN\t_\tAnimacy=Inan|Case=Acc|Gender=Masc|Number=Sing|fPOS=NOUN++\t6\tdobj\t_\t_\n",
      "\n"
     ]
    }
   ],
   "source": [
    "!echo \"На северо-западе Москвы два подростка провалились под лед\" | docker run --rm -i inemo/syntaxnet_rus"
   ]
  },
  {
   "cell_type": "code",
   "execution_count": 43,
   "metadata": {
    "slideshow": {
     "slide_type": "subslide"
    }
   },
   "outputs": [
    {
     "name": "stdout",
     "output_type": "stream",
     "text": [
      "I syntaxnet/term_frequency_map.cc:103] Loaded 34 terms from ./syntaxnet/models/Russian-SynTagRus/label-map.\n",
      "I syntaxnet/embedding_feature_extractor.cc:35] Features: input.capitalization input(1).capitalization input(2).capitalization input(3).capitalization input(-1).capitalization input(-2).capitalization input(-3).capitalization input(-4).capitalization; input.token.char-ngram input(1).token.char-ngram input(2).token.char-ngram input(3).token.char-ngram input(-1).token.char-ngram input(-2).token.char-ngram input(-3).token.char-ngram input(-4).token.char-ngram; input.digit input.hyphen input.token.punctuation-amount input.token.quote; input.token.prefix(length=2) input(1).token.prefix(length=2) input(2).token.prefix(length=2) input(3).token.prefix(length=2) input(-1).token.prefix(length=2) input(-2).token.prefix(length=2) input(-3).token.prefix(length=2) input(-4).token.prefix(length=2); input.token.prefix(length=3) input(1).token.prefix(length=3) input(2).token.prefix(length=3) input(3).token.prefix(length=3) input(-1).token.prefix(length=3) input(-2).token.prefix(length=3) input(-3).token.prefix(length=3) input(-4).token.prefix(length=3); input.token.suffix(length=2) input(1).token.suffix(length=2) input(2).token.suffix(length=2) input(3).token.suffix(length=2) input(-1).token.suffix(length=2) input(-2).token.suffix(length=2) input(-3).token.suffix(length=2) input(-4).token.suffix(length=2); input.token.suffix(length=3) input(1).token.suffix(length=3) input(2).token.suffix(length=3) input(3).token.suffix(length=3) input(-1).token.suffix(length=3) input(-2).token.suffix(length=3) input(-3).token.suffix(length=3) input(-4).token.suffix(length=3); input(-1).pred-morph-tag input(-2).pred-morph-tag input(-3).pred-morph-tag input(-4).pred-morph-tag; input.token.word input(1).token.word input(2).token.word input(3).token.word input(-1).token.word input(-2).token.word input(-3).token.word input(-4).token.word\n",
      "I syntaxnet/embedding_feature_extractor.cc:36] Embedding names: capitalization;char_ngram;other;prefix2;prefix3;suffix2;suffix3;tags;words\n",
      "I syntaxnet/embedding_feature_extractor.cc:37] Embedding dims: 2;16;8;16;16;16;16;16;64\n",
      "I syntaxnet/term_frequency_map.cc:103] Loaded 18749 terms from ./syntaxnet/models/Russian-SynTagRus/char-ngram-map.\n",
      "I syntaxnet/term_frequency_map.cc:103] Loaded 34 terms from ./syntaxnet/models/Russian-SynTagRus/label-map.\n",
      "I syntaxnet/embedding_feature_extractor.cc:35] Features: stack.child(1).label stack.child(1).sibling(-1).label stack.child(-1).label stack.child(-1).sibling(1).label stack.child(2).label stack.child(-2).label stack(1).child(1).label stack(1).child(1).sibling(-1).label stack(1).child(-1).label stack(1).child(-1).sibling(1).label stack(1).child(2).label stack(1).child(-2).label; input.token.morphology-set input(1).token.morphology-set input(2).token.morphology-set input(3).token.morphology-set stack.token.morphology-set stack.child(1).token.morphology-set stack.child(1).sibling(-1).token.morphology-set stack.child(-1).token.morphology-set stack.child(-1).sibling(1).token.morphology-set stack.child(2).token.morphology-set stack.child(-2).token.morphology-set stack(1).token.morphology-set stack(1).child(1).token.morphology-set stack(1).child(1).sibling(-1).token.morphology-set stack(1).child(-1).token.morphology-set stack(1).child(-1).sibling(1).token.morphology-set stack(1).child(2).token.morphology-set stack(1).child(-2).token.morphology-set stack(2).token.morphology-set stack(3).token.morphology-set; input.token.tag input(1).token.tag input(2).token.tag input(3).token.tag stack.token.tag stack.child(1).token.tag stack.child(1).sibling(-1).token.tag stack.child(-1).token.tag stack.child(-1).sibling(1).token.tag stack.child(2).token.tag stack.child(-2).token.tag stack(1).token.tag stack(1).child(1).token.tag stack(1).child(1).sibling(-1).token.tag stack(1).child(-1).token.tag stack(1).child(-1).sibling(1).token.tag stack(1).child(2).token.tag stack(1).child(-2).token.tag stack(2).token.tag stack(3).token.tag; input.token.word input(1).token.word input(2).token.word input(3).token.word stack.token.word stack.child(1).token.word stack.child(1).sibling(-1).token.word stack.child(-1).token.word stack.child(-1).sibling(1).token.word stack.child(2).token.word stack.child(-2).token.word stack(1).token.word stack(1).child(1).token.word stack(1).child(1).sibling(-1).token.word stack(1).child(-1).token.word stack(1).child(-1).sibling(1).token.word stack(1).child(2).token.word stack(1).child(-2).token.word stack(2).token.word stack(3).token.word \n",
      "I syntaxnet/embedding_feature_extractor.cc:36] Embedding names: labels;morphology;tags;words\n",
      "I syntaxnet/embedding_feature_extractor.cc:37] Embedding dims: 32;32;32;64\n",
      "I syntaxnet/term_frequency_map.cc:103] Loaded 66 terms from ./syntaxnet/models/Russian-SynTagRus/morphology-map.\n",
      "I syntaxnet/term_frequency_map.cc:103] Loaded 31 terms from ./syntaxnet/models/Russian-SynTagRus/tag-map.\n",
      "I syntaxnet/term_frequency_map.cc:103] Loaded 103473 terms from ./syntaxnet/models/Russian-SynTagRus/word-map.\n",
      "INFO:tensorflow:Building training network with parameters: feature_sizes: [8 8 4 8 8 8 8 4 8] domain_sizes: [     7  18750      5   8502   8502   7249   7249    449 103475]\n",
      "I syntaxnet/term_frequency_map.cc:103] Loaded 103473 terms from ./syntaxnet/models/Russian-SynTagRus/word-map.\n",
      "INFO:tensorflow:Building training network with parameters: feature_sizes: [12 20 20 20] domain_sizes: [    37     66     33 103475]\n",
      "I syntaxnet/term_frequency_map.cc:103] Loaded 34 terms from ./syntaxnet/models/Russian-SynTagRus/label-map.\n",
      "I syntaxnet/embedding_feature_extractor.cc:35] Features: input.capitalization input(1).capitalization input(2).capitalization input(3).capitalization input(-1).capitalization input(-2).capitalization input(-3).capitalization input(-4).capitalization; input.token.char-ngram input(1).token.char-ngram input(2).token.char-ngram input(3).token.char-ngram input(-1).token.char-ngram input(-2).token.char-ngram input(-3).token.char-ngram input(-4).token.char-ngram; input.digit input.hyphen input.token.punctuation-amount input.token.quote; input.token.prefix(length=2) input(1).token.prefix(length=2) input(2).token.prefix(length=2) input(3).token.prefix(length=2) input(-1).token.prefix(length=2) input(-2).token.prefix(length=2) input(-3).token.prefix(length=2) input(-4).token.prefix(length=2); input.token.prefix(length=3) input(1).token.prefix(length=3) input(2).token.prefix(length=3) input(3).token.prefix(length=3) input(-1).token.prefix(length=3) input(-2).token.prefix(length=3) input(-3).token.prefix(length=3) input(-4).token.prefix(length=3); input.token.suffix(length=2) input(1).token.suffix(length=2) input(2).token.suffix(length=2) input(3).token.suffix(length=2) input(-1).token.suffix(length=2) input(-2).token.suffix(length=2) input(-3).token.suffix(length=2) input(-4).token.suffix(length=2); input.token.suffix(length=3) input(1).token.suffix(length=3) input(2).token.suffix(length=3) input(3).token.suffix(length=3) input(-1).token.suffix(length=3) input(-2).token.suffix(length=3) input(-3).token.suffix(length=3) input(-4).token.suffix(length=3); input(-1).pred-tag input(-2).pred-tag input(-3).pred-tag input(-4).pred-tag; input.token.word input(1).token.word input(2).token.word input(3).token.word input(-1).token.word input(-2).token.word input(-3).token.word input(-4).token.word\n",
      "I syntaxnet/embedding_feature_extractor.cc:36] Embedding names: capitalization;char_ngram;other;prefix2;prefix3;suffix2;suffix3;tags;words\n",
      "I syntaxnet/embedding_feature_extractor.cc:37] Embedding dims: 2;16;8;16;16;16;16;16;64\n",
      "I syntaxnet/term_frequency_map.cc:103] Loaded 18749 terms from ./syntaxnet/models/Russian-SynTagRus/char-ngram-map.\n",
      "I syntaxnet/term_frequency_map.cc:103] Loaded 31 terms from ./syntaxnet/models/Russian-SynTagRus/tag-map.\n",
      "I syntaxnet/term_frequency_map.cc:103] Loaded 103473 terms from ./syntaxnet/models/Russian-SynTagRus/word-map.\n",
      "INFO:tensorflow:Building training network with parameters: feature_sizes: [8 8 4 8 8 8 8 4 8] domain_sizes: [     7  18750      5   8502   8502   7249   7249     34 103475]\n",
      "I syntaxnet/term_frequency_map.cc:103] Loaded 34 terms from ./syntaxnet/models/Russian-SynTagRus/label-map.\n",
      "I syntaxnet/embedding_feature_extractor.cc:35] Features: input.capitalization input(1).capitalization input(2).capitalization input(3).capitalization input(-1).capitalization input(-2).capitalization input(-3).capitalization input(-4).capitalization; input.token.char-ngram input(1).token.char-ngram input(2).token.char-ngram input(3).token.char-ngram input(-1).token.char-ngram input(-2).token.char-ngram input(-3).token.char-ngram input(-4).token.char-ngram; input.digit input.hyphen input.token.punctuation-amount input.token.quote; input.token.prefix(length=2) input(1).token.prefix(length=2) input(2).token.prefix(length=2) input(3).token.prefix(length=2) input(-1).token.prefix(length=2) input(-2).token.prefix(length=2) input(-3).token.prefix(length=2) input(-4).token.prefix(length=2); input.token.prefix(length=3) input(1).token.prefix(length=3) input(2).token.prefix(length=3) input(3).token.prefix(length=3) input(-1).token.prefix(length=3) input(-2).token.prefix(length=3) input(-3).token.prefix(length=3) input(-4).token.prefix(length=3); input.token.suffix(length=2) input(1).token.suffix(length=2) input(2).token.suffix(length=2) input(3).token.suffix(length=2) input(-1).token.suffix(length=2) input(-2).token.suffix(length=2) input(-3).token.suffix(length=2) input(-4).token.suffix(length=2); input.token.suffix(length=3) input(1).token.suffix(length=3) input(2).token.suffix(length=3) input(3).token.suffix(length=3) input(-1).token.suffix(length=3) input(-2).token.suffix(length=3) input(-3).token.suffix(length=3) input(-4).token.suffix(length=3); input(-1).pred-morph-tag input(-2).pred-morph-tag input(-3).pred-morph-tag input(-4).pred-morph-tag; input.token.word input(1).token.word input(2).token.word input(3).token.word input(-1).token.word input(-2).token.word input(-3).token.word input(-4).token.word\n",
      "I syntaxnet/embedding_feature_extractor.cc:36] Embedding names: capitalization;char_ngram;other;prefix2;prefix3;suffix2;suffix3;tags;words\n",
      "I syntaxnet/embedding_feature_extractor.cc:37] Embedding dims: 2;16;8;16;16;16;16;16;64\n",
      "I syntaxnet/term_frequency_map.cc:103] Loaded 18749 terms from ./syntaxnet/models/Russian-SynTagRus/char-ngram-map.\n"
     ]
    },
    {
     "name": "stdout",
     "output_type": "stream",
     "text": [
      "I syntaxnet/term_frequency_map.cc:103] Loaded 103473 terms from ./syntaxnet/models/Russian-SynTagRus/word-map.\n",
      "INFO:tensorflow:Processed 6 documents\n",
      "INFO:tensorflow:Total processed documents: 6\n",
      "INFO:tensorflow:num correct tokens: 0\n",
      "INFO:tensorflow:total tokens: 48\n",
      "INFO:tensorflow:Seconds elapsed in evaluation: 0.30, eval metric: 0.00%\n",
      "I syntaxnet/term_frequency_map.cc:103] Loaded 34 terms from ./syntaxnet/models/Russian-SynTagRus/label-map.\n",
      "I syntaxnet/embedding_feature_extractor.cc:35] Features: stack.child(1).label stack.child(1).sibling(-1).label stack.child(-1).label stack.child(-1).sibling(1).label stack.child(2).label stack.child(-2).label stack(1).child(1).label stack(1).child(1).sibling(-1).label stack(1).child(-1).label stack(1).child(-1).sibling(1).label stack(1).child(2).label stack(1).child(-2).label; input.token.morphology-set input(1).token.morphology-set input(2).token.morphology-set input(3).token.morphology-set stack.token.morphology-set stack.child(1).token.morphology-set stack.child(1).sibling(-1).token.morphology-set stack.child(-1).token.morphology-set stack.child(-1).sibling(1).token.morphology-set stack.child(2).token.morphology-set stack.child(-2).token.morphology-set stack(1).token.morphology-set stack(1).child(1).token.morphology-set stack(1).child(1).sibling(-1).token.morphology-set stack(1).child(-1).token.morphology-set stack(1).child(-1).sibling(1).token.morphology-set stack(1).child(2).token.morphology-set stack(1).child(-2).token.morphology-set stack(2).token.morphology-set stack(3).token.morphology-set; input.token.tag input(1).token.tag input(2).token.tag input(3).token.tag stack.token.tag stack.child(1).token.tag stack.child(1).sibling(-1).token.tag stack.child(-1).token.tag stack.child(-1).sibling(1).token.tag stack.child(2).token.tag stack.child(-2).token.tag stack(1).token.tag stack(1).child(1).token.tag stack(1).child(1).sibling(-1).token.tag stack(1).child(-1).token.tag stack(1).child(-1).sibling(1).token.tag stack(1).child(2).token.tag stack(1).child(-2).token.tag stack(2).token.tag stack(3).token.tag; input.token.word input(1).token.word input(2).token.word input(3).token.word stack.token.word stack.child(1).token.word stack.child(1).sibling(-1).token.word stack.child(-1).token.word stack.child(-1).sibling(1).token.word stack.child(2).token.word stack.child(-2).token.word stack(1).token.word stack(1).child(1).token.word stack(1).child(1).sibling(-1).token.word stack(1).child(-1).token.word stack(1).child(-1).sibling(1).token.word stack(1).child(2).token.word stack(1).child(-2).token.word stack(2).token.word stack(3).token.word \n",
      "I syntaxnet/embedding_feature_extractor.cc:36] Embedding names: labels;morphology;tags;words\n",
      "I syntaxnet/embedding_feature_extractor.cc:37] Embedding dims: 32;32;32;64\n",
      "I syntaxnet/term_frequency_map.cc:103] Loaded 66 terms from ./syntaxnet/models/Russian-SynTagRus/morphology-map.\n",
      "I syntaxnet/term_frequency_map.cc:103] Loaded 31 terms from ./syntaxnet/models/Russian-SynTagRus/tag-map.\n",
      "I syntaxnet/term_frequency_map.cc:103] Loaded 103473 terms from ./syntaxnet/models/Russian-SynTagRus/word-map.\n",
      "I syntaxnet/term_frequency_map.cc:103] Loaded 31 terms from ./syntaxnet/models/Russian-SynTagRus/tag-map.\n",
      "I syntaxnet/term_frequency_map.cc:103] Loaded 34 terms from ./syntaxnet/models/Russian-SynTagRus/label-map.\n",
      "I syntaxnet/embedding_feature_extractor.cc:35] Features: input.capitalization input(1).capitalization input(2).capitalization input(3).capitalization input(-1).capitalization input(-2).capitalization input(-3).capitalization input(-4).capitalization; input.token.char-ngram input(1).token.char-ngram input(2).token.char-ngram input(3).token.char-ngram input(-1).token.char-ngram input(-2).token.char-ngram input(-3).token.char-ngram input(-4).token.char-ngram; input.digit input.hyphen input.token.punctuation-amount input.token.quote; input.token.prefix(length=2) input(1).token.prefix(length=2) input(2).token.prefix(length=2) input(3).token.prefix(length=2) input(-1).token.prefix(length=2) input(-2).token.prefix(length=2) input(-3).token.prefix(length=2) input(-4).token.prefix(length=2); input.token.prefix(length=3) input(1).token.prefix(length=3) input(2).token.prefix(length=3) input(3).token.prefix(length=3) input(-1).token.prefix(length=3) input(-2).token.prefix(length=3) input(-3).token.prefix(length=3) input(-4).token.prefix(length=3); input.token.suffix(length=2) input(1).token.suffix(length=2) input(2).token.suffix(length=2) input(3).token.suffix(length=2) input(-1).token.suffix(length=2) input(-2).token.suffix(length=2) input(-3).token.suffix(length=2) input(-4).token.suffix(length=2); input.token.suffix(length=3) input(1).token.suffix(length=3) input(2).token.suffix(length=3) input(3).token.suffix(length=3) input(-1).token.suffix(length=3) input(-2).token.suffix(length=3) input(-3).token.suffix(length=3) input(-4).token.suffix(length=3); input(-1).pred-tag input(-2).pred-tag input(-3).pred-tag input(-4).pred-tag; input.token.word input(1).token.word input(2).token.word input(3).token.word input(-1).token.word input(-2).token.word input(-3).token.word input(-4).token.word\n",
      "I syntaxnet/embedding_feature_extractor.cc:36] Embedding names: capitalization;char_ngram;other;prefix2;prefix3;suffix2;suffix3;tags;words\n",
      "I syntaxnet/embedding_feature_extractor.cc:37] Embedding dims: 2;16;8;16;16;16;16;16;64\n",
      "I syntaxnet/term_frequency_map.cc:103] Loaded 18749 terms from ./syntaxnet/models/Russian-SynTagRus/char-ngram-map.\n",
      "I syntaxnet/term_frequency_map.cc:103] Loaded 103473 terms from ./syntaxnet/models/Russian-SynTagRus/word-map.\n",
      "INFO:tensorflow:Processed 6 documents\n",
      "INFO:tensorflow:Total processed documents: 6\n",
      "INFO:tensorflow:num correct tokens: 0\n",
      "INFO:tensorflow:total tokens: 48\n",
      "INFO:tensorflow:Seconds elapsed in evaluation: 0.15, eval metric: 0.00%\n",
      "INFO:tensorflow:Processed 6 documents\n",
      "INFO:tensorflow:Total processed documents: 6\n",
      "INFO:tensorflow:num correct tokens: 6\n",
      "INFO:tensorflow:total tokens: 48\n",
      "INFO:tensorflow:Seconds elapsed in evaluation: 0.70, eval metric: 12.50%\n"
     ]
    }
   ],
   "source": [
    "! cat ../data/task4.txt | docker run --rm -i inemo/syntaxnet_rus > ../data/sentences.conll"
   ]
  },
  {
   "cell_type": "markdown",
   "metadata": {
    "collapsed": true,
    "slideshow": {
     "slide_type": "subslide"
    }
   },
   "source": [
    "Обработка conll файлов:"
   ]
  },
  {
   "cell_type": "code",
   "execution_count": 45,
   "metadata": {
    "slideshow": {
     "slide_type": "fragment"
    }
   },
   "outputs": [],
   "source": [
    "from nltk import DependencyGraph\n",
    "import codecs\n",
    "\n",
    "processed_sentences = []\n",
    "sentence = []\n",
    "for line in codecs.open('../data/sentences.conll', 'r', 'utf-8'):\n",
    "    if len(line) == 1:\n",
    "        processed_sentences.append(sentence)\n",
    "        sentence = []\n",
    "    else:\n",
    "        word = line.split(\"\\t\")\n",
    "        sentence.append(word)\n",
    "\n",
    "deps = []\n",
    "for sentence in processed_sentences:\n",
    "    s = u\"\"\n",
    "    for line in sentence:\n",
    "        s += u\"\\t\".join(line) + u'\\n'\n",
    "    deps.append(s)\n"
   ]
  },
  {
   "cell_type": "markdown",
   "metadata": {
    "collapsed": true,
    "slideshow": {
     "slide_type": "subslide"
    }
   },
   "source": [
    "Синтаксические деревья:"
   ]
  },
  {
   "cell_type": "code",
   "execution_count": 46,
   "metadata": {
    "slideshow": {
     "slide_type": "fragment"
    }
   },
   "outputs": [
    {
     "name": "stdout",
     "output_type": "stream",
     "text": [
      "               испек                           \n",
      "   ______________|__________                    \n",
      "  |       |      |       помощью               \n",
      "  |       |      |     _____|__________         \n",
      "  |       |      |    |            интеллекта  \n",
      "  |       |      |    |                |        \n",
      "Google печенье   .    с          искусственного\n",
      "\n",
      "None\n",
      "             стал             \n",
      "    __________|_______         \n",
      "   |     |         звездой    \n",
      "   |     |     _______|_____   \n",
      "   |     |    |       |    НХЛ\n",
      "   |     |    |       |     |  \n",
      "Овечкин  .  первой   дня    в \n",
      "\n",
      "None\n",
      "    задержали                           \n",
      "  ______|_______________                 \n",
      " |      |         подозреваемого        \n",
      " |      |               |                \n",
      " |    Кубани         убийстве           \n",
      " |      |       ________|___________     \n",
      " .      На     в                 двойном\n",
      "\n",
      "None\n",
      "    вынес                   \n",
      "  ____|_______________       \n",
      " |    |      |     приговор \n",
      " |    |      |        |      \n",
      " |    |   Ростове   банде   \n",
      " |    |      |        |      \n",
      "суд   .      В    «амазонок»\n",
      "\n",
      "None\n",
      "                   закрасили                      \n",
      "     __________________|____________               \n",
      "    |        |         |         жертвам          \n",
      "    |        |         |            |              \n",
      "    |        |         |         теракта          \n",
      "    |        |         |            |              \n",
      "    |        |         |          метро           \n",
      "    |        |         |       _____|________      \n",
      "Чиновники мемориал     .      в          питерском\n",
      "\n",
      "None\n",
      "     продлил              \n",
      "  ______|____________      \n",
      " |      |      |  контракт\n",
      " |      |      |     |     \n",
      " |      |      |  Гуламом \n",
      " |      |      |     |     \n",
      "Клуб «Наполи»  .     с    \n",
      "\n",
      "None\n"
     ]
    }
   ],
   "source": [
    "for sent_dep in deps:\n",
    "    graph = DependencyGraph(tree_str=sent_dep)\n",
    "    tree = graph.tree()\n",
    "    print(tree.pretty_print())"
   ]
  },
  {
   "cell_type": "markdown",
   "metadata": {
    "collapsed": true,
    "slideshow": {
     "slide_type": "subslide"
    }
   },
   "source": [
    "Тройки слово-слово-связь:"
   ]
  },
  {
   "cell_type": "code",
   "execution_count": null,
   "metadata": {
    "slideshow": {
     "slide_type": "fragment"
    }
   },
   "outputs": [],
   "source": [
    "for sent_dep in deps:\n",
    "    graph = DependencyGraph(tree_str=sent_dep)\n",
    "    print([triple for triple in (graph.triples())])\n",
    "    print()"
   ]
  },
  {
   "cell_type": "markdown",
   "metadata": {
    "slideshow": {
     "slide_type": "subslide"
    }
   },
   "source": [
    "Тройки субьект-объект-глагол:"
   ]
  },
  {
   "cell_type": "code",
   "execution_count": 47,
   "metadata": {
    "slideshow": {
     "slide_type": "fragment"
    }
   },
   "outputs": [
    {
     "name": "stdout",
     "output_type": "stream",
     "text": [
      "испек {'subj': 'печенье', 'obj': 'Google'}\n",
      "стал {'subj': 'Овечкин', 'obj': ''}\n",
      "задержали {'subj': '', 'obj': 'подозреваемого'}\n",
      "вынес {'subj': 'суд', 'obj': 'приговор'}\n",
      "закрасили {'subj': 'Чиновники', 'obj': 'мемориал'}\n",
      "продлил {'subj': 'Клуб', 'obj': 'контракт'}\n"
     ]
    }
   ],
   "source": [
    "for sent_dep in deps:\n",
    "    graph = DependencyGraph(tree_str=sent_dep)\n",
    "    sov = {}\n",
    "    for triple in graph.triples():\n",
    "        if triple:\n",
    "            if triple[0][1] == 'VERB':\n",
    "                sov[triple[0][0]] = {'subj':'','obj':''}\n",
    "    for triple in graph.triples():\n",
    "        if triple:\n",
    "            if triple[1] == 'nsubj':\n",
    "                if triple[0][1] == 'VERB':\n",
    "                    sov[triple[0][0]]['subj']  = triple[2][0]\n",
    "            if triple[1] == 'dobj':\n",
    "                if triple[0][1] == 'VERB':\n",
    "                    sov[triple[0][0]]['obj'] = triple[2][0]\n",
    "\n",
    "    for verb in sov:\n",
    "        print(verb,sov[verb])"
   ]
  },
  {
   "cell_type": "markdown",
   "metadata": {
    "slideshow": {
     "slide_type": "slide"
    }
   },
   "source": [
    "## Задание 5\n",
    "Измените код выше так, чтобы учитывались:\n",
    "    1. Однородные члены предложения \n",
    "        * (парк, площадка), (Германия, Щвейцария)\n",
    "    2. Сложные сказуемые \n",
    "        * (начнет продавать), (запретил провозить)\n",
    "    3. Непрямые объекты\n",
    "        * (едет, Польшу), (спел, скандале)\n",
    "        \n",
    "Используйте предложения из файла task5.txt"
   ]
  },
  {
   "cell_type": "code",
   "execution_count": null,
   "metadata": {
    "slideshow": {
     "slide_type": "skip"
    }
   },
   "outputs": [],
   "source": [
    "#решение Задания 1\n",
    "prog1 = re.compile('[\\+0-9\\-\\(\\)]{11,}')\n",
    "res = prog1.findall(phones)\n",
    "print(*res, sep='\\n')"
   ]
  },
  {
   "cell_type": "code",
   "execution_count": null,
   "metadata": {
    "slideshow": {
     "slide_type": "skip"
    }
   },
   "outputs": [],
   "source": [
    "#решение Задания 2\n",
    "import nltk\n",
    "text = ' '.join([line.strip() for line in open('../data/task2.txt')])\n",
    "tokens = words_only(text)\n",
    "\n",
    "sents = sent_tokenize(text)\n",
    "print(len(sents))\n",
    "\n",
    "d1 = nltk.FreqDist(tokens)\n",
    "print(d1)"
   ]
  },
  {
   "cell_type": "code",
   "execution_count": null,
   "metadata": {
    "slideshow": {
     "slide_type": "skip"
    }
   },
   "outputs": [],
   "source": [
    "# решение Задания 3.1\n",
    "res = [i for i in d1.most_common() if i[1] > 1]\n",
    "print(*res, sep='\\n')\n",
    "print(len(res))"
   ]
  },
  {
   "cell_type": "code",
   "execution_count": null,
   "metadata": {
    "slideshow": {
     "slide_type": "skip"
    }
   },
   "outputs": [],
   "source": [
    "# решение Задания 3.2\n",
    "res = [i for i in d1 if len(i) > 5]\n",
    "print(res)\n",
    "print(len(res))"
   ]
  },
  {
   "cell_type": "code",
   "execution_count": null,
   "metadata": {
    "slideshow": {
     "slide_type": "skip"
    }
   },
   "outputs": [],
   "source": [
    "#решение Задания 4\n",
    "from pymorphy2 import MorphAnalyzer\n",
    "\n",
    "m = MorphAnalyzer()\n",
    "prog = re.compile('[А-Я]{1}[а-я]+') #слова с заглавной буквы\n",
    "tokens = prog.findall(raw)\n",
    "lemmas = [m.parse(word)[0].normal_form for word in tokens]\n",
    "\n",
    "names = set()\n",
    "for w in lemmas:\n",
    "    p = m.parse(w)[0].tag\n",
    "    if {'Name', 'femn'} in p:\n",
    "        names.add(w.capitalize())\n",
    "        \n",
    "print(*names, sep='\\n')"
   ]
  }
 ],
 "metadata": {
  "celltoolbar": "Slideshow",
  "kernelspec": {
   "display_name": "Python 3",
   "language": "python",
   "name": "python3"
  },
  "language_info": {
   "codemirror_mode": {
    "name": "ipython",
    "version": 3
   },
   "file_extension": ".py",
   "mimetype": "text/x-python",
   "name": "python",
   "nbconvert_exporter": "python",
   "pygments_lexer": "ipython3",
   "version": "3.6.0"
  }
 },
 "nbformat": 4,
 "nbformat_minor": 2
}
