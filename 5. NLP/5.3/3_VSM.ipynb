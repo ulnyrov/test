{
 "cells": [
  {
   "cell_type": "markdown",
   "metadata": {},
   "source": [
    "# Векторная модель "
   ]
  },
  {
   "cell_type": "markdown",
   "metadata": {},
   "source": [
    "Зададим небольшую коллекцию документов"
   ]
  },
  {
   "cell_type": "code",
   "execution_count": 1,
   "metadata": {},
   "outputs": [
    {
     "name": "stderr",
     "output_type": "stream",
     "text": [
      "/Library/Frameworks/Python.framework/Versions/3.6/lib/python3.6/site-packages/h5py/__init__.py:36: FutureWarning: Conversion of the second argument of issubdtype from `float` to `np.floating` is deprecated. In future, it will be treated as `np.float64 == np.dtype(float).type`.\n",
      "  from ._conv import register_converters as _register_converters\n",
      "Using TensorFlow backend.\n"
     ]
    }
   ],
   "source": [
    "from gensim import corpora\n",
    "from gensim import corpora, models, similarities\n",
    "\n",
    "from pylab import pcolor, show, colorbar, xticks, yticks\n",
    "import seaborn as sns\n",
    "import matplotlib.pyplot as plt\n",
    "%matplotlib inline\n",
    "\n",
    "documents = [\"Human machine interface for lab abc computer applications\",\n",
    "              \"A survey of user opinion of computer system response time\",\n",
    "              \"The EPS user interface management system\",\n",
    "             \"System and human system engineering testing of EPS\",\n",
    "              \"Relation of user perceived response time to error measurement\",\n",
    "              \"The generation of random binary unordered trees\",\n",
    "             \"The intersection graph of paths in trees\",\n",
    "             \"Graph minors IV Widths of trees and well quasi ordering\",\n",
    "             \"Graph minors A survey\"]"
   ]
  },
  {
   "cell_type": "markdown",
   "metadata": {},
   "source": [
    "Предобработка"
   ]
  },
  {
   "cell_type": "code",
   "execution_count": 2,
   "metadata": {},
   "outputs": [
    {
     "name": "stdout",
     "output_type": "stream",
     "text": [
      "[['human', 'interface', 'computer'],\n",
      " ['survey', 'user', 'computer', 'system', 'response', 'time'],\n",
      " ['eps', 'user', 'interface', 'system'],\n",
      " ['system', 'human', 'system', 'eps'],\n",
      " ['user', 'response', 'time'],\n",
      " ['trees'],\n",
      " ['graph', 'trees'],\n",
      " ['graph', 'minors', 'trees'],\n",
      " ['graph', 'minors', 'survey']]\n"
     ]
    }
   ],
   "source": [
    "stoplist = set('for a of the and to in'.split()) ## стоп-слова\n",
    "texts = [[word for word in document.lower().split() if word not in stoplist] for document in documents] ## удаляем стоп-слова\n",
    "\n",
    "from collections import defaultdict ## задаем частотный словарь\n",
    "frequency = defaultdict(int)\n",
    "for text in texts:\n",
    "    for token in text:\n",
    "        frequency[token] += 1\n",
    "\n",
    "texts = [[token for token in text if frequency[token] > 1] for text in texts] ## удалим токены, которые встречаются только 1 раз\n",
    "from pprint import pprint  # pretty-printer\n",
    "pprint(texts)"
   ]
  },
  {
   "cell_type": "markdown",
   "metadata": {},
   "source": [
    "## Векторное представление коллекции текстов\n",
    "\n",
    "|           | $d_1$      | $d_2$      | $\\ldots$ | $d_{D}$    |\n",
    "|-----------|------------|------------|----------|--------------|\n",
    "| $w_1$     | $f_{11}$   | $f_{12}$   |          | $f_{1D}$   |\n",
    "| $w_2$     | $f_{21}$   | $f_{22}$   |          | $f_{2D}$   |\n",
    "| $\\ldots$  |            |            |          |              |\n",
    "| $w_{|V|}$ | $f_{V1}$ | $f_{V2}$ |          | $f_{VD}$ |\n",
    "\n",
    "\n",
    "Косинусная мера близости в векторной модели [Salton et. al, 1975]: \n",
    "$ \\cos(d_i, d_j) = \\frac {d_i \\times d_j}{||d_i||||d_j||} = \\frac{\\sum_k f_{ki} \\times f_{kj}} {\\sqrt{(\\sum_k f_{ki})^2} \\sqrt{(\\sum_k f_{kj})^2}}$\n",
    "\n",
    "\n",
    "Если вектора нормированы на длину $||d_i|| = ||d_j|| = 1$, $ \\cos(d_i, d_j) = d_i \\times d_j$"
   ]
  },
  {
   "cell_type": "markdown",
   "metadata": {},
   "source": [
    "Задаем словарь и непосредственно представление текстов векторами"
   ]
  },
  {
   "cell_type": "code",
   "execution_count": 3,
   "metadata": {},
   "outputs": [
    {
     "name": "stdout",
     "output_type": "stream",
     "text": [
      "Dictionary(12 unique tokens: ['human', 'interface', 'computer', 'survey', 'user']...)\n",
      "{'human': 0, 'interface': 1, 'computer': 2, 'survey': 3, 'user': 4, 'system': 5, 'response': 6, 'time': 7, 'eps': 8, 'trees': 9, 'graph': 10, 'minors': 11}\n"
     ]
    }
   ],
   "source": [
    "dictionary = corpora.Dictionary(texts) ## инициализируем словарь \n",
    "print(dictionary) \n",
    "print(dictionary.token2id)"
   ]
  },
  {
   "cell_type": "code",
   "execution_count": 4,
   "metadata": {},
   "outputs": [
    {
     "name": "stdout",
     "output_type": "stream",
     "text": [
      "[[(0, 1), (1, 1), (2, 1)], [(2, 1), (3, 1), (4, 1), (5, 1), (6, 1), (7, 1)], [(1, 1), (4, 1), (5, 1), (8, 1)], [(0, 1), (5, 2), (8, 1)], [(4, 1), (6, 1), (7, 1)], [(9, 1)], [(9, 1), (10, 1)], [(9, 1), (10, 1), (11, 1)], [(3, 1), (10, 1), (11, 1)]]\n"
     ]
    }
   ],
   "source": [
    "corpus = [dictionary.doc2bow(text) for text in texts] ## здесь хранится непосрдественно векторная модель  \n",
    "print(corpus)"
   ]
  },
  {
   "cell_type": "markdown",
   "metadata": {},
   "source": [
    "## Поиск по запросу\n",
    "\n",
    "Ищем ближайший документ к вектору запроса по косинусной мере близости:\n",
    "\n",
    "![](img/ir3.png)"
   ]
  },
  {
   "cell_type": "code",
   "execution_count": 5,
   "metadata": {},
   "outputs": [
    {
     "name": "stdout",
     "output_type": "stream",
     "text": [
      "[(0, 1), (2, 1)]\n"
     ]
    }
   ],
   "source": [
    "q = \"human computer interaction\" \n",
    "vec = dictionary.doc2bow(q.lower().split()) \n",
    "print(vec)"
   ]
  },
  {
   "cell_type": "code",
   "execution_count": 6,
   "metadata": {},
   "outputs": [
    {
     "name": "stdout",
     "output_type": "stream",
     "text": [
      "MatrixSimilarity<9 docs, 12 features>\n"
     ]
    }
   ],
   "source": [
    "index = similarities.MatrixSimilarity(corpus) \n",
    "print(index)"
   ]
  },
  {
   "cell_type": "code",
   "execution_count": 7,
   "metadata": {},
   "outputs": [
    {
     "name": "stdout",
     "output_type": "stream",
     "text": [
      "Q: human computer interaction\n",
      "doc 0 Human machine interface for lab abc computer applications 0.81649655\n",
      "doc 1 A survey of user opinion of computer system response time 0.28867513\n",
      "doc 3 System and human system engineering testing of EPS 0.28867513\n",
      "doc 2 The EPS user interface management system 0.0\n",
      "doc 4 Relation of user perceived response time to error measurement 0.0\n",
      "doc 5 The generation of random binary unordered trees 0.0\n",
      "doc 6 The intersection graph of paths in trees 0.0\n",
      "doc 7 Graph minors IV Widths of trees and well quasi ordering 0.0\n",
      "doc 8 Graph minors A survey 0.0\n"
     ]
    }
   ],
   "source": [
    "sims = index[vec]\n",
    "sims = sorted(enumerate(sims), key=lambda item: -item[1])\n",
    "print(\"Q:\", q)\n",
    "for i in sims:\n",
    "    print('doc', i[0], documents[i[0]], i[1])"
   ]
  },
  {
   "cell_type": "markdown",
   "metadata": {},
   "source": [
    "Выполним $tf-idf$ преобразование:"
   ]
  },
  {
   "cell_type": "code",
   "execution_count": 8,
   "metadata": {},
   "outputs": [],
   "source": [
    "tfidf = models.TfidfModel(corpus)"
   ]
  },
  {
   "cell_type": "code",
   "execution_count": 9,
   "metadata": {},
   "outputs": [
    {
     "name": "stdout",
     "output_type": "stream",
     "text": [
      "human – 2 – 2.1699\n",
      "interface – 2 – 2.1699\n",
      "computer – 2 – 2.1699\n",
      "survey – 2 – 2.1699\n",
      "user – 3 – 1.5850\n",
      "system – 3 – 1.5850\n",
      "response – 2 – 2.1699\n",
      "time – 2 – 2.1699\n",
      "eps – 2 – 2.1699\n",
      "trees – 3 – 1.5850\n",
      "graph – 3 – 1.5850\n",
      "minors – 2 – 2.1699\n"
     ]
    }
   ],
   "source": [
    "for word_id in dictionary:\n",
    "    print(\"%s – %d – %1.4f\" %(dictionary[word_id],  tfidf.dfs[word_id], tfidf.idfs[word_id]))"
   ]
  },
  {
   "cell_type": "code",
   "execution_count": 10,
   "metadata": {},
   "outputs": [
    {
     "data": {
      "text/plain": [
       "([(2, 1), (3, 1), (4, 1), (5, 1), (6, 1), (7, 1)],\n",
       " [(2, 0.44424552527467476),\n",
       "  (3, 0.44424552527467476),\n",
       "  (4, 0.3244870206138555),\n",
       "  (5, 0.3244870206138555),\n",
       "  (6, 0.44424552527467476),\n",
       "  (7, 0.44424552527467476)])"
      ]
     },
     "execution_count": 10,
     "metadata": {},
     "output_type": "execute_result"
    }
   ],
   "source": [
    "corpus[1], tfidf[corpus[1]]"
   ]
  },
  {
   "cell_type": "markdown",
   "metadata": {},
   "source": [
    "#### Задание 1\n",
    "1. Преобразуйте с помощью $tf-idf$ все вектора из корпуса и создайте новый индекс\n",
    "2. Преобразуйте вектор запроса с помощью $tf-idf$ \n",
    "3. Как вычисляются $idf$ веса в векторе запроса?\n",
    "4. Повторите поиск по запросу после $tf-idf$  преобразования"
   ]
  },
  {
   "cell_type": "markdown",
   "metadata": {},
   "source": [
    "## Снижение размерности\n",
    "\n",
    "Сингулярное разложение: $M = U \\Sigma V^T$\n",
    "\n",
    "Снижение размерности с помощью сингулярного разложения: $M'_k = U \\Sigma_k V^t_k$\n",
    "\n",
    "\n",
    "![рисунок](img/svd.jpg)"
   ]
  },
  {
   "cell_type": "code",
   "execution_count": 11,
   "metadata": {},
   "outputs": [
    {
     "name": "stdout",
     "output_type": "stream",
     "text": [
      "LsiModel(num_terms=12, num_topics=2, decay=1.0, chunksize=20000)\n"
     ]
    }
   ],
   "source": [
    "lsi = models.LsiModel(corpus, id2word=dictionary, num_topics=2) ## задаем LSI модель, число тем = 2\n",
    "print(lsi)"
   ]
  },
  {
   "cell_type": "markdown",
   "metadata": {},
   "source": [
    "#### Задание 2\n",
    "1. Повторите задание 1, теперь в пространстве меньшей размерности \n",
    "4. Что означают новые координаты вектора запроса?"
   ]
  },
  {
   "cell_type": "code",
   "execution_count": 24,
   "metadata": {},
   "outputs": [
    {
     "name": "stdout",
     "output_type": "stream",
     "text": [
      "\n",
      "\n",
      "\n",
      "\n",
      "\n",
      "\n",
      "\n",
      "\n",
      "\n",
      "\n",
      "\n",
      "\n",
      "\n",
      "\n",
      "\n",
      "\n",
      "\n",
      "\n",
      "\n",
      "\n",
      "\n",
      "\n",
      "\n",
      "\n",
      "\n",
      "\n",
      "\n",
      "\n",
      "\n",
      "\n",
      "\n",
      "\n",
      "\n",
      "\n",
      "\n",
      "\n",
      "\n",
      "\n",
      "\n",
      "\n",
      "\n",
      "\n",
      "\n",
      "\n",
      "\n",
      "\n",
      "\n",
      "\n",
      "\n",
      "\n",
      "\n",
      "\n",
      "\n",
      "\n",
      "\n",
      "\n",
      "\n",
      "\n",
      "\n",
      "\n",
      "\n",
      "\n",
      "\n",
      "\n",
      "\n",
      "\n",
      "\n",
      "\n",
      "\n",
      "\n",
      "\n",
      "\n",
      "\n",
      "\n",
      "\n",
      "\n",
      "\n",
      "\n",
      "\n",
      "\n",
      "\n",
      "\n",
      "\n",
      "\n",
      "\n",
      "\n",
      "\n",
      "\n",
      "\n",
      "\n",
      "\n",
      "\n",
      "\n",
      "\n",
      "\n",
      "\n",
      "\n",
      "\n",
      "\n",
      "\n",
      "\n"
     ]
    }
   ],
   "source": [
    "print('\\n'*100)"
   ]
  },
  {
   "cell_type": "code",
   "execution_count": 22,
   "metadata": {},
   "outputs": [
    {
     "name": "stdout",
     "output_type": "stream",
     "text": [
      "human – 2 – 2.1699\n",
      "computer – 2 – 2.1699\n",
      "Q: human computer interaction\n",
      "doc 0 Human machine interface for lab abc computer applications 0.81649655\n",
      "doc 3 System and human system engineering testing of EPS 0.3477732\n",
      "doc 1 A survey of user opinion of computer system response time 0.31412902\n",
      "doc 2 The EPS user interface management system 0.0\n",
      "doc 4 Relation of user perceived response time to error measurement 0.0\n",
      "doc 5 The generation of random binary unordered trees 0.0\n",
      "doc 6 The intersection graph of paths in trees 0.0\n",
      "doc 7 Graph minors IV Widths of trees and well quasi ordering 0.0\n",
      "doc 8 Graph minors A survey 0.0\n"
     ]
    }
   ],
   "source": [
    "## решение 1\n",
    "\n",
    "index = similarities.MatrixSimilarity(tfidf[corpus]) \n",
    "vec_tfidf = tfidf[vec]\n",
    "\n",
    "for word in q.lower().split():\n",
    "    if word in dictionary.token2id:\n",
    "        word_id = dictionary.token2id[word]\n",
    "        print(\"%s – %d – %1.4f\" %(dictionary[word_id],  tfidf.dfs[word_id], tfidf.idfs[word_id]))\n",
    "        \n",
    "        \n",
    "sims = index[vec_tfidf]\n",
    "sims_tfidf = sorted(enumerate(sims), key=lambda item: -item[1])\n",
    "print(\"Q:\", q)\n",
    "for i in sims_tfidf:\n",
    "    print('doc', i[0], documents[i[0]], i[1])"
   ]
  },
  {
   "cell_type": "code",
   "execution_count": 13,
   "metadata": {},
   "outputs": [
    {
     "name": "stdout",
     "output_type": "stream",
     "text": [
      "[(0, 0.4618210045327157), (1, -0.07002766527899983)]\n",
      "Q: human computer interaction\n",
      "doc 2 The EPS user interface management system 0.9984453\n",
      "doc 0 Human machine interface for lab abc computer applications 0.998093\n",
      "doc 3 System and human system engineering testing of EPS 0.9865886\n",
      "doc 1 A survey of user opinion of computer system response time 0.93748635\n",
      "doc 4 Relation of user perceived response time to error measurement 0.90755945\n",
      "doc 8 Graph minors A survey 0.05004177\n",
      "doc 7 Graph minors IV Widths of trees and well quasi ordering -0.09879463\n",
      "doc 6 The intersection graph of paths in trees -0.10639259\n",
      "doc 5 The generation of random binary unordered trees -0.12416792\n"
     ]
    }
   ],
   "source": [
    "## решение 2\n",
    "\n",
    "index = similarities.MatrixSimilarity(lsi[corpus]) ##  индекс и векторное представление исходных текстов в пространстве меньшей размерности\n",
    "\n",
    "vec_lsi = lsi[vec] ##  конвертируем запрос в пространство меньшей размерности\n",
    "print(vec_lsi)\n",
    "\n",
    "sims = index[vec_lsi]\n",
    "sims_lsi = sorted(enumerate(sims), key=lambda item: -item[1])\n",
    "print(\"Q:\", q)\n",
    "for i in sims_lsi:\n",
    "    print('doc', i[0], documents[i[0]], i[1])"
   ]
  }
 ],
 "metadata": {
  "kernelspec": {
   "display_name": "Python 3",
   "language": "python",
   "name": "python3"
  },
  "language_info": {
   "codemirror_mode": {
    "name": "ipython",
    "version": 3
   },
   "file_extension": ".py",
   "mimetype": "text/x-python",
   "name": "python",
   "nbconvert_exporter": "python",
   "pygments_lexer": "ipython3",
   "version": "3.6.0"
  }
 },
 "nbformat": 4,
 "nbformat_minor": 1
}
