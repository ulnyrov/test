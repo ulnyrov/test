{
 "cells": [
  {
   "cell_type": "markdown",
   "metadata": {},
   "source": [
    "# Пример обучения генеративной сети\n",
    "https://arxiv.org/abs/1610.09585"
   ]
  },
  {
   "cell_type": "code",
   "execution_count": 1,
   "metadata": {},
   "outputs": [
    {
     "name": "stderr",
     "output_type": "stream",
     "text": [
      "Using TensorFlow backend.\n"
     ]
    }
   ],
   "source": [
    "# import modules\n",
    "import keras.backend as K\n",
    "from keras import layers\n",
    "from keras.layers import Input, Dense, Reshape, Flatten, Embedding, Dropout\n",
    "from keras.layers.advanced_activations import LeakyReLU\n",
    "from keras.layers.convolutional import UpSampling2D, Conv2D\n",
    "from keras.models import Sequential, Model\n",
    "from keras.optimizers import Adam\n",
    "from keras.utils.generic_utils import Progbar\n",
    "import numpy as np"
   ]
  },
  {
   "cell_type": "markdown",
   "metadata": {},
   "source": [
    "## Загружаем исходные данные"
   ]
  },
  {
   "cell_type": "code",
   "execution_count": 2,
   "metadata": {
    "collapsed": true
   },
   "outputs": [],
   "source": [
    "train = np.loadtxt('../002/data/digit/train.csv', delimiter=',', skiprows=1)\n",
    "test = np.loadtxt('../002/data/digit/test.csv', delimiter=',', skiprows=1)"
   ]
  },
  {
   "cell_type": "code",
   "execution_count": 3,
   "metadata": {
    "collapsed": true
   },
   "outputs": [],
   "source": [
    "# сохраняем разметку в отдельную переменную\n",
    "train_label = train[:, 0]\n",
    "# приводим размерность к удобному для обаботки виду\n",
    "train_img = np.expand_dims(np.reshape(train[:, 1:], (len(train[:, 1:]), 28, 28)), axis=1)\n",
    "test_img = np.expand_dims(np.reshape(test, (len(test), 28, 28)), axis=1)"
   ]
  },
  {
   "cell_type": "code",
   "execution_count": 4,
   "metadata": {
    "collapsed": true
   },
   "outputs": [],
   "source": [
    "from sklearn.model_selection import train_test_split\n",
    "y_train, y_test, X_train, X_test = train_test_split(\n",
    "    train_label, train_img, test_size=0.2, random_state=42)"
   ]
  },
  {
   "cell_type": "code",
   "execution_count": 5,
   "metadata": {
    "collapsed": true
   },
   "outputs": [],
   "source": [
    "X_train = (X_train.astype(np.float32) - 127.5) / 127.5\n",
    "X_test = (X_test.astype(np.float32) - 127.5) / 127.5"
   ]
  },
  {
   "cell_type": "markdown",
   "metadata": {},
   "source": [
    "## Визуализируем данные"
   ]
  },
  {
   "cell_type": "code",
   "execution_count": 6,
   "metadata": {},
   "outputs": [
    {
     "data": {
      "image/png": "[encoded data removed]",
      "text/plain": [
       "<matplotlib.figure.Figure at 0x1328f0630>"
      ]
     },
     "metadata": {},
     "output_type": "display_data"
    }
   ],
   "source": [
    "%matplotlib inline\n",
    "from matplotlib import pyplot as plt\n",
    "fig = plt.figure(figsize=(20, 10))\n",
    "for i, img in enumerate(train_img[0:5], 1):\n",
    "    subplot = fig.add_subplot(1, 7, i)\n",
    "    plt.imshow(img[0,:,:], cmap='gray');\n",
    "    subplot.set_title('%s' % train_label[i - 1]);"
   ]
  },
  {
   "cell_type": "code",
   "execution_count": 7,
   "metadata": {
    "collapsed": true
   },
   "outputs": [],
   "source": [
    "LATENT_SIZE = 100"
   ]
  },
  {
   "cell_type": "code",
   "execution_count": 8,
   "metadata": {
    "collapsed": true
   },
   "outputs": [],
   "source": [
    "K.set_image_data_format('channels_first')"
   ]
  },
  {
   "cell_type": "markdown",
   "metadata": {},
   "source": [
    "## Генератор"
   ]
  },
  {
   "cell_type": "code",
   "execution_count": 9,
   "metadata": {
    "collapsed": true
   },
   "outputs": [],
   "source": [
    "# generator\n",
    "cnn = Sequential()\n",
    "\n",
    "cnn.add(Dense(1024, input_dim=LATENT_SIZE, activation='relu'))\n",
    "cnn.add(Dense(128 * 7 * 7, activation='relu'))\n",
    "cnn.add(Reshape((128, 7, 7)))\n",
    "\n",
    "# upsample to (..., 14, 14)\n",
    "cnn.add(UpSampling2D(size=(2, 2)))\n",
    "cnn.add(Conv2D(256, 5, padding='same',\n",
    "               activation='relu',\n",
    "               kernel_initializer='glorot_normal'))\n",
    "\n",
    "# upsample to (..., 28, 28)\n",
    "cnn.add(UpSampling2D(size=(2, 2)))\n",
    "cnn.add(Conv2D(128, 5, padding='same',\n",
    "               activation='relu',\n",
    "               kernel_initializer='glorot_normal'))\n",
    "\n",
    "# take a channel axis reduction\n",
    "cnn.add(Conv2D(1, 2, padding='same',\n",
    "               activation='sigmoid',\n",
    "               kernel_initializer='glorot_normal'))\n",
    "\n",
    "# this is the z space commonly refered to in GAN papers\n",
    "latent = Input(shape=(LATENT_SIZE, ))\n",
    "\n",
    "# this will be our label\n",
    "image_class = Input(shape=(1,), dtype='int32')\n",
    "\n",
    "# 10 classes in MNIST\n",
    "cls = Flatten()(Embedding(10, LATENT_SIZE,\n",
    "            embeddings_initializer='glorot_normal')(image_class))\n",
    "\n",
    "# hadamard product between z-space and a class conditional embedding\n",
    "h = layers.multiply([latent, cls])\n",
    "\n",
    "fake_image = cnn(h)\n",
    "\n",
    "generator = Model([latent, image_class], fake_image)"
   ]
  },
  {
   "cell_type": "code",
   "execution_count": 10,
   "metadata": {},
   "outputs": [
    {
     "name": "stdout",
     "output_type": "stream",
     "text": [
      "_________________________________________________________________\n",
      "Layer (type)                 Output Shape              Param #   \n",
      "=================================================================\n",
      "dense_1 (Dense)              (None, 1024)              103424    \n",
      "_________________________________________________________________\n",
      "dense_2 (Dense)              (None, 6272)              6428800   \n",
      "_________________________________________________________________\n",
      "reshape_1 (Reshape)          (None, 128, 7, 7)         0         \n",
      "_________________________________________________________________\n",
      "up_sampling2d_1 (UpSampling2 (None, 128, 14, 14)       0         \n",
      "_________________________________________________________________\n",
      "conv2d_1 (Conv2D)            (None, 256, 14, 14)       819456    \n",
      "_________________________________________________________________\n",
      "up_sampling2d_2 (UpSampling2 (None, 256, 28, 28)       0         \n",
      "_________________________________________________________________\n",
      "conv2d_2 (Conv2D)            (None, 128, 28, 28)       819328    \n",
      "_________________________________________________________________\n",
      "conv2d_3 (Conv2D)            (None, 1, 28, 28)         513       \n",
      "=================================================================\n",
      "Total params: 8,171,521\n",
      "Trainable params: 8,171,521\n",
      "Non-trainable params: 0\n",
      "_________________________________________________________________\n"
     ]
    }
   ],
   "source": [
    "cnn.summary()"
   ]
  },
  {
   "cell_type": "code",
   "execution_count": 11,
   "metadata": {},
   "outputs": [
    {
     "name": "stdout",
     "output_type": "stream",
     "text": [
      "____________________________________________________________________________________________________\n",
      "Layer (type)                     Output Shape          Param #     Connected to                     \n",
      "====================================================================================================\n",
      "input_2 (InputLayer)             (None, 1)             0                                            \n",
      "____________________________________________________________________________________________________\n",
      "embedding_1 (Embedding)          (None, 1, 100)        1000        input_2[0][0]                    \n",
      "____________________________________________________________________________________________________\n",
      "input_1 (InputLayer)             (None, 100)           0                                            \n",
      "____________________________________________________________________________________________________\n",
      "flatten_1 (Flatten)              (None, 100)           0           embedding_1[0][0]                \n",
      "____________________________________________________________________________________________________\n",
      "multiply_1 (Multiply)            (None, 100)           0           input_1[0][0]                    \n",
      "                                                                   flatten_1[0][0]                  \n",
      "____________________________________________________________________________________________________\n",
      "sequential_1 (Sequential)        (None, 1, 28, 28)     8171521     multiply_1[0][0]                 \n",
      "====================================================================================================\n",
      "Total params: 8,172,521\n",
      "Trainable params: 8,172,521\n",
      "Non-trainable params: 0\n",
      "____________________________________________________________________________________________________\n"
     ]
    }
   ],
   "source": [
    "generator.summary()"
   ]
  },
  {
   "cell_type": "markdown",
   "metadata": {},
   "source": [
    "## Дискриминатор"
   ]
  },
  {
   "cell_type": "code",
   "execution_count": 13,
   "metadata": {
    "collapsed": true
   },
   "outputs": [],
   "source": [
    "cnn = Sequential()\n",
    "\n",
    "cnn.add(Conv2D(32, 3, padding='same', strides=2,\n",
    "               input_shape=(1, 28, 28)))\n",
    "cnn.add(LeakyReLU())\n",
    "cnn.add(Dropout(0.3))\n",
    "\n",
    "cnn.add(Conv2D(64, 3, padding='same', strides=1))\n",
    "cnn.add(LeakyReLU())\n",
    "cnn.add(Dropout(0.3))\n",
    "\n",
    "cnn.add(Conv2D(128, 3, padding='same', strides=2))\n",
    "cnn.add(LeakyReLU())\n",
    "cnn.add(Dropout(0.3))\n",
    "\n",
    "cnn.add(Conv2D(256, 3, padding='same', strides=1))\n",
    "cnn.add(LeakyReLU())\n",
    "cnn.add(Dropout(0.3))\n",
    "\n",
    "cnn.add(Flatten())\n",
    "\n",
    "image = Input(shape=(1, 28, 28))\n",
    "\n",
    "features = cnn(image)\n",
    "\n",
    "# first output (name=generation) is whether or not the discriminator\n",
    "# thinks the image that is being shown is fake, and the second output\n",
    "# (name=auxiliary) is the class that the discriminator thinks the image\n",
    "# belongs to.\n",
    "fake = Dense(1, activation='sigmoid', name='generation')(features)\n",
    "aux = Dense(10, activation='softmax', name='auxiliary')(features)\n",
    "\n",
    "discriminator = Model(image, [fake, aux])"
   ]
  },
  {
   "cell_type": "code",
   "execution_count": 14,
   "metadata": {},
   "outputs": [
    {
     "name": "stdout",
     "output_type": "stream",
     "text": [
      "____________________________________________________________________________________________________\n",
      "Layer (type)                     Output Shape          Param #     Connected to                     \n",
      "====================================================================================================\n",
      "input_3 (InputLayer)             (None, 1, 28, 28)     0                                            \n",
      "____________________________________________________________________________________________________\n",
      "sequential_2 (Sequential)        (None, 12544)         387840      input_3[0][0]                    \n",
      "____________________________________________________________________________________________________\n",
      "generation (Dense)               (None, 1)             12545       sequential_2[1][0]               \n",
      "____________________________________________________________________________________________________\n",
      "auxiliary (Dense)                (None, 10)            125450      sequential_2[1][0]               \n",
      "====================================================================================================\n",
      "Total params: 525,835\n",
      "Trainable params: 525,835\n",
      "Non-trainable params: 0\n",
      "____________________________________________________________________________________________________\n"
     ]
    }
   ],
   "source": [
    "discriminator.summary()"
   ]
  },
  {
   "cell_type": "markdown",
   "metadata": {},
   "source": [
    "## Задаем параметры обучения"
   ]
  },
  {
   "cell_type": "code",
   "execution_count": 15,
   "metadata": {},
   "outputs": [],
   "source": [
    "# Adam parameters suggested in https://arxiv.org/abs/1511.06434\n",
    "adam_lr = 0.0002\n",
    "adam_beta_1 = 0.5\n",
    "\n",
    "# build the discriminator\n",
    "discriminator.compile(\n",
    "    optimizer=Adam(lr=adam_lr, beta_1=adam_beta_1),\n",
    "    loss=['binary_crossentropy', 'sparse_categorical_crossentropy']\n",
    ")\n",
    "\n",
    "# build the generator\n",
    "generator.compile(optimizer=Adam(lr=adam_lr, beta_1=adam_beta_1),\n",
    "                  loss='binary_crossentropy')"
   ]
  },
  {
   "cell_type": "markdown",
   "metadata": {},
   "source": [
    "## Объединяем генератор и дискриминатор в общую модель"
   ]
  },
  {
   "cell_type": "code",
   "execution_count": 16,
   "metadata": {
    "collapsed": true
   },
   "outputs": [],
   "source": [
    "latent = Input(shape=(LATENT_SIZE, ))\n",
    "image_class = Input(shape=(1,), dtype='int32')\n",
    "\n",
    "# get a fake image\n",
    "fake = generator([latent, image_class])\n",
    "\n",
    "# we only want to be able to train generation for the combined model\n",
    "discriminator.trainable = False\n",
    "fake, aux = discriminator(fake)\n",
    "combined = Model([latent, image_class], [fake, aux])\n",
    "\n",
    "combined.compile(\n",
    "    optimizer=Adam(lr=adam_lr, beta_1=adam_beta_1),\n",
    "    loss=['binary_crossentropy', 'sparse_categorical_crossentropy']\n",
    ")"
   ]
  },
  {
   "cell_type": "markdown",
   "metadata": {},
   "source": [
    "## Запускаем процесс обучения"
   ]
  },
  {
   "cell_type": "code",
   "execution_count": null,
   "metadata": {
    "scrolled": false
   },
   "outputs": [
    {
     "name": "stdout",
     "output_type": "stream",
     "text": [
      "Epoch 1 of 15\n",
      " 28/336 [=>............................] - ETA: 6857s"
     ]
    }
   ],
   "source": [
    "from collections import defaultdict\n",
    "\n",
    "epochs = 15\n",
    "batch_size = 100\n",
    "num_test = X_test.shape[0]\n",
    "\n",
    "train_history = defaultdict(list)\n",
    "test_history = defaultdict(list)\n",
    "\n",
    "for epoch in range(epochs):\n",
    "    print('Epoch {} of {}'.format(epoch + 1, epochs))\n",
    "\n",
    "    num_batches = int(X_train.shape[0] / batch_size)\n",
    "    progress_bar = Progbar(target=num_batches)\n",
    "\n",
    "    epoch_gen_loss = []\n",
    "    epoch_disc_loss = []\n",
    "\n",
    "    for index in range(num_batches):\n",
    "        progress_bar.update(index)\n",
    "        # generate a new batch of noise\n",
    "        noise = np.random.uniform(-1, 1, (batch_size, LATENT_SIZE))\n",
    "\n",
    "        # get a batch of real images\n",
    "        image_batch = X_train[index * batch_size:(index + 1) * batch_size]\n",
    "        label_batch = y_train[index * batch_size:(index + 1) * batch_size]\n",
    "\n",
    "        # sample some labels from p_c\n",
    "        sampled_labels = np.random.randint(0, 10, batch_size)\n",
    "\n",
    "        # generate a batch of fake images, using the generated labels as a\n",
    "        # conditioner. We reshape the sampled labels to be\n",
    "        # (batch_size, 1) so that we can feed them into the embedding\n",
    "        # layer as a length one sequence\n",
    "        generated_images = generator.predict(\n",
    "            [noise, sampled_labels.reshape((-1, 1))], verbose=0)\n",
    "\n",
    "        X = np.concatenate((image_batch, generated_images))\n",
    "        y = np.array([1] * batch_size + [0] * batch_size)\n",
    "        aux_y = np.concatenate((label_batch, sampled_labels), axis=0)\n",
    "\n",
    "        # see if the discriminator can figure itself out...\n",
    "        epoch_disc_loss.append(\n",
    "            discriminator.train_on_batch(X, [y, aux_y]))\n",
    "\n",
    "        # make new noise. we generate 2 * batch size here such that we have\n",
    "        # the generator optimize over an identical number of images as the\n",
    "        # discriminator\n",
    "        noise = np.random.uniform(-1, 1, (2 * batch_size, LATENT_SIZE))\n",
    "        sampled_labels = np.random.randint(0, 10, 2 * batch_size)\n",
    "\n",
    "        # we want to train the generator to trick the discriminator\n",
    "        # For the generator, we want all the {fake, not-fake} labels to say\n",
    "        # not-fake\n",
    "        trick = np.ones(2 * batch_size)\n",
    "\n",
    "        epoch_gen_loss.append(combined.train_on_batch(\n",
    "            [noise, sampled_labels.reshape((-1, 1))],\n",
    "            [trick, sampled_labels]))\n",
    "\n",
    "    print('\\nTesting for epoch {}:'.format(epoch + 1))\n",
    "\n",
    "    # evaluate the testing loss here\n",
    "\n",
    "    # generate a new batch of noise\n",
    "    noise = np.random.uniform(-1, 1, (num_test, LATENT_SIZE))\n",
    "\n",
    "    # sample some labels from p_c and generate images from them\n",
    "    sampled_labels = np.random.randint(0, 10, num_test)\n",
    "    generated_images = generator.predict(\n",
    "        [noise, sampled_labels.reshape((-1, 1))], verbose=False)\n",
    "\n",
    "    X = np.concatenate((X_test, generated_images))\n",
    "    y = np.array([1] * num_test + [0] * num_test)\n",
    "    aux_y = np.concatenate((y_test, sampled_labels), axis=0)\n",
    "\n",
    "    # see if the discriminator can figure itself out...\n",
    "    discriminator_test_loss = discriminator.evaluate(\n",
    "        X, [y, aux_y], verbose=False)\n",
    "\n",
    "    discriminator_train_loss = np.mean(np.array(epoch_disc_loss), axis=0)\n",
    "\n",
    "    # make new noise\n",
    "    noise = np.random.uniform(-1, 1, (2 * num_test, LATENT_SIZE))\n",
    "    sampled_labels = np.random.randint(0, 10, 2 * num_test)\n",
    "\n",
    "    trick = np.ones(2 * num_test)\n",
    "\n",
    "    generator_test_loss = combined.evaluate(\n",
    "        [noise, sampled_labels.reshape((-1, 1))],\n",
    "        [trick, sampled_labels], verbose=False)\n",
    "\n",
    "    generator_train_loss = np.mean(np.array(epoch_gen_loss), axis=0)\n",
    "\n",
    "    # generate an epoch report on performance\n",
    "    train_history['generator'].append(generator_train_loss)\n",
    "    train_history['discriminator'].append(discriminator_train_loss)\n",
    "\n",
    "    test_history['generator'].append(generator_test_loss)\n",
    "    test_history['discriminator'].append(discriminator_test_loss)\n",
    "\n",
    "    print('{0:<22s} | {1:4s} | {2:15s} | {3:5s}'.format(\n",
    "        'component', *discriminator.metrics_names))\n",
    "    print('-' * 65)\n",
    "\n",
    "    ROW_FMT = '{0:<22s} | {1:<4.2f} | {2:<15.2f} | {3:<5.2f}'\n",
    "    print(ROW_FMT.format('generator (train)',\n",
    "                         *train_history['generator'][-1]))\n",
    "    print(ROW_FMT.format('generator (test)',\n",
    "                         *test_history['generator'][-1]))\n",
    "    print(ROW_FMT.format('discriminator (train)',\n",
    "                         *train_history['discriminator'][-1]))\n",
    "    print(ROW_FMT.format('discriminator (test)',\n",
    "                             *test_history['discriminator'][-1]))\n",
    "\n",
    "    # save weights every epoch\n",
    "    generator.save_weights(\n",
    "        'params_generator_epoch_{0:03d}.hdf5'.format(epoch), True)\n",
    "    discriminator.save_weights(\n",
    "        'params_discriminator_epoch_{0:03d}.hdf5'.format(epoch), True)\n",
    "\n",
    "    # generate some digits to display\n",
    "    noise = np.random.uniform(-1, 1, (100, LATENT_SIZE))\n",
    "\n",
    "    sampled_labels = np.array([\n",
    "        [i] * 10 for i in range(10)\n",
    "    ]).reshape(-1, 1)\n",
    "\n",
    "    # get a batch to display\n",
    "    generated_images = generator.predict(\n",
    "        [noise, sampled_labels], verbose=0)\n",
    "\n",
    "    # arrange them into a grid\n",
    "    img = (np.concatenate([r.reshape(-1, 28)\n",
    "                           for r in np.split(generated_images, 10)\n",
    "                           ], axis=-1) * 127.5 + 127.5).astype(np.uint8)"
   ]
  },
  {
   "cell_type": "code",
   "execution_count": 39,
   "metadata": {
    "collapsed": true
   },
   "outputs": [],
   "source": [
    "combined.save_weights('combined.hd5')"
   ]
  },
  {
   "cell_type": "code",
   "execution_count": 18,
   "metadata": {
    "collapsed": true
   },
   "outputs": [],
   "source": [
    "combined.load_weights('combined.hd5')"
   ]
  },
  {
   "cell_type": "code",
   "execution_count": 33,
   "metadata": {},
   "outputs": [],
   "source": [
    "noise = np.random.uniform(-1, 1, (100, LATENT_SIZE))\n",
    "\n",
    "sampled_labels = np.array([[8] * 10 for i in range(10)]).reshape(-1, 1)\n",
    "\n",
    "generated_images = generator.predict(\n",
    "        [noise, sampled_labels], verbose=0)"
   ]
  },
  {
   "cell_type": "code",
   "execution_count": 34,
   "metadata": {},
   "outputs": [
    {
     "data": {
      "text/plain": [
       "<matplotlib.image.AxesImage at 0x11f14b080>"
      ]
     },
     "execution_count": 34,
     "metadata": {},
     "output_type": "execute_result"
    },
    {
     "data": {
      "image/png": "[encoded data removed]",
      "text/plain": [
       "<matplotlib.figure.Figure at 0x123195630>"
      ]
     },
     "metadata": {},
     "output_type": "display_data"
    }
   ],
   "source": [
    "plt.imshow(generated_images[20,0,:,:], cmap='gray')"
   ]
  },
  {
   "cell_type": "code",
   "execution_count": 35,
   "metadata": {},
   "outputs": [
    {
     "data": {
      "image/png": "[encoded data removed]",
      "text/plain": [
       "<matplotlib.figure.Figure at 0x11fc5cc88>"
      ]
     },
     "metadata": {},
     "output_type": "display_data"
    }
   ],
   "source": [
    "fig = plt.figure(figsize=(20, 10))\n",
    "sample = np.random.choice(len(generated_images), 7)\n",
    "for i, img in enumerate(generated_images[sample], 1):\n",
    "    subplot = fig.add_subplot(1, 7, i)\n",
    "    plt.imshow(img[0,:,:], cmap='gray');\n",
    "    subplot.set_title('%s' % sampled_labels[sample][i - 1]);"
   ]
  }
 ],
 "metadata": {
  "kernelspec": {
   "display_name": "Python 3",
   "language": "python",
   "name": "python3"
  },
  "language_info": {
   "codemirror_mode": {
    "name": "ipython",
    "version": 3
   },
   "file_extension": ".py",
   "mimetype": "text/x-python",
   "name": "python",
   "nbconvert_exporter": "python",
   "pygments_lexer": "ipython3",
   "version": "3.5.2"
  },
  "widgets": {
   "state": {},
   "version": "1.1.2"
  }
 },
 "nbformat": 4,
 "nbformat_minor": 2
}
