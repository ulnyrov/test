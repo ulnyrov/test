{
 "cells": [
  {
   "cell_type": "markdown",
   "metadata": {},
   "source": [
    "# Tensorflow"
   ]
  },
  {
   "cell_type": "code",
   "execution_count": 2,
   "metadata": {
    "collapsed": true
   },
   "outputs": [],
   "source": [
    "import numpy as np\n",
    "import tensorflow as tf"
   ]
  },
  {
   "cell_type": "code",
   "execution_count": 25,
   "metadata": {},
   "outputs": [
    {
     "data": {
      "text/plain": [
       "tensorflow.contrib.keras.python.keras.layers.wrappers.Wrapper"
      ]
     },
     "execution_count": 25,
     "metadata": {},
     "output_type": "execute_result"
    }
   ],
   "source": [
    "tf.contrib.keras.layers.Wrapper"
   ]
  },
  {
   "cell_type": "markdown",
   "metadata": {},
   "source": [
    "https://www.tensorflow.org/programmers_guide"
   ]
  },
  {
   "cell_type": "markdown",
   "metadata": {},
   "source": [
    "<img src=\"tensors_flowing.gif\"/>"
   ]
  },
  {
   "cell_type": "markdown",
   "metadata": {},
   "source": [
    "## Пример: линейная регрессия"
   ]
  },
  {
   "cell_type": "code",
   "execution_count": 3,
   "metadata": {
    "collapsed": true
   },
   "outputs": [],
   "source": [
    "# подбираем коэффициенты квадратного уравнения: y = w1 * x^2 + w2 * x + w3"
   ]
  },
  {
   "cell_type": "markdown",
   "metadata": {},
   "source": [
    "### Входные переменные и параметры модели"
   ]
  },
  {
   "cell_type": "code",
   "execution_count": 3,
   "metadata": {},
   "outputs": [],
   "source": [
    "# tf.placeholder позволяет передавать данные из python в Tensorflow\n",
    "# с помощью tf.placeholder мы передаем данные для обуения\n",
    "x = tf.placeholder(tf.float32, shape=[None], name='x')\n",
    "y = tf.placeholder(tf.float32, shape=[None], name='y')"
   ]
  },
  {
   "cell_type": "code",
   "execution_count": 12,
   "metadata": {},
   "outputs": [],
   "source": [
    "# инициализируем переменную w\n",
    "# повторная инициализация приводит к ошибке ??\n",
    "\n",
    "with tf.variable_scope('myscope', reuse=True) as scope:\n",
    "    w = tf.get_variable('w', shape=[3, 1],\n",
    "           initializer=tf.constant_initializer([3, 3, 3]))"
   ]
  },
  {
   "cell_type": "code",
   "execution_count": 13,
   "metadata": {},
   "outputs": [
    {
     "data": {
      "text/plain": [
       "'myscope/w:0'"
      ]
     },
     "execution_count": 13,
     "metadata": {},
     "output_type": "execute_result"
    }
   ],
   "source": [
    "w.name"
   ]
  },
  {
   "cell_type": "markdown",
   "metadata": {},
   "source": [
    "### Модель и функция потерь"
   ]
  },
  {
   "cell_type": "code",
   "execution_count": 15,
   "metadata": {
    "collapsed": true
   },
   "outputs": [],
   "source": [
    "# задаем модель с помощю операций\n",
    "f = tf.stack([tf.square(x), x, tf.ones_like(x)], 1)\n",
    "yhat = tf.squeeze(tf.matmul(f, w), 1)"
   ]
  },
  {
   "cell_type": "code",
   "execution_count": 16,
   "metadata": {},
   "outputs": [],
   "source": [
    "# задаем квадратичную функцию потерь\n",
    "loss = tf.nn.l2_loss(yhat - y) + 0.1 * tf.nn.l2_loss(w)"
   ]
  },
  {
   "cell_type": "code",
   "execution_count": 17,
   "metadata": {
    "collapsed": true
   },
   "outputs": [],
   "source": [
    "# инициализируем оптимизатор для подбора параметров модели\n",
    "train_op = tf.train.AdamOptimizer(learning_rate=0.1).minimize(loss)"
   ]
  },
  {
   "cell_type": "markdown",
   "metadata": {},
   "source": [
    "### Обучение"
   ]
  },
  {
   "cell_type": "code",
   "execution_count": 19,
   "metadata": {
    "collapsed": true
   },
   "outputs": [],
   "source": [
    "# генератор данных\n",
    "def generate_data(batch_size=100):\n",
    "    x_val = np.random.uniform(-10.0, 10.0, size=batch_size)\n",
    "    y_val = 5 * np.square(x_val) + 3 + np.random.normal()\n",
    "    return x_val, y_val"
   ]
  },
  {
   "cell_type": "code",
   "execution_count": 21,
   "metadata": {},
   "outputs": [
    {
     "name": "stdout",
     "output_type": "stream",
     "text": [
      "000\t463011.0\n",
      "010\t92006.1\n",
      "020\t11645.2\n",
      "030\t3159.95\n",
      "040\t5624.95\n",
      "050\t1390.37\n",
      "060\t296.53\n",
      "070\t253.016\n",
      "080\t92.176\n",
      "090\t19.4112\n",
      "weights: [array([[ 4.97696018],\n",
      "       [ 0.01035474],\n",
      "       [ 4.73525286]], dtype=float32)]\n"
     ]
    }
   ],
   "source": [
    "loss_vals = []\n",
    "\n",
    "# инициализируем сессию\n",
    "with tf.Session() as sess:\n",
    "    # инициализируем переменные (параметры модели)\n",
    "    sess.run(tf.global_variables_initializer())\n",
    "    # запускаем обучение\n",
    "    for i in range(100):\n",
    "        # генерируем случайный набор данных\n",
    "        x_val, y_val = generate_data(batch_size=100)\n",
    "        # выполняем операции на заланном семпле\n",
    "        _, loss_val = sess.run([train_op, loss],\n",
    "                               {x: x_val, y: y_val})\n",
    "        loss_vals.append(loss_val)\n",
    "        if i % 10 == 0:\n",
    "            print('%03d\\t%s' % (i, loss_val))\n",
    "    print('weights: %s' % sess.run([w])) # выводим веса"
   ]
  },
  {
   "cell_type": "code",
   "execution_count": 22,
   "metadata": {},
   "outputs": [
    {
     "data": {
      "text/plain": [
       "<matplotlib.text.Text at 0x115f39cf8>"
      ]
     },
     "execution_count": 22,
     "metadata": {},
     "output_type": "execute_result"
    },
    {
     "data": {
      "image/png": "[encoded data removed]",
      "text/plain": [
       "<matplotlib.figure.Figure at 0x115e7be80>"
      ]
     },
     "metadata": {},
     "output_type": "display_data"
    }
   ],
   "source": [
    "%matplotlib inline\n",
    "from matplotlib import pyplot as plt\n",
    "plt.plot(loss_vals)\n",
    "plt.title('Loss')\n",
    "plt.xlabel('iteration')\n",
    "plt.ylabel('mse')"
   ]
  },
  {
   "cell_type": "markdown",
   "metadata": {
    "collapsed": true
   },
   "source": [
    "## Визуализация графа"
   ]
  },
  {
   "cell_type": "code",
   "execution_count": 23,
   "metadata": {
    "collapsed": true
   },
   "outputs": [],
   "source": [
    "with tf.Session() as sess:\n",
    "    writer = tf.summary.FileWriter('log/001', sess.graph)\n",
    "    writer.close()"
   ]
  },
  {
   "cell_type": "code",
   "execution_count": null,
   "metadata": {
    "collapsed": true
   },
   "outputs": [],
   "source": [
    "!ls ./log/001/events.out.tfevents.1511464295.vmurashkin-osx2.local"
   ]
  }
 ],
 "metadata": {
  "kernelspec": {
   "display_name": "Python 3",
   "language": "python",
   "name": "python3"
  },
  "language_info": {
   "codemirror_mode": {
    "name": "ipython",
    "version": 3
   },
   "file_extension": ".py",
   "mimetype": "text/x-python",
   "name": "python",
   "nbconvert_exporter": "python",
   "pygments_lexer": "ipython3",
   "version": "3.6.4"
  }
 },
 "nbformat": 4,
 "nbformat_minor": 2
}
