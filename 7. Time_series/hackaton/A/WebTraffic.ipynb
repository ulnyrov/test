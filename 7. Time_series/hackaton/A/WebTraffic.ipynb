{
 "cells": [
  {
   "cell_type": "markdown",
   "metadata": {},
   "source": [
    "# Команда \"А\"\n",
    "\n",
    "- Артём Иванов\n",
    "- Сергей Булаев\n",
    "- Александр Хорин"
   ]
  },
  {
   "cell_type": "code",
   "execution_count": 2,
   "metadata": {
    "collapsed": true
   },
   "outputs": [],
   "source": [
    "import pandas as pd\n",
    "import numpy as np\n",
    "import matplotlib.pyplot as plt\n",
    "import re\n",
    "%matplotlib inline"
   ]
  },
  {
   "cell_type": "code",
   "execution_count": 3,
   "metadata": {
    "collapsed": true
   },
   "outputs": [
    {
     "data": {
      "text/plain": [
       "[0.08455284552845528,\n",
       " 0.05203252032520325,\n",
       " 0.05040650406504065,\n",
       " 0.03902439024390244,\n",
       " 0.03577235772357724,\n",
       " 0.03577235772357724,\n",
       " 0.032520325203252036,\n",
       " 0.032520325203252036,\n",
       " 0.032520325203252036,\n",
       " 0.032520325203252036,\n",
       " 0.030894308943089432,\n",
       " 0.02926829268292683,\n",
       " 0.02926829268292683,\n",
       " 0.027642276422764227,\n",
       " 0.026016260162601626,\n",
       " 0.026016260162601626,\n",
       " 0.022764227642276424,\n",
       " 0.022764227642276424,\n",
       " 0.02113821138211382,\n",
       " 0.02113821138211382,\n",
       " 0.02113821138211382,\n",
       " 0.01951219512195122,\n",
       " 0.01951219512195122,\n",
       " 0.01788617886178862,\n",
       " 0.016260162601626018,\n",
       " 0.016260162601626018,\n",
       " 0.013008130081300813,\n",
       " 0.013008130081300813,\n",
       " 0.013008130081300813,\n",
       " 0.011382113821138212,\n",
       " 0.011382113821138212,\n",
       " 0.00975609756097561,\n",
       " 0.00975609756097561,\n",
       " 0.00975609756097561,\n",
       " 0.00975609756097561,\n",
       " 0.008130081300813009,\n",
       " 0.008130081300813009,\n",
       " 0.0065040650406504065,\n",
       " 0.0065040650406504065,\n",
       " 0.0065040650406504065,\n",
       " 0.0065040650406504065,\n",
       " 0.004878048780487805,\n",
       " 0.004878048780487805,\n",
       " 0.004878048780487805,\n",
       " 0.004878048780487805,\n",
       " 0.004878048780487805,\n",
       " 0.004878048780487805,\n",
       " 0.004878048780487805,\n",
       " 0.004878048780487805,\n",
       " 0.004878048780487805,\n",
       " 0.004878048780487805,\n",
       " 0.0032520325203252032,\n",
       " 0.0032520325203252032,\n",
       " 0.0032520325203252032,\n",
       " 0.0016260162601626016,\n",
       " 0.0016260162601626016]"
      ]
     },
     "execution_count": 3,
     "metadata": {},
     "output_type": "execute_result"
    }
   ],
   "source": [
    "from scipy import stats\n",
    "\n",
    "d = stats.expon(0.1)\n",
    "\n",
    "a = []\n",
    "\n",
    "for i in range(56):\n",
    "    a.append(d.rvs())\n",
    "\n",
    "a.sort()\n",
    "\n",
    "a = [1/x for x in a]\n",
    "a = [x/a[-1] for x in a]\n",
    "a = [int(x) for x in a]\n",
    "summ = np.sum(a)\n",
    "a = [x/summ for x in a]\n",
    "\n",
    "a"
   ]
  },
  {
   "cell_type": "code",
   "execution_count": 4,
   "metadata": {
    "collapsed": true
   },
   "outputs": [],
   "source": [
    "weights = np.array(a)"
   ]
  },
  {
   "cell_type": "code",
   "execution_count": 5,
   "metadata": {
    "collapsed": true
   },
   "outputs": [],
   "source": [
    "ss = pd.read_csv('./data/sample_submission_2.csv')"
   ]
  },
  {
   "cell_type": "code",
   "execution_count": 6,
   "metadata": {
    "collapsed": true
   },
   "outputs": [],
   "source": [
    "train = pd.read_csv('./data/train_2.csv')"
   ]
  },
  {
   "cell_type": "code",
   "execution_count": 7,
   "metadata": {
    "collapsed": true
   },
   "outputs": [],
   "source": [
    "keys = pd.read_csv('./data/key_2.csv')"
   ]
  },
  {
   "cell_type": "code",
   "execution_count": 21,
   "metadata": {
    "collapsed": true
   },
   "outputs": [],
   "source": [
    "ids = keys.Id.values\n",
    "pages = keys.Page.values\n",
    "d_pages = {}\n",
    "dates = {}\n",
    "for id, page in zip(ids, pages):\n",
    "    date = page[-10:]\n",
    "    dates[date] = True\n",
    "    d_pages[id] = (page[:-11], page[-10:])"
   ]
  },
  {
   "cell_type": "code",
   "execution_count": 44,
   "metadata": {
    "collapsed": true
   },
   "outputs": [],
   "source": [
    "dates_indexes = {x: i for i, x in enumerate(dates.keys())}"
   ]
  },
  {
   "cell_type": "code",
   "execution_count": 40,
   "metadata": {
    "scrolled": true
   },
   "outputs": [
    {
     "data": {
      "text/plain": [
       "62"
      ]
     },
     "execution_count": 40,
     "metadata": {},
     "output_type": "execute_result"
    }
   ],
   "source": [
    "len(dates.keys())"
   ]
  },
  {
   "cell_type": "code",
   "execution_count": 7,
   "metadata": {
    "scrolled": false
   },
   "outputs": [
    {
     "data": {
      "text/plain": [
       "array(['0b293039387a', '7114389dd824', '057b02ff1f09', 'bd2aca21caa3',\n",
       "       'c0effb42cdd5'], dtype=object)"
      ]
     },
     "execution_count": 7,
     "metadata": {},
     "output_type": "execute_result"
    }
   ],
   "source": [
    "ids[:5]"
   ]
  },
  {
   "cell_type": "code",
   "execution_count": 8,
   "metadata": {},
   "outputs": [
    {
     "data": {
      "text/plain": [
       "array(['007_スペクター_ja.wikipedia.org_all-access_all-agents_2017-09-13',\n",
       "       '007_スペクター_ja.wikipedia.org_all-access_all-agents_2017-09-14',\n",
       "       '007_スペクター_ja.wikipedia.org_all-access_all-agents_2017-09-15',\n",
       "       '007_スペクター_ja.wikipedia.org_all-access_all-agents_2017-09-16',\n",
       "       '007_スペクター_ja.wikipedia.org_all-access_all-agents_2017-09-17'],\n",
       "      dtype=object)"
      ]
     },
     "execution_count": 8,
     "metadata": {},
     "output_type": "execute_result"
    }
   ],
   "source": [
    "pages[:5]"
   ]
  },
  {
   "cell_type": "code",
   "execution_count": 9,
   "metadata": {
    "scrolled": true
   },
   "outputs": [
    {
     "data": {
      "text/plain": [
       "('007_スペクター_ja.wikipedia.org_all-access_all-agents', '2017-09-13')"
      ]
     },
     "execution_count": 9,
     "metadata": {},
     "output_type": "execute_result"
    }
   ],
   "source": [
    "d_pages[ids[0]]"
   ]
  },
  {
   "cell_type": "markdown",
   "metadata": {},
   "source": [
    "# Медианы за всё время"
   ]
  },
  {
   "cell_type": "code",
   "execution_count": 8,
   "metadata": {
    "collapsed": true
   },
   "outputs": [],
   "source": [
    "medians = train.drop('Page', axis=1).apply(np.nanmedian, axis=1)\n",
    "medians = np.round(medians)"
   ]
  },
  {
   "cell_type": "code",
   "execution_count": 84,
   "metadata": {},
   "outputs": [
    {
     "data": {
      "text/plain": [
       "19440903.0"
      ]
     },
     "execution_count": 84,
     "metadata": {},
     "output_type": "execute_result"
    }
   ],
   "source": [
    "np.max(medians)"
   ]
  },
  {
   "cell_type": "markdown",
   "metadata": {},
   "source": [
    "# Медианы по дням недели"
   ]
  },
  {
   "cell_type": "code",
   "execution_count": 9,
   "metadata": {
    "scrolled": false
   },
   "outputs": [
    {
     "name": "stderr",
     "output_type": "stream",
     "text": [
      "/usr/local/anaconda3/lib/python3.6/site-packages/numpy/lib/function_base.py:4033: RuntimeWarning: All-NaN slice encountered\n",
      "  r = func(a, **kwargs)\n"
     ]
    }
   ],
   "source": [
    "def week_medians(row):\n",
    "    page = list(row)[5:]\n",
    "    days = []\n",
    "    for day in range(0, 7):\n",
    "        days.append(np.round(np.nanmedian(page[day::7])))\n",
    "    return days"
   ]
  },
  {
   "cell_type": "code",
   "execution_count": null,
   "metadata": {
    "collapsed": true
   },
   "outputs": [],
   "source": [
    "week_medians = train.apply(week_medians, axis=1)"
   ]
  },
  {
   "cell_type": "code",
   "execution_count": 31,
   "metadata": {},
   "outputs": [
    {
     "data": {
      "text/plain": [
       "0    [18.0, 17.0, 18.0, 19.0, 18.0, 19.0, 15.0]\n",
       "1    [19.0, 19.0, 18.0, 19.0, 19.0, 21.0, 19.0]\n",
       "2           [4.0, 4.0, 4.0, 4.0, 4.0, 3.0, 3.0]\n",
       "3    [13.0, 14.0, 13.0, 15.0, 14.0, 14.0, 14.0]\n",
       "4     [10.0, 10.0, 10.0, 10.0, 9.0, 12.0, 12.0]\n",
       "dtype: object"
      ]
     },
     "execution_count": 31,
     "metadata": {},
     "output_type": "execute_result"
    }
   ],
   "source": [
    "week_medians.head()"
   ]
  },
  {
   "cell_type": "code",
   "execution_count": 10,
   "metadata": {},
   "outputs": [
    {
     "data": {
      "text/plain": [
       "56"
      ]
     },
     "execution_count": 10,
     "metadata": {},
     "output_type": "execute_result"
    }
   ],
   "source": [
    "weights.size"
   ]
  },
  {
   "cell_type": "markdown",
   "metadata": {},
   "source": [
    "# Moving Average"
   ]
  },
  {
   "cell_type": "code",
   "execution_count": 15,
   "metadata": {
    "collapsed": true
   },
   "outputs": [],
   "source": [
    "def weighted_moving_average(row):\n",
    "    num = 70\n",
    "    wnum = 56\n",
    "    pred = list(row.values)\n",
    "    for i in range(0, num):\n",
    "        pred_item = np.dot(pred[-wnum:], weights)\n",
    "        pred.append(pred_item)\n",
    "    return pred[-num:]\n",
    "\n",
    "# pred = weighted_moving_average(page)\n",
    "# np.dot(page[-weights.size:], weights)"
   ]
  },
  {
   "cell_type": "code",
   "execution_count": 73,
   "metadata": {
    "collapsed": true
   },
   "outputs": [],
   "source": [
    "moving_averages = train.fillna(medians).apply(weighted_moving_average, axis=1)"
   ]
  },
  {
   "cell_type": "code",
   "execution_count": 74,
   "metadata": {
    "collapsed": true
   },
   "outputs": [
    {
     "data": {
      "text/plain": [
       "0     [24.65528455284553, 24.103504527728205, 22.245...\n",
       "1     [19.31219512195122, 19.668800317271465, 19.678...\n",
       "2     [4.385365853658536, 4.446155066428713, 4.69078...\n",
       "3     [14.674796747967479, 14.241747636988565, 14.46...\n",
       "4     [17.40650406504065, 18.39578293343909, 18.9915...\n",
       "5     [17.278048780487804, 17.46061471346421, 17.849...\n",
       "6     [9.009756097560974, 9.539853261947254, 9.51471...\n",
       "7     [50.213008130081306, 52.016606517284686, 52.70...\n",
       "8     [37.96422764227643, 38.967421508361426, 39.809...\n",
       "9     [27.398373983739837, 28.329103047128033, 25.98...\n",
       "10    [24.730081300813012, 24.46134972569238, 24.426...\n",
       "11    [11.611382113821138, 11.853026637583449, 11.18...\n",
       "12    [5.978861788617886, 6.12354286469694, 6.058703...\n",
       "13    [23.08130081300813, 23.504197237094324, 22.622...\n",
       "14    [43.822764227642274, 40.8110939255734, 40.9376...\n",
       "15    [34.489430894308946, 32.65282834291758, 30.575...\n",
       "16    [29.565853658536582, 29.805798136030138, 30.66...\n",
       "17    [11.520325203252032, 10.83174036618415, 10.405...\n",
       "18    [16.304065040650407, 16.065535065106747, 16.01...\n",
       "19    [9.154471544715449, 9.327080441536124, 9.27720...\n",
       "dtype: object"
      ]
     },
     "execution_count": 74,
     "metadata": {},
     "output_type": "execute_result"
    }
   ],
   "source": [
    "moving_averages.head(20)"
   ]
  },
  {
   "cell_type": "code",
   "execution_count": 75,
   "metadata": {
    "collapsed": true
   },
   "outputs": [],
   "source": [
    "page_predictions = {}\n",
    "for page, m, wm, ma in zip(train.Page.values, medians, week_medians, moving_averages):\n",
    "    xs1 = [m] * 62\n",
    "    xs2 = (wm * 10)[2:65]\n",
    "    xs3 = ma[:63]\n",
    "    page_predictions[page] = list(map(np.average, zip(xs1, xs2, xs3)))"
   ]
  },
  {
   "cell_type": "code",
   "execution_count": 76,
   "metadata": {
    "collapsed": true
   },
   "outputs": [],
   "source": [
    "df = pd.DataFrame.from_dict(page_predictions).T"
   ]
  },
  {
   "cell_type": "code",
   "execution_count": 77,
   "metadata": {
    "collapsed": true
   },
   "outputs": [
    {
     "data": {
      "text/html": [
       "<div>\n",
       "<style scoped>\n",
       "    .dataframe tbody tr th:only-of-type {\n",
       "        vertical-align: middle;\n",
       "    }\n",
       "\n",
       "    .dataframe tbody tr th {\n",
       "        vertical-align: top;\n",
       "    }\n",
       "\n",
       "    .dataframe thead th {\n",
       "        text-align: right;\n",
       "    }\n",
       "</style>\n",
       "<table border=\"1\" class=\"dataframe\">\n",
       "  <thead>\n",
       "    <tr style=\"text-align: right;\">\n",
       "      <th></th>\n",
       "      <th>0</th>\n",
       "      <th>1</th>\n",
       "      <th>2</th>\n",
       "      <th>3</th>\n",
       "      <th>4</th>\n",
       "      <th>5</th>\n",
       "      <th>6</th>\n",
       "      <th>7</th>\n",
       "      <th>8</th>\n",
       "      <th>9</th>\n",
       "      <th>...</th>\n",
       "      <th>52</th>\n",
       "      <th>53</th>\n",
       "      <th>54</th>\n",
       "      <th>55</th>\n",
       "      <th>56</th>\n",
       "      <th>57</th>\n",
       "      <th>58</th>\n",
       "      <th>59</th>\n",
       "      <th>60</th>\n",
       "      <th>61</th>\n",
       "    </tr>\n",
       "  </thead>\n",
       "  <tbody>\n",
       "    <tr>\n",
       "      <th>!vote_en.wikipedia.org_all-access_all-agents</th>\n",
       "      <td>6.400000</td>\n",
       "      <td>6.403902</td>\n",
       "      <td>6.159573</td>\n",
       "      <td>6.267258</td>\n",
       "      <td>6.191926</td>\n",
       "      <td>6.264585</td>\n",
       "      <td>6.514338</td>\n",
       "      <td>6.081997</td>\n",
       "      <td>6.036208</td>\n",
       "      <td>6.469516</td>\n",
       "      <td>...</td>\n",
       "      <td>6.045916</td>\n",
       "      <td>5.925722</td>\n",
       "      <td>5.776878</td>\n",
       "      <td>6.249854</td>\n",
       "      <td>6.010450</td>\n",
       "      <td>5.987848</td>\n",
       "      <td>6.281604</td>\n",
       "      <td>6.295643</td>\n",
       "      <td>5.974740</td>\n",
       "      <td>5.965615</td>\n",
       "    </tr>\n",
       "    <tr>\n",
       "      <th>!vote_en.wikipedia.org_all-access_spider</th>\n",
       "      <td>1.573984</td>\n",
       "      <td>1.582505</td>\n",
       "      <td>1.168276</td>\n",
       "      <td>1.183033</td>\n",
       "      <td>1.217340</td>\n",
       "      <td>1.288428</td>\n",
       "      <td>1.599071</td>\n",
       "      <td>1.248500</td>\n",
       "      <td>1.178644</td>\n",
       "      <td>1.149312</td>\n",
       "      <td>...</td>\n",
       "      <td>1.307414</td>\n",
       "      <td>1.300531</td>\n",
       "      <td>1.302904</td>\n",
       "      <td>1.617893</td>\n",
       "      <td>1.348094</td>\n",
       "      <td>1.335509</td>\n",
       "      <td>1.308720</td>\n",
       "      <td>1.318513</td>\n",
       "      <td>1.327417</td>\n",
       "      <td>1.335781</td>\n",
       "    </tr>\n",
       "    <tr>\n",
       "      <th>!vote_en.wikipedia.org_desktop_all-agents</th>\n",
       "      <td>4.107859</td>\n",
       "      <td>4.126463</td>\n",
       "      <td>3.654040</td>\n",
       "      <td>3.681295</td>\n",
       "      <td>3.833286</td>\n",
       "      <td>3.906165</td>\n",
       "      <td>3.834125</td>\n",
       "      <td>3.833247</td>\n",
       "      <td>3.849605</td>\n",
       "      <td>3.933126</td>\n",
       "      <td>...</td>\n",
       "      <td>3.723600</td>\n",
       "      <td>3.849292</td>\n",
       "      <td>3.724926</td>\n",
       "      <td>3.772109</td>\n",
       "      <td>3.850049</td>\n",
       "      <td>3.834877</td>\n",
       "      <td>3.804725</td>\n",
       "      <td>3.816557</td>\n",
       "      <td>3.830238</td>\n",
       "      <td>3.832581</td>\n",
       "    </tr>\n",
       "    <tr>\n",
       "      <th>\"Awaken,_My_Love!\"_en.wikipedia.org_all-access_all-agents</th>\n",
       "      <td>1863.330623</td>\n",
       "      <td>1834.101351</td>\n",
       "      <td>1825.598534</td>\n",
       "      <td>1790.037986</td>\n",
       "      <td>1757.511925</td>\n",
       "      <td>1821.582023</td>\n",
       "      <td>1848.720696</td>\n",
       "      <td>1829.880047</td>\n",
       "      <td>1812.416189</td>\n",
       "      <td>1806.059834</td>\n",
       "      <td>...</td>\n",
       "      <td>1731.517459</td>\n",
       "      <td>1706.123468</td>\n",
       "      <td>1777.459489</td>\n",
       "      <td>1812.930022</td>\n",
       "      <td>1810.773625</td>\n",
       "      <td>1790.657598</td>\n",
       "      <td>1783.962025</td>\n",
       "      <td>1753.681145</td>\n",
       "      <td>1722.835611</td>\n",
       "      <td>1786.829035</td>\n",
       "    </tr>\n",
       "    <tr>\n",
       "      <th>\"Awaken,_My_Love!\"_en.wikipedia.org_all-access_spider</th>\n",
       "      <td>23.983740</td>\n",
       "      <td>21.546857</td>\n",
       "      <td>22.152082</td>\n",
       "      <td>22.796748</td>\n",
       "      <td>21.745816</td>\n",
       "      <td>24.070853</td>\n",
       "      <td>24.538904</td>\n",
       "      <td>23.702858</td>\n",
       "      <td>21.290813</td>\n",
       "      <td>21.970964</td>\n",
       "      <td>...</td>\n",
       "      <td>22.804153</td>\n",
       "      <td>22.297835</td>\n",
       "      <td>24.023360</td>\n",
       "      <td>24.340642</td>\n",
       "      <td>23.743595</td>\n",
       "      <td>21.396038</td>\n",
       "      <td>22.375979</td>\n",
       "      <td>22.738594</td>\n",
       "      <td>22.062615</td>\n",
       "      <td>24.095005</td>\n",
       "    </tr>\n",
       "    <tr>\n",
       "      <th>\"Awaken,_My_Love!\"_en.wikipedia.org_desktop_all-agents</th>\n",
       "      <td>1037.170732</td>\n",
       "      <td>1021.082662</td>\n",
       "      <td>1023.802580</td>\n",
       "      <td>992.286547</td>\n",
       "      <td>934.137554</td>\n",
       "      <td>982.662118</td>\n",
       "      <td>1021.480199</td>\n",
       "      <td>1019.739874</td>\n",
       "      <td>1009.861616</td>\n",
       "      <td>1013.390551</td>\n",
       "      <td>...</td>\n",
       "      <td>964.666987</td>\n",
       "      <td>909.947846</td>\n",
       "      <td>961.139272</td>\n",
       "      <td>1004.553683</td>\n",
       "      <td>1009.294501</td>\n",
       "      <td>997.471124</td>\n",
       "      <td>1002.295861</td>\n",
       "      <td>974.559703</td>\n",
       "      <td>917.804051</td>\n",
       "      <td>967.191721</td>\n",
       "    </tr>\n",
       "    <tr>\n",
       "      <th>\"European_Society_for_Clinical_Investigation\"_en.wikipedia.org_all-access_all-agents</th>\n",
       "      <td>NaN</td>\n",
       "      <td>NaN</td>\n",
       "      <td>NaN</td>\n",
       "      <td>NaN</td>\n",
       "      <td>NaN</td>\n",
       "      <td>NaN</td>\n",
       "      <td>NaN</td>\n",
       "      <td>NaN</td>\n",
       "      <td>NaN</td>\n",
       "      <td>NaN</td>\n",
       "      <td>...</td>\n",
       "      <td>NaN</td>\n",
       "      <td>NaN</td>\n",
       "      <td>NaN</td>\n",
       "      <td>NaN</td>\n",
       "      <td>NaN</td>\n",
       "      <td>NaN</td>\n",
       "      <td>NaN</td>\n",
       "      <td>NaN</td>\n",
       "      <td>NaN</td>\n",
       "      <td>NaN</td>\n",
       "    </tr>\n",
       "    <tr>\n",
       "      <th>\"European_Society_for_Clinical_Investigation\"_en.wikipedia.org_all-access_spider</th>\n",
       "      <td>NaN</td>\n",
       "      <td>NaN</td>\n",
       "      <td>NaN</td>\n",
       "      <td>NaN</td>\n",
       "      <td>NaN</td>\n",
       "      <td>NaN</td>\n",
       "      <td>NaN</td>\n",
       "      <td>NaN</td>\n",
       "      <td>NaN</td>\n",
       "      <td>NaN</td>\n",
       "      <td>...</td>\n",
       "      <td>NaN</td>\n",
       "      <td>NaN</td>\n",
       "      <td>NaN</td>\n",
       "      <td>NaN</td>\n",
       "      <td>NaN</td>\n",
       "      <td>NaN</td>\n",
       "      <td>NaN</td>\n",
       "      <td>NaN</td>\n",
       "      <td>NaN</td>\n",
       "      <td>NaN</td>\n",
       "    </tr>\n",
       "    <tr>\n",
       "      <th>\"European_Society_for_Clinical_Investigation\"_en.wikipedia.org_desktop_all-agents</th>\n",
       "      <td>NaN</td>\n",
       "      <td>NaN</td>\n",
       "      <td>NaN</td>\n",
       "      <td>NaN</td>\n",
       "      <td>NaN</td>\n",
       "      <td>NaN</td>\n",
       "      <td>NaN</td>\n",
       "      <td>NaN</td>\n",
       "      <td>NaN</td>\n",
       "      <td>NaN</td>\n",
       "      <td>...</td>\n",
       "      <td>NaN</td>\n",
       "      <td>NaN</td>\n",
       "      <td>NaN</td>\n",
       "      <td>NaN</td>\n",
       "      <td>NaN</td>\n",
       "      <td>NaN</td>\n",
       "      <td>NaN</td>\n",
       "      <td>NaN</td>\n",
       "      <td>NaN</td>\n",
       "      <td>NaN</td>\n",
       "    </tr>\n",
       "    <tr>\n",
       "      <th>\"Heroes\"_(David_Bowie_album)_en.wikipedia.org_all-access_all-agents</th>\n",
       "      <td>636.798374</td>\n",
       "      <td>625.717829</td>\n",
       "      <td>633.826314</td>\n",
       "      <td>626.394267</td>\n",
       "      <td>625.487674</td>\n",
       "      <td>630.319079</td>\n",
       "      <td>638.460291</td>\n",
       "      <td>634.113948</td>\n",
       "      <td>625.597296</td>\n",
       "      <td>633.899928</td>\n",
       "      <td>...</td>\n",
       "      <td>631.034420</td>\n",
       "      <td>627.736765</td>\n",
       "      <td>631.558379</td>\n",
       "      <td>639.040306</td>\n",
       "      <td>635.561797</td>\n",
       "      <td>626.739446</td>\n",
       "      <td>635.755840</td>\n",
       "      <td>628.862879</td>\n",
       "      <td>628.011633</td>\n",
       "      <td>632.513096</td>\n",
       "    </tr>\n",
       "  </tbody>\n",
       "</table>\n",
       "<p>10 rows × 62 columns</p>\n",
       "</div>"
      ],
      "text/plain": [
       "                                                             0            1   \\\n",
       "!vote_en.wikipedia.org_all-access_all-agents           6.400000     6.403902   \n",
       "!vote_en.wikipedia.org_all-access_spider               1.573984     1.582505   \n",
       "!vote_en.wikipedia.org_desktop_all-agents              4.107859     4.126463   \n",
       "\"Awaken,_My_Love!\"_en.wikipedia.org_all-access_...  1863.330623  1834.101351   \n",
       "\"Awaken,_My_Love!\"_en.wikipedia.org_all-access_...    23.983740    21.546857   \n",
       "\"Awaken,_My_Love!\"_en.wikipedia.org_desktop_all...  1037.170732  1021.082662   \n",
       "\"European_Society_for_Clinical_Investigation\"_e...          NaN          NaN   \n",
       "\"European_Society_for_Clinical_Investigation\"_e...          NaN          NaN   \n",
       "\"European_Society_for_Clinical_Investigation\"_e...          NaN          NaN   \n",
       "\"Heroes\"_(David_Bowie_album)_en.wikipedia.org_a...   636.798374   625.717829   \n",
       "\n",
       "                                                             2            3   \\\n",
       "!vote_en.wikipedia.org_all-access_all-agents           6.159573     6.267258   \n",
       "!vote_en.wikipedia.org_all-access_spider               1.168276     1.183033   \n",
       "!vote_en.wikipedia.org_desktop_all-agents              3.654040     3.681295   \n",
       "\"Awaken,_My_Love!\"_en.wikipedia.org_all-access_...  1825.598534  1790.037986   \n",
       "\"Awaken,_My_Love!\"_en.wikipedia.org_all-access_...    22.152082    22.796748   \n",
       "\"Awaken,_My_Love!\"_en.wikipedia.org_desktop_all...  1023.802580   992.286547   \n",
       "\"European_Society_for_Clinical_Investigation\"_e...          NaN          NaN   \n",
       "\"European_Society_for_Clinical_Investigation\"_e...          NaN          NaN   \n",
       "\"European_Society_for_Clinical_Investigation\"_e...          NaN          NaN   \n",
       "\"Heroes\"_(David_Bowie_album)_en.wikipedia.org_a...   633.826314   626.394267   \n",
       "\n",
       "                                                             4            5   \\\n",
       "!vote_en.wikipedia.org_all-access_all-agents           6.191926     6.264585   \n",
       "!vote_en.wikipedia.org_all-access_spider               1.217340     1.288428   \n",
       "!vote_en.wikipedia.org_desktop_all-agents              3.833286     3.906165   \n",
       "\"Awaken,_My_Love!\"_en.wikipedia.org_all-access_...  1757.511925  1821.582023   \n",
       "\"Awaken,_My_Love!\"_en.wikipedia.org_all-access_...    21.745816    24.070853   \n",
       "\"Awaken,_My_Love!\"_en.wikipedia.org_desktop_all...   934.137554   982.662118   \n",
       "\"European_Society_for_Clinical_Investigation\"_e...          NaN          NaN   \n",
       "\"European_Society_for_Clinical_Investigation\"_e...          NaN          NaN   \n",
       "\"European_Society_for_Clinical_Investigation\"_e...          NaN          NaN   \n",
       "\"Heroes\"_(David_Bowie_album)_en.wikipedia.org_a...   625.487674   630.319079   \n",
       "\n",
       "                                                             6            7   \\\n",
       "!vote_en.wikipedia.org_all-access_all-agents           6.514338     6.081997   \n",
       "!vote_en.wikipedia.org_all-access_spider               1.599071     1.248500   \n",
       "!vote_en.wikipedia.org_desktop_all-agents              3.834125     3.833247   \n",
       "\"Awaken,_My_Love!\"_en.wikipedia.org_all-access_...  1848.720696  1829.880047   \n",
       "\"Awaken,_My_Love!\"_en.wikipedia.org_all-access_...    24.538904    23.702858   \n",
       "\"Awaken,_My_Love!\"_en.wikipedia.org_desktop_all...  1021.480199  1019.739874   \n",
       "\"European_Society_for_Clinical_Investigation\"_e...          NaN          NaN   \n",
       "\"European_Society_for_Clinical_Investigation\"_e...          NaN          NaN   \n",
       "\"European_Society_for_Clinical_Investigation\"_e...          NaN          NaN   \n",
       "\"Heroes\"_(David_Bowie_album)_en.wikipedia.org_a...   638.460291   634.113948   \n",
       "\n",
       "                                                             8            9   \\\n",
       "!vote_en.wikipedia.org_all-access_all-agents           6.036208     6.469516   \n",
       "!vote_en.wikipedia.org_all-access_spider               1.178644     1.149312   \n",
       "!vote_en.wikipedia.org_desktop_all-agents              3.849605     3.933126   \n",
       "\"Awaken,_My_Love!\"_en.wikipedia.org_all-access_...  1812.416189  1806.059834   \n",
       "\"Awaken,_My_Love!\"_en.wikipedia.org_all-access_...    21.290813    21.970964   \n",
       "\"Awaken,_My_Love!\"_en.wikipedia.org_desktop_all...  1009.861616  1013.390551   \n",
       "\"European_Society_for_Clinical_Investigation\"_e...          NaN          NaN   \n",
       "\"European_Society_for_Clinical_Investigation\"_e...          NaN          NaN   \n",
       "\"European_Society_for_Clinical_Investigation\"_e...          NaN          NaN   \n",
       "\"Heroes\"_(David_Bowie_album)_en.wikipedia.org_a...   625.597296   633.899928   \n",
       "\n",
       "                                                       ...                52  \\\n",
       "!vote_en.wikipedia.org_all-access_all-agents           ...          6.045916   \n",
       "!vote_en.wikipedia.org_all-access_spider               ...          1.307414   \n",
       "!vote_en.wikipedia.org_desktop_all-agents              ...          3.723600   \n",
       "\"Awaken,_My_Love!\"_en.wikipedia.org_all-access_...     ...       1731.517459   \n",
       "\"Awaken,_My_Love!\"_en.wikipedia.org_all-access_...     ...         22.804153   \n",
       "\"Awaken,_My_Love!\"_en.wikipedia.org_desktop_all...     ...        964.666987   \n",
       "\"European_Society_for_Clinical_Investigation\"_e...     ...               NaN   \n",
       "\"European_Society_for_Clinical_Investigation\"_e...     ...               NaN   \n",
       "\"European_Society_for_Clinical_Investigation\"_e...     ...               NaN   \n",
       "\"Heroes\"_(David_Bowie_album)_en.wikipedia.org_a...     ...        631.034420   \n",
       "\n",
       "                                                             53           54  \\\n",
       "!vote_en.wikipedia.org_all-access_all-agents           5.925722     5.776878   \n",
       "!vote_en.wikipedia.org_all-access_spider               1.300531     1.302904   \n",
       "!vote_en.wikipedia.org_desktop_all-agents              3.849292     3.724926   \n",
       "\"Awaken,_My_Love!\"_en.wikipedia.org_all-access_...  1706.123468  1777.459489   \n",
       "\"Awaken,_My_Love!\"_en.wikipedia.org_all-access_...    22.297835    24.023360   \n",
       "\"Awaken,_My_Love!\"_en.wikipedia.org_desktop_all...   909.947846   961.139272   \n",
       "\"European_Society_for_Clinical_Investigation\"_e...          NaN          NaN   \n",
       "\"European_Society_for_Clinical_Investigation\"_e...          NaN          NaN   \n",
       "\"European_Society_for_Clinical_Investigation\"_e...          NaN          NaN   \n",
       "\"Heroes\"_(David_Bowie_album)_en.wikipedia.org_a...   627.736765   631.558379   \n",
       "\n",
       "                                                             55           56  \\\n",
       "!vote_en.wikipedia.org_all-access_all-agents           6.249854     6.010450   \n",
       "!vote_en.wikipedia.org_all-access_spider               1.617893     1.348094   \n",
       "!vote_en.wikipedia.org_desktop_all-agents              3.772109     3.850049   \n",
       "\"Awaken,_My_Love!\"_en.wikipedia.org_all-access_...  1812.930022  1810.773625   \n",
       "\"Awaken,_My_Love!\"_en.wikipedia.org_all-access_...    24.340642    23.743595   \n",
       "\"Awaken,_My_Love!\"_en.wikipedia.org_desktop_all...  1004.553683  1009.294501   \n",
       "\"European_Society_for_Clinical_Investigation\"_e...          NaN          NaN   \n",
       "\"European_Society_for_Clinical_Investigation\"_e...          NaN          NaN   \n",
       "\"European_Society_for_Clinical_Investigation\"_e...          NaN          NaN   \n",
       "\"Heroes\"_(David_Bowie_album)_en.wikipedia.org_a...   639.040306   635.561797   \n",
       "\n",
       "                                                             57           58  \\\n",
       "!vote_en.wikipedia.org_all-access_all-agents           5.987848     6.281604   \n",
       "!vote_en.wikipedia.org_all-access_spider               1.335509     1.308720   \n",
       "!vote_en.wikipedia.org_desktop_all-agents              3.834877     3.804725   \n",
       "\"Awaken,_My_Love!\"_en.wikipedia.org_all-access_...  1790.657598  1783.962025   \n",
       "\"Awaken,_My_Love!\"_en.wikipedia.org_all-access_...    21.396038    22.375979   \n",
       "\"Awaken,_My_Love!\"_en.wikipedia.org_desktop_all...   997.471124  1002.295861   \n",
       "\"European_Society_for_Clinical_Investigation\"_e...          NaN          NaN   \n",
       "\"European_Society_for_Clinical_Investigation\"_e...          NaN          NaN   \n",
       "\"European_Society_for_Clinical_Investigation\"_e...          NaN          NaN   \n",
       "\"Heroes\"_(David_Bowie_album)_en.wikipedia.org_a...   626.739446   635.755840   \n",
       "\n",
       "                                                             59           60  \\\n",
       "!vote_en.wikipedia.org_all-access_all-agents           6.295643     5.974740   \n",
       "!vote_en.wikipedia.org_all-access_spider               1.318513     1.327417   \n",
       "!vote_en.wikipedia.org_desktop_all-agents              3.816557     3.830238   \n",
       "\"Awaken,_My_Love!\"_en.wikipedia.org_all-access_...  1753.681145  1722.835611   \n",
       "\"Awaken,_My_Love!\"_en.wikipedia.org_all-access_...    22.738594    22.062615   \n",
       "\"Awaken,_My_Love!\"_en.wikipedia.org_desktop_all...   974.559703   917.804051   \n",
       "\"European_Society_for_Clinical_Investigation\"_e...          NaN          NaN   \n",
       "\"European_Society_for_Clinical_Investigation\"_e...          NaN          NaN   \n",
       "\"European_Society_for_Clinical_Investigation\"_e...          NaN          NaN   \n",
       "\"Heroes\"_(David_Bowie_album)_en.wikipedia.org_a...   628.862879   628.011633   \n",
       "\n",
       "                                                             61  \n",
       "!vote_en.wikipedia.org_all-access_all-agents           5.965615  \n",
       "!vote_en.wikipedia.org_all-access_spider               1.335781  \n",
       "!vote_en.wikipedia.org_desktop_all-agents              3.832581  \n",
       "\"Awaken,_My_Love!\"_en.wikipedia.org_all-access_...  1786.829035  \n",
       "\"Awaken,_My_Love!\"_en.wikipedia.org_all-access_...    24.095005  \n",
       "\"Awaken,_My_Love!\"_en.wikipedia.org_desktop_all...   967.191721  \n",
       "\"European_Society_for_Clinical_Investigation\"_e...          NaN  \n",
       "\"European_Society_for_Clinical_Investigation\"_e...          NaN  \n",
       "\"European_Society_for_Clinical_Investigation\"_e...          NaN  \n",
       "\"Heroes\"_(David_Bowie_album)_en.wikipedia.org_a...   632.513096  \n",
       "\n",
       "[10 rows x 62 columns]"
      ]
     },
     "execution_count": 77,
     "metadata": {},
     "output_type": "execute_result"
    }
   ],
   "source": [
    "df.head(10)"
   ]
  },
  {
   "cell_type": "code",
   "execution_count": 81,
   "metadata": {
    "collapsed": true
   },
   "outputs": [],
   "source": [
    "ss_ids = ss.Id.values\n",
    "ss_visits = ss.Visits.values\n",
    "\n",
    "for i, ss_id in enumerate(ss_ids):\n",
    "    page, date = d_pages[ss_id]\n",
    "    try:\n",
    "        ss_visits[i] = page_predictions[page][dates_indexes[date]]\n",
    "    except:\n",
    "        ss_visits[i] = 0"
   ]
  },
  {
   "cell_type": "code",
   "execution_count": 82,
   "metadata": {
    "collapsed": true
   },
   "outputs": [],
   "source": [
    "subm = pd.DataFrame({'Id': ss_ids, 'Visits': ss_visits})\n",
    "subm.to_csv('submission_rnd.csv', index=False)"
   ]
  },
  {
   "cell_type": "code",
   "execution_count": null,
   "metadata": {
    "collapsed": true
   },
   "outputs": [],
   "source": []
  }
 ],
 "metadata": {
  "kernelspec": {
   "display_name": "Python 3",
   "language": "python",
   "name": "python3"
  },
  "language_info": {
   "codemirror_mode": {
    "name": "ipython",
    "version": 3
   },
   "file_extension": ".py",
   "mimetype": "text/x-python",
   "name": "python",
   "nbconvert_exporter": "python",
   "pygments_lexer": "ipython3",
   "version": "3.6.1"
  },
  "varInspector": {
   "cols": {
    "lenName": 16,
    "lenType": 16,
    "lenVar": 40
   },
   "kernels_config": {
    "python": {
     "delete_cmd_postfix": "",
     "delete_cmd_prefix": "del ",
     "library": "var_list.py",
     "varRefreshCmd": "print(var_dic_list())"
    },
    "r": {
     "delete_cmd_postfix": ") ",
     "delete_cmd_prefix": "rm(",
     "library": "var_list.r",
     "varRefreshCmd": "cat(var_dic_list()) "
    }
   },
   "types_to_exclude": [
    "module",
    "function",
    "builtin_function_or_method",
    "instance",
    "_Feature"
   ],
   "window_display": false
  }
 },
 "nbformat": 4,
 "nbformat_minor": 2
}
