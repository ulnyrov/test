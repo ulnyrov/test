{
 "cells": [
  {
   "cell_type": "code",
   "execution_count": null,
   "metadata": {},
   "outputs": [],
   "source": [
    "import warnings\n",
    "warnings.filterwarnings(\"ignore\")\n",
    "\n",
    "import pandas as pd\n",
    "import numpy as np\n",
    "\n",
    "import keras.backend as K\n",
    "from keras.models import Sequential  \n",
    "from keras.layers.core import Dense, Activation  \n",
    "from keras.layers.recurrent import LSTM"
   ]
  },
  {
   "cell_type": "code",
   "execution_count": null,
   "metadata": {},
   "outputs": [],
   "source": [
    "train = pd.read_csv('/Users/dimamuzalevskiy/desktop/all/train_1.csv').fillna(0)\n",
    "df = train.transpose()\n",
    "\n",
    "df.columns = df.iloc[0]\n",
    "df = df[1:]\n",
    "y = []\n",
    "\n",
    "for i in range(1,df.shape[1]):    \n",
    "    l = df.iloc[0:,i]   \n",
    "    y.append(list(map(int,l)))"
   ]
  },
  {
   "cell_type": "code",
   "execution_count": null,
   "metadata": {},
   "outputs": [],
   "source": [
    "df.head()"
   ]
  },
  {
   "cell_type": "code",
   "execution_count": null,
   "metadata": {},
   "outputs": [],
   "source": [
    "def network():\n",
    "\n",
    "    in_out_neurons = 40 \n",
    "    hidden_neurons = 200\n",
    "\n",
    "    model = Sequential()\n",
    "    model.add(LSTM(hidden_neurons, return_sequences=False, input_shape=(None, in_out_neurons)))\n",
    "    model.add(Dense(in_out_neurons, input_dim=hidden_neurons))  \n",
    "    model.add(Activation(\"linear\")) \n",
    "    model.compile(optimizer=\"Adam\", loss=smape_loss) \n",
    "    \n",
    "    return model"
   ]
  },
  {
   "cell_type": "code",
   "execution_count": null,
   "metadata": {},
   "outputs": [],
   "source": [
    "def smape_loss(y_true, y_pred):\n",
    "    \n",
    "    diff = K.abs((y_true - y_pred) / K.clip(K.abs(y_true) + K.abs(y_pred), K.epsilon(), None))\n",
    "    \n",
    "    return 200 * K.mean(diff, axis=-1)"
   ]
  },
  {
   "cell_type": "code",
   "execution_count": null,
   "metadata": {},
   "outputs": [],
   "source": [
    "model=network()\n",
    "model.summary()"
   ]
  },
  {
   "cell_type": "code",
   "execution_count": null,
   "metadata": {},
   "outputs": [],
   "source": [
    "def input_data(data, look = 3):  \n",
    "\n",
    "    X = []\n",
    "    Y = []\n",
    "    \n",
    "    for i in range(len(data)-look):\n",
    "        \n",
    "        X.append(data.iloc[i:i+look].as_matrix())\n",
    "        Y.append(data.iloc[i+look].as_matrix())\n",
    "        \n",
    "    X = np.array(X)\n",
    "    Y = np.array(Y)\n",
    "\n",
    "    return X, Y"
   ]
  },
  {
   "cell_type": "code",
   "execution_count": null,
   "metadata": {},
   "outputs": [],
   "source": [
    "def train_test_split(df, test_size=0.2):  \n",
    "\n",
    "    n = round(len(df) * (1 - test_size))\n",
    "\n",
    "    X_train, y_train = input_data(df.iloc[0:n])\n",
    "    X_test, y_test = input_data(df.iloc[n:])\n",
    "\n",
    "    return (X_train, y_train), (X_test, y_test)"
   ]
  },
  {
   "cell_type": "code",
   "execution_count": null,
   "metadata": {},
   "outputs": [],
   "source": [
    "values = df.iloc[:,:40]\n",
    "values.head()"
   ]
  },
  {
   "cell_type": "code",
   "execution_count": null,
   "metadata": {},
   "outputs": [],
   "source": [
    "(X_train, y_train), (X_test, y_test)=train_test_split(values)"
   ]
  },
  {
   "cell_type": "code",
   "execution_count": null,
   "metadata": {},
   "outputs": [],
   "source": [
    "X_train.shape,X_test.shape, y_train.shape,y_test.shape"
   ]
  },
  {
   "cell_type": "code",
   "execution_count": null,
   "metadata": {},
   "outputs": [],
   "source": [
    "model=network()\n",
    "model.fit(X_train, y_train, batch_size=10, epochs=10, validation_split=0.05)"
   ]
  },
  {
   "cell_type": "code",
   "execution_count": null,
   "metadata": {},
   "outputs": [],
   "source": [
    "predicted = model.predict(X_test)\n",
    "error =(((np.abs(y_test - predicted)) /(np.abs(y_test) + np.abs(predicted))) * 200).mean(axis=0)\n",
    "error.mean()"
   ]
  },
  {
   "cell_type": "code",
   "execution_count": null,
   "metadata": {},
   "outputs": [],
   "source": [
    "predicted.shape"
   ]
  },
  {
   "cell_type": "code",
   "execution_count": null,
   "metadata": {},
   "outputs": [],
   "source": [
    "series = []\n",
    "\n",
    "for i in range(0,df.shape[1],40):\n",
    "    \n",
    "    series.append(i)"
   ]
  },
  {
   "cell_type": "code",
   "execution_count": null,
   "metadata": {},
   "outputs": [],
   "source": [
    "models = []\n",
    "result = []"
   ]
  },
  {
   "cell_type": "code",
   "execution_count": null,
   "metadata": {},
   "outputs": [],
   "source": [
    "for i in range(1,len(series)):\n",
    "    \n",
    "    values = df.iloc[:,series[i-1]:series[i]]\n",
    "    (X_train, y_train), (X_test, y_test)=train_test_split(values)\n",
    "    model = network()\n",
    "    model.fit(X_train, y_train, batch_size=10, epochs=10, validation_split=0.05)\n",
    "    predicted = model.predict(X_test)\n",
    "    error =(((np.abs(y_test - predicted)) /(np.abs(y_test) + np.abs(predicted))) * 200).mean(axis=0)\n",
    "    result.append(error.mean())\n",
    "    models.append(model)"
   ]
  }
 ],
 "metadata": {
  "kernelspec": {
   "display_name": "Python 3",
   "language": "python",
   "name": "python3"
  },
  "language_info": {
   "codemirror_mode": {
    "name": "ipython",
    "version": 3
   },
   "file_extension": ".py",
   "mimetype": "text/x-python",
   "name": "python",
   "nbconvert_exporter": "python",
   "pygments_lexer": "ipython3",
   "version": "3.6.4"
  }
 },
 "nbformat": 4,
 "nbformat_minor": 2
}
